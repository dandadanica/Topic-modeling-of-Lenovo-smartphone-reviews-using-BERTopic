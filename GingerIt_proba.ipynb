{
 "cells": [
  {
   "cell_type": "code",
   "execution_count": 1,
   "id": "c156307f",
   "metadata": {},
   "outputs": [],
   "source": [
    "import numpy as np\n",
    "import pandas as pd"
   ]
  },
  {
   "cell_type": "code",
   "execution_count": 2,
   "id": "9048f9ad",
   "metadata": {},
   "outputs": [],
   "source": [
    "data = pd.read_csv(\"K8 Reviews v0.2.csv\", index_col=0 ,sep=',')"
   ]
  },
  {
   "cell_type": "code",
   "execution_count": 3,
   "id": "702ba2a1",
   "metadata": {},
   "outputs": [
    {
     "data": {
      "text/html": [
       "<div>\n",
       "<style scoped>\n",
       "    .dataframe tbody tr th:only-of-type {\n",
       "        vertical-align: middle;\n",
       "    }\n",
       "\n",
       "    .dataframe tbody tr th {\n",
       "        vertical-align: top;\n",
       "    }\n",
       "\n",
       "    .dataframe thead th {\n",
       "        text-align: right;\n",
       "    }\n",
       "</style>\n",
       "<table border=\"1\" class=\"dataframe\">\n",
       "  <thead>\n",
       "    <tr style=\"text-align: right;\">\n",
       "      <th></th>\n",
       "      <th>review</th>\n",
       "    </tr>\n",
       "    <tr>\n",
       "      <th>sentiment</th>\n",
       "      <th></th>\n",
       "    </tr>\n",
       "  </thead>\n",
       "  <tbody>\n",
       "    <tr>\n",
       "      <th>1</th>\n",
       "      <td>Good but need updates and improvements</td>\n",
       "    </tr>\n",
       "    <tr>\n",
       "      <th>0</th>\n",
       "      <td>Worst mobile i have bought ever, Battery is dr...</td>\n",
       "    </tr>\n",
       "    <tr>\n",
       "      <th>1</th>\n",
       "      <td>when I will get my 10% cash back.... its alrea...</td>\n",
       "    </tr>\n",
       "    <tr>\n",
       "      <th>1</th>\n",
       "      <td>Good</td>\n",
       "    </tr>\n",
       "    <tr>\n",
       "      <th>0</th>\n",
       "      <td>The worst phone everThey have changed the last...</td>\n",
       "    </tr>\n",
       "    <tr>\n",
       "      <th>...</th>\n",
       "      <td>...</td>\n",
       "    </tr>\n",
       "    <tr>\n",
       "      <th>1</th>\n",
       "      <td>I really like the phone, Everything is working...</td>\n",
       "    </tr>\n",
       "    <tr>\n",
       "      <th>1</th>\n",
       "      <td>The Lenovo K8 Note is awesome. It takes best p...</td>\n",
       "    </tr>\n",
       "    <tr>\n",
       "      <th>1</th>\n",
       "      <td>Awesome Gaget.. @ this price</td>\n",
       "    </tr>\n",
       "    <tr>\n",
       "      <th>1</th>\n",
       "      <td>This phone is nice processing will be successf...</td>\n",
       "    </tr>\n",
       "    <tr>\n",
       "      <th>1</th>\n",
       "      <td>Good product but the pakeging was not enough.</td>\n",
       "    </tr>\n",
       "  </tbody>\n",
       "</table>\n",
       "<p>14675 rows × 1 columns</p>\n",
       "</div>"
      ],
      "text/plain": [
       "                                                      review\n",
       "sentiment                                                   \n",
       "1                     Good but need updates and improvements\n",
       "0          Worst mobile i have bought ever, Battery is dr...\n",
       "1          when I will get my 10% cash back.... its alrea...\n",
       "1                                                       Good\n",
       "0          The worst phone everThey have changed the last...\n",
       "...                                                      ...\n",
       "1          I really like the phone, Everything is working...\n",
       "1          The Lenovo K8 Note is awesome. It takes best p...\n",
       "1                               Awesome Gaget.. @ this price\n",
       "1          This phone is nice processing will be successf...\n",
       "1              Good product but the pakeging was not enough.\n",
       "\n",
       "[14675 rows x 1 columns]"
      ]
     },
     "execution_count": 3,
     "metadata": {},
     "output_type": "execute_result"
    }
   ],
   "source": [
    "data"
   ]
  },
  {
   "cell_type": "code",
   "execution_count": 4,
   "id": "594e3068",
   "metadata": {},
   "outputs": [
    {
     "data": {
      "text/plain": [
       "Int64Index([1, 0, 1, 1, 0, 0, 1, 0, 0, 0,\n",
       "            ...\n",
       "            1, 0, 1, 0, 0, 1, 1, 1, 1, 1],\n",
       "           dtype='int64', name='sentiment', length=14675)"
      ]
     },
     "execution_count": 4,
     "metadata": {},
     "output_type": "execute_result"
    }
   ],
   "source": [
    "data.index"
   ]
  },
  {
   "cell_type": "code",
   "execution_count": 5,
   "id": "ecf8e61f",
   "metadata": {},
   "outputs": [],
   "source": [
    "data['index'] = range(1, len(data) + 1)"
   ]
  },
  {
   "cell_type": "code",
   "execution_count": 6,
   "id": "c1442bff",
   "metadata": {},
   "outputs": [],
   "source": [
    "data = data.set_index(\"index\")"
   ]
  },
  {
   "cell_type": "code",
   "execution_count": 7,
   "id": "ad3e9f62",
   "metadata": {},
   "outputs": [
    {
     "data": {
      "text/html": [
       "<div>\n",
       "<style scoped>\n",
       "    .dataframe tbody tr th:only-of-type {\n",
       "        vertical-align: middle;\n",
       "    }\n",
       "\n",
       "    .dataframe tbody tr th {\n",
       "        vertical-align: top;\n",
       "    }\n",
       "\n",
       "    .dataframe thead th {\n",
       "        text-align: right;\n",
       "    }\n",
       "</style>\n",
       "<table border=\"1\" class=\"dataframe\">\n",
       "  <thead>\n",
       "    <tr style=\"text-align: right;\">\n",
       "      <th></th>\n",
       "      <th>review</th>\n",
       "    </tr>\n",
       "    <tr>\n",
       "      <th>index</th>\n",
       "      <th></th>\n",
       "    </tr>\n",
       "  </thead>\n",
       "  <tbody>\n",
       "    <tr>\n",
       "      <th>1</th>\n",
       "      <td>Good but need updates and improvements</td>\n",
       "    </tr>\n",
       "    <tr>\n",
       "      <th>2</th>\n",
       "      <td>Worst mobile i have bought ever, Battery is dr...</td>\n",
       "    </tr>\n",
       "    <tr>\n",
       "      <th>3</th>\n",
       "      <td>when I will get my 10% cash back.... its alrea...</td>\n",
       "    </tr>\n",
       "    <tr>\n",
       "      <th>4</th>\n",
       "      <td>Good</td>\n",
       "    </tr>\n",
       "    <tr>\n",
       "      <th>5</th>\n",
       "      <td>The worst phone everThey have changed the last...</td>\n",
       "    </tr>\n",
       "    <tr>\n",
       "      <th>...</th>\n",
       "      <td>...</td>\n",
       "    </tr>\n",
       "    <tr>\n",
       "      <th>14671</th>\n",
       "      <td>I really like the phone, Everything is working...</td>\n",
       "    </tr>\n",
       "    <tr>\n",
       "      <th>14672</th>\n",
       "      <td>The Lenovo K8 Note is awesome. It takes best p...</td>\n",
       "    </tr>\n",
       "    <tr>\n",
       "      <th>14673</th>\n",
       "      <td>Awesome Gaget.. @ this price</td>\n",
       "    </tr>\n",
       "    <tr>\n",
       "      <th>14674</th>\n",
       "      <td>This phone is nice processing will be successf...</td>\n",
       "    </tr>\n",
       "    <tr>\n",
       "      <th>14675</th>\n",
       "      <td>Good product but the pakeging was not enough.</td>\n",
       "    </tr>\n",
       "  </tbody>\n",
       "</table>\n",
       "<p>14675 rows × 1 columns</p>\n",
       "</div>"
      ],
      "text/plain": [
       "                                                  review\n",
       "index                                                   \n",
       "1                 Good but need updates and improvements\n",
       "2      Worst mobile i have bought ever, Battery is dr...\n",
       "3      when I will get my 10% cash back.... its alrea...\n",
       "4                                                   Good\n",
       "5      The worst phone everThey have changed the last...\n",
       "...                                                  ...\n",
       "14671  I really like the phone, Everything is working...\n",
       "14672  The Lenovo K8 Note is awesome. It takes best p...\n",
       "14673                       Awesome Gaget.. @ this price\n",
       "14674  This phone is nice processing will be successf...\n",
       "14675      Good product but the pakeging was not enough.\n",
       "\n",
       "[14675 rows x 1 columns]"
      ]
     },
     "execution_count": 7,
     "metadata": {},
     "output_type": "execute_result"
    }
   ],
   "source": [
    "data"
   ]
  },
  {
   "cell_type": "code",
   "execution_count": 8,
   "id": "2149868c",
   "metadata": {},
   "outputs": [],
   "source": [
    "data['clean_text'] = data['review'].apply(lambda x: str(x).lower())"
   ]
  },
  {
   "cell_type": "code",
   "execution_count": 9,
   "id": "1981d3e7",
   "metadata": {},
   "outputs": [],
   "source": [
    "data['clean_text'] = data['clean_text'].str.replace(r'[^a-zA-Z\\s]', ' ',regex=True) "
   ]
  },
  {
   "cell_type": "code",
   "execution_count": 10,
   "id": "3b871782",
   "metadata": {},
   "outputs": [],
   "source": [
    "data['clean_text'] = data['clean_text'].str.replace(r'\\s{2,}', ' ',regex=True)"
   ]
  },
  {
   "cell_type": "code",
   "execution_count": 11,
   "id": "bca474db",
   "metadata": {},
   "outputs": [],
   "source": [
    "clean_text = data['clean_text'].to_list()"
   ]
  },
  {
   "cell_type": "code",
   "execution_count": 12,
   "id": "d8e29803",
   "metadata": {},
   "outputs": [
    {
     "data": {
      "text/plain": [
       "['good but need updates and improvements',\n",
       " 'worst mobile i have bought ever battery is draining like hell backup is only to hours with internet uses even if i put mobile idle its getting discharged this is biggest lie from amazon lenove which is not at all expected they are making full by saying that battery is mah booster charger is fake it takes at least to hours to be fully charged don t know how lenovo will survive by making full of us please don t go for this else you will regret like me ',\n",
       " 'when i will get my cash back its already january ',\n",
       " 'good',\n",
       " 'the worst phone everthey have changed the last phone but the problem is still same and the amazon is not returning the phone highly disappointing of amazon',\n",
       " 'only i m telling don t buyi m totally disappointedpoor batterypoor camerawaste of money',\n",
       " 'phone is awesome but while charging it heats up allot really a genuine reason to hate lenovo k note',\n",
       " 'the battery level has worn down',\n",
       " 'it s over hitting problems and phone hanging problems lenovo k note so where is service station in ahmedabad it s one years warranty so it s can change the phone by lenovo',\n",
       " 'a lot of glitches dont buy this thing better go for some other options',\n",
       " 'wrost',\n",
       " 'good phone but charger not working damage within months ',\n",
       " 'don t purchase this item it is so much of heating battery life is very poor',\n",
       " 'i have faced the battery problem and motherboard problem with in months this is the worst mobile in my life ',\n",
       " 'very good phone slim good battry backup good screen love it',\n",
       " 'headset is not available',\n",
       " 'every time automatic on and off so kindly suggest me what i can do',\n",
       " 'best product according to their prize range and it s specification comparison to another mobile under range and i had bought this phone during amazon seal so i had paid only but i have also hdpf credit card in which i was to paid only rs so for me it was of the best deal ever which i hv done on amazon ',\n",
       " 'battery draining very rapidly i don t know why tell me possible solutions for battery life',\n",
       " 'good smartphone',\n",
       " 'good',\n",
       " 'galery problem and there is not atmos speakernormal speaker in this phone',\n",
       " 'excellent camera excellent speed excellent features excelent battery ',\n",
       " 'it ok good product',\n",
       " 'it is not a very good product camera are very poor os is not good battery draining very quickly like a odinary phone it was fully unexpected product from lenovo ',\n",
       " 'does not have many options like cast screen with or without wifi no call recording option available doesn t even connect mobile hotspot',\n",
       " 'they have not gave with phone usb cable',\n",
       " 'awesome phone in this price and this is my second mobile from lenovo it is fast and display has been improved ',\n",
       " 'the best of specifications with worst of functions the worst phone any can ever buy ',\n",
       " 'i bouth this fon but i am surprised to see that this fon has two speekars but only one ringing other is non ringing i am disappointed ',\n",
       " 'good phone but there is some issue in displaying colors on screen ',\n",
       " 'before the new update of oreo it worked superbly the battery back up is also superb and there is not that much heating problem but after that update my phone got heating up simply battery is also draining unnecessarily really very much disappointed after that update of oreo ',\n",
       " 'not a good one dual sim are not working poor customer service ',\n",
       " 'good performance but the battery gets oveheated',\n",
       " 'best camera and better backup is very bestin this pricefull passa wasole phone',\n",
       " 'wonderful best phone',\n",
       " 'bad performance signal goes off frequently mobile restarts whenever it feels like phone bcoms hot while charging plzz dont buy it ',\n",
       " 'best all round performance ever ',\n",
       " 'by purchasing this we have loosed by rs within span of days no trust worthy deals from amazon ',\n",
       " 'not worth it s big disappointment from lenovo signal problems big headache problems with incoming calls and always show that you are not in range ',\n",
       " 'best phone in this rate camera quality is too good',\n",
       " 'it works very well ',\n",
       " 'amazing product very good mobile at lower price good features ',\n",
       " 'very good mobile at this price good quality of camera and it is fast for using',\n",
       " 'after using only mins continuously it get heated camera quality is also not good ',\n",
       " 'worst phone i have ever purchased bigggggggest charging issue ',\n",
       " 'poor',\n",
       " 'i purchased k at first sell but charging of phone is very slow its take around hr to full charge ',\n",
       " 'ekdam bakwaaaasssdon t buy it network problem is permanent in lenovo k and camera quality very lowbattery performance also very lowpls don t buy it',\n",
       " 'good phone',\n",
       " 'nice performance with gb rm and gb inbuilt memory',\n",
       " 'superb featurs good battery loved this phone ',\n",
       " 'value for money',\n",
       " 'nice',\n",
       " 'this is very beautiful and good looking this lenovo k ',\n",
       " 'bluetooth problem while connecting bluetooth speaker audio breakups were happened heating problem while we see you on youtube half an hour',\n",
       " 'good phone but heating problem exists but it is a better choice ',\n",
       " 'battery standby problem',\n",
       " 'nice mobile long battery back up really killer camera and jet speed to run any apps ',\n",
       " 'amazing product',\n",
       " 'ok',\n",
       " 'not as described screen cast can t work with tv miracast and fast charging is take upto hours contacts vcf files only download with google drive not by sd card total disappointed',\n",
       " 'this is the device for average usage battery could not last for a day the biggest con of this phone is its battery though it has mah battery but it drains very fast camera quality is good not very good specially depth enabled mode focus is not perfect the thing i like most about this device is display ',\n",
       " 'good',\n",
       " 'india ka werorst mobile battery fully charged offer hour using to network signals full but incoming calls is out of coverage area lenovo is cheating people ',\n",
       " 'nice mobile ',\n",
       " 'mobile is good in this range but battery backup not up to the mark weight also very high ',\n",
       " 'good to have it at this price point',\n",
       " 'improve in camera in new update slow mo added and no heating issue now but still need system updated system updates are very slow',\n",
       " 'superb',\n",
       " 'excellent mobile phone',\n",
       " 'very very good product and its really fast',\n",
       " 'fast delivery but mobile not worth rs no gestures no latest features heating issues better choose other brands ',\n",
       " 'best mobile great specifications camera is too cleare focus is too sharp and fast thanks amazon and lenovo for such mobile must buy guys',\n",
       " 'verigood verigood best',\n",
       " 'firstly product not delivered on time dissatisfied weeks secondly android naugat doesn t have call recording optionthirdly when selling product cost was now why drastically dropped fourthly when talking over the phone feels like nerve pulling to much radiation need immediate fix on this matter as it s safety and security of customer fifthly if any issues in hardware issues please let us know the service centers location and please ensure hardware availability should be there at any time when customers booked finally as discribed about product all features are ok no issues found as mentioned earlier if call recording option would have added the this product would have been met the expectations camera quality is good not bad snap attached ',\n",
       " 'excellent product',\n",
       " 'nice amazing',\n",
       " 'the device restarts automatically ',\n",
       " 'bought this product recently from amazon thoroughly dissatisfied with the phone a thumbs down for this one ',\n",
       " 'really killer',\n",
       " 'hello all before you purchase remember battery performance of this device is very very poor check the picture i attached there was no use from hours sleeping and i make sure data was off still see battery draining in idle mode really bad performanc and this super turbo charger they calling is waste its below thn average charger really disappointed i have just raised return request pros rest all good cameradesignperformance etc',\n",
       " 'to wrest phone is hang problem',\n",
       " 'happy with the product ',\n",
       " 'very bad product lots of malfunction donot take this product',\n",
       " 'the look and sleekness of this phone is good but the features in this phone is very less as this phone doesn t have the basic features like no sound controler option in shortcut shutter and most importantly there is no voice call recorder and the camera quality is also not good it is average in performance ',\n",
       " 'third class phone this time lenovo disappointed me i have k and k note so bought k note without any kind of thinking and disappointed it stucks anytime without any load to ram battery is also third class defuces in very short time and turbo charge works sometimes but most of the time it works as normal charger gallery and many othet apps aren t available as it has stock android best thing is it often shows that process android com stopped workingwhat the ',\n",
       " 'ok with the product but the problem was it gets shut down while charging',\n",
       " 'i love lenovo k note handset but i replace times turbo charger in allahabad service centre within month it becomes turbo charging to slow charging plz lenovo fix it i request u',\n",
       " 'really good to buy',\n",
       " 'great features ',\n",
       " 'gift raping is very poorwords also very small please refund money for that work ',\n",
       " 'i personally don t recommend to buy this product if anyone want to connect tv over cast screen option option is available but not compatible with any other device other than chromecast for casting though it was available for other model of lenovo phone ',\n",
       " 'good',\n",
       " 'if you are looking for a mid range phone u can go for this features are pretty good but some small problems arises now and then if ignored then worth the money',\n",
       " 'as sim slot was not working i returned and got fast delivery too so giving star bcz i m lenovo fan and i just love mobile the best mobile of this year it get hot in less time but i guess we ca ignore it bcz the phone is v good and with lots of good features and killer look too ',\n",
       " 'worst for gaming and music i bought this for the deca core processor it has but it works worse than a quad core processed phone and it said it has speakers but one of them left doesn t have a speaker just holes to cheat buyers decent camera and display battery could be made better and the ram keeps on working for even while the phone is not in use ',\n",
       " 'really awsome',\n",
       " 'there is heating and battery backup problem',\n",
       " 'nice phone ',\n",
       " 'product is good purchased on sep and got cash back on dec what a way to make fool they called it cash back lol',\n",
       " 'nice mobile',\n",
       " 'mobile is good but heating problem is one thing that effecting it s popularity ',\n",
       " 'in this segment it s very good productcamera is also greatsound is greatover all superb',\n",
       " 'mobile in good working process more than expect but charger have big drawback it s not a turbo charger very late charging the mobile',\n",
       " 'worst experience from lenovo previously i bought k note and got mic problems and now i m facing battery problem camera problems plz dont buy lenovo phones ',\n",
       " 'great phone',\n",
       " 'nice ',\n",
       " 'good mo',\n",
       " 'like it',\n",
       " 'high expectation hurts dual camera is not upto the mark apart from that no issues at all g g logic needs to be made clear ',\n",
       " 'i bought the lenovo k on the first sales day but very much disappointed with the dolby atmos feature on the lenovo k it does not sound good at all when switch on also it sound so weak and not punching at all when i compare it with a lenovo k can i get a sofwares updates to make it sound good or is it that i got a defective phone please let me know at the earliest ',\n",
       " 'it s battery is draining very fast ',\n",
       " 'back camera images not so good a yellow shadow occurred',\n",
       " 'functions of the phone are not good performance is also wrost total waste of money please don t buy this phone what ever they are showing in their add is false please go for mi or any other brand which give very good mobile at this range ',\n",
       " 'nice product',\n",
       " 'the worst phone i bought again from the lenovo before i though with stock android it will perform good but the same story battery drain in idle time dual camera is a joke and still no fix update as lenovo known for it please do not buy it ',\n",
       " 'very good',\n",
       " 'good mobile heating problem but its normal',\n",
       " 'bad quality',\n",
       " 'phn is gud n nice but the battery is draining too fast battery is not mah too bad',\n",
       " 'nice',\n",
       " 'some time display is not working prpperly',\n",
       " 'major disadvantage of this model is battery is not detachable except that all features and working so nice',\n",
       " 'battery backup is very good',\n",
       " 'i am using lenovo k note gb gb model xt type m cb since last ten days i am not fully satisfied with this product because i found one problem amazon described in the product description that this handset has both sim slots with g enabled but it is found that slot support g whereas slot supports only g not g ',\n",
       " 'it s just a okay phone no such effects of dual cameras ',\n",
       " 'not a dual g support',\n",
       " 'one sim slot is g that is disadvantage otherwise awesome',\n",
       " 'features are really good but some backlogs though it has gb ram sometimes mobiles struck and delay in responding mah battery runs out quickly like mah delay in camera operating response delay in contact searching it s irritating when we search for a contact and getting more time to save a contact very worst mobile in this range friends pls don t buy it go for some better mobile i swear u will regret after you use it ',\n",
       " 'very bad camera ',\n",
       " 'front camera good but sound need to improve',\n",
       " 'amazing product in reasonable price range ',\n",
       " 'not expected at all left speaker channel is false only right speaker working camera is avarage double tap wakeup is not working properly earphone sound quality is not better using jbl not satisfied ',\n",
       " 'poor camera',\n",
       " 'not a good product ',\n",
       " 'the product is awesome',\n",
       " 'great phone',\n",
       " 'hang hota hai phone',\n",
       " 'great phone with excellent connectivity quick charging and excellent talk time due to the large battery the twin camera requires steadier hands than mine ota update to android but the bluetooth connection on this phone is intermittent and unstable supplementary information the claimed gorilla glass screen is probably ordinary glass as it cracked as the phone slipped from my grasp while sitting on a sofa lenovo says the screen is not covered reducing rating to two stars ',\n",
       " 'fast delivery delivery is to be provided for all districts good phone feels a bit heavy notification sounds can t be adjusted is a bit annoying photos takes a lot more memory but not as much clarity for that memory other features are good ',\n",
       " 'i want return it',\n",
       " 'me bodru using lenovo k note from th august this mobile s performance so good but it s battery does note perform as another mhz battery mobile so plz check it and try to solve it ',\n",
       " 'very poor batterybattery drain within hrsit s doesn t show the mah performance',\n",
       " 'it is good smooth ',\n",
       " 'not too good configuration is high but auto deduced when calling or listing due to auto touch to screen so huge problem is',\n",
       " 'purchased on nd jan average phone at this price segment though the cameras are supposed to be high performance but not satisfied battery charged quickly and lasts for a full day only lookswise ok lenovo again a name you can trust upon but don t buy with too much expectations simply an average smart phone and off course good for rough use ',\n",
       " 'not expected about the k performance is that much i m really happy about the product in all specifications and the thanks to amazon for given me good and non damaged product in time ',\n",
       " 'the best phone in terms of specifications audio sound battery screen camera ram rom alongwith corning gorilla glass all the best things in a mobile without burning ur pocket ',\n",
       " 'lacks some apps like pc connection etc ',\n",
       " 'good phone after update',\n",
       " 'it s good',\n",
       " 'not a good phone in only month it started hanging with more than gb available memory in the phone camera is not also good now lenovo have to seriously think about the performance of their mid range phones ',\n",
       " 'ye amazon wale both b c hai phn kharida lenovo k note usme game ka hanging issue hai b c replace k ly bolte hai par behanchod layla dete hai bhosdi ke pese jane ke bad service bhi nai dete inka technician bhosdi ka game khelke kenya hai koi problem nai hai in behanchod me copy phone bhej diya much mat kaharidna amazon se bhot bhosdi wale hai ',\n",
       " 'volte calls sms not coming in when the phone is in standby mode ',\n",
       " 'all things are good about this phone smoothly running and no problem till now',\n",
       " 'this phone is goodbut camera is not so good as mp over all it s good phone heating problem during charging',\n",
       " 'worst depth effect honestly if you want to buy a phone with depth effect then go for mi a but this is not for youif you are a selfie holic then i recommend you to buy this phone bcz the selfie here is literally good as compare to other phones in this price range this phone is on top in terms of selfiein terms of processor i ll say that snapdragon is much better then this bcz this phone will not save your battery as redmi phones does and this processor is built on nm technology and snapdragon is on nm that s is battery efficient but lenovo is providing you fast charger which is about w so don t worry you can get your day battery in just hr if you plug your phone on then it will get charge to in just hr which can last upto hrs on minimal usage so if you really want to buy this one i ll recommend you to buy this but keep in mind some cons of this phone when you re buying it ',\n",
       " 'its an excellent phone but sometimes heating problem may occur overall phone is very good in every condition camera quality processor turbo charging and many more fabulous features ',\n",
       " 'good mobile nice parfomce',\n",
       " 'really good product ',\n",
       " 'good',\n",
       " 'one of the best mobiles in recent days',\n",
       " 'no record facilities no adequate instructions to use',\n",
       " 'it s can t compete with redme note ',\n",
       " 'excellent product',\n",
       " 'hello guys i am rasidul kaji when announced the killar phone lenovo k note i saw the feature decide to buy bu aftwr th days using lenovo disappointed to me because the is much more heating when playing simple game ex temple run i hate this type of heating problem in my opinion guys do not buy this product west your money i return this product',\n",
       " 'not a good phone battery life is very poor and this phone has hang issue ',\n",
       " 'nice phone',\n",
       " 'automatic call recorder not availablebattery backup not goodbelow key light not availableheating problem',\n",
       " 'good mobile good performance thanx to amazon ',\n",
       " 'phone is just ok don t expect much ',\n",
       " 'wrost mobile heating too quickly battery charge takes a lot of tym in turbo chrger not good selfie camera so plzz don t buy this mobile',\n",
       " 'good handset but accessories are bad quality charger damaged in month ',\n",
       " 'battery drains too fast even when kept idle please do not buy until lenovo do something about this they know this issue and are cheating customers ',\n",
       " 'super',\n",
       " 'nice one ',\n",
       " 'love it ',\n",
       " 'as per the description it is updated with new software unfortunately its the same older one no update already made ',\n",
       " 'don t buy this product ekdum bakwas',\n",
       " 'excellent performance ',\n",
       " 'battery back up is frustrating getting discharged very fast camera is also not as claimed made mistake in buying this phone ',\n",
       " 'battery backup is very poor',\n",
       " 'very nice phone st time charging may led to heating battery was good side buttons was very loose this is a problem deapth sensing mode is so so finger print senser was very fast front camera was good and back also screen is very good covered with gorilla glass phone is very fast it require st update when you start it overall for my opinion phone was good ',\n",
       " 'works well with long lasting battery and with less heating even with double sim and mobile data ',\n",
       " 'nice camera clarity with good battery backup screen quality is really nice useful product highly recommend to all age group ',\n",
       " 'thank u amazon for delivering in days phone is nice at this price battery is performing good not satisfied in depth camera mode and every thing is fantastic in this phone i used me this after days of use this phone is performing well',\n",
       " 'good product it is fast fast operating system it doesn t get hang good storagesat a time internet and calling is good because of a lte network over g overall it is a best product i love it ',\n",
       " 'normal smartphone with bit of bugs with for the cost ',\n",
       " 'very very poor product',\n",
       " 'worst phone several issues no proper response from lenovo customer care why should we roam around service center after giving our k to this idiots seriously don t buy full of crap and traps',\n",
       " 'lovely',\n",
       " 'phone is very good but i ordered a venom black variant received gold variant its so pathetic i am going to return the phone ',\n",
       " 'very good',\n",
       " 'very good ',\n",
       " 'battery performance and charging time is really bad and worst',\n",
       " 'good phone smoothly work touchscreen',\n",
       " 'great features under k rs i m totally satisfied with it',\n",
       " 'amazing performance',\n",
       " 'worth the money amazing service by amazon ',\n",
       " 'worthy purchase using from approx last months handy smooth touch ',\n",
       " 'perfect product happy thanks ',\n",
       " 'product is worst even amazon and lenovo is not supporting properly if there is an issue',\n",
       " 'one of the worst phone i purchased phone has some serious os issues but technician could not able to crack it amazon is not ready to refund the amount they are cheating please do not buy don t go for amazon too ',\n",
       " 'very bad i got defected piece headphone jack and hotspot not working ',\n",
       " 'poor battery and a lot of heating even for normal usage i ll prefer moto g compare to this ',\n",
       " 'when i dubble tap on image that can t zoom why ',\n",
       " 'in this phone don t have gallery opetion or menu fix this problem as soon as',\n",
       " 'after using for a month found issues which annoying for me call recorder only records one side voice because of stock android network reception is poor compared other devices not getting proper network for any of the network service provider flactuating and sometimes goes down to zero i have raised the complaint for any possible solution on lenovo forum but haven t got anything yet and don t think got anything in future also',\n",
       " 'very poor sound quality ',\n",
       " 'asome phone',\n",
       " 'the worst products i have ever buy ',\n",
       " 'too much heating battery drains up very very quickly issues with mic most of the time calls inaudible please don t buy it ',\n",
       " 'express delivery',\n",
       " 'very nice lenovo k note no problem when connecting to pc laptop battery backup is very good both cameras are very good quality ',\n",
       " 'good',\n",
       " 'nice phone with great features at this price but only problem is my phone gets off anytime without any reason complained to amazon for exchange waiting for amazon s response ',\n",
       " 'very gud phone excellent resolution and camera is supurb but i m having some battery and heating issues ',\n",
       " 'need a invoice',\n",
       " 'good mobile a reasonable price',\n",
       " 'better choice awesome camera also performance ',\n",
       " 'worse product from lenovo upto now no proper singal network issue is big problem poor singnal quality on all operators which effect calls internet speed all ',\n",
       " 'nice mobile',\n",
       " 'so good',\n",
       " 'most disgusting phone ever heating issues bad camera low battery level battery heats so much that i am afraid that it may burst i am planing to throw this mobile its a threat to life bad service by amazon also earlier those people said phone would be return according to return policy but they gave wrong information they are asking me to go to lenovo customer care and get it verified even if it is faulty even being in returnable period this is really disappointing i strongly recommend people not to buy this garbage from this site ',\n",
       " 'this lenovo k was fine for two days subsequently it takes more than hrs to charge inspite of rapid charger i have been to thier auth service center in vain as they are not aware of the product solution i had given k for service under warranty it s still lying with them for more than days this became defective for using google navigation got over heated switch off this makes me rethink about lenovo products through amazon sale',\n",
       " 'good',\n",
       " 'the phone is awesome a must buy product value for money product ignore some small drawbacks ',\n",
       " 'nice',\n",
       " 'in coming sounds are not working',\n",
       " 'apple se best',\n",
       " 'features not up to the mark',\n",
       " 'never boots up since last night it showing lenovo logo powered by android sad product it is really bad experience',\n",
       " 'nice smart phoen',\n",
       " 'firstly i ordered it but got a defective peice and it was like a hell to meagain by replacing it i got a good peiceand now it meant all my requirementsgood speedgood cameragreat speed no hangingloved it',\n",
       " 'my invoice bill is not given i m in a fix',\n",
       " 'bhangar phone',\n",
       " 'i bought it before some day and it is nice phone with some demerits which u must to know that according to my views and uses it s screen is not actually gorilla glass it is easily brokenable and phone thickness is much more than usual phones ',\n",
       " 'product is ok it s my second mobile in one month but heating problem is main issue to much heat when charging and net using raj mishra ',\n",
       " 'not bad',\n",
       " 'awesome budget phone competeting with mi note series ',\n",
       " 'sound is good turbo charging is just a marketing gimmickcamera is just average samsung camera quality in the same price range is much better',\n",
       " 'only one speaker given sound quality bad',\n",
       " 'good phone at this pricebut still work on turbo charging it takes nearly hrs to hrs to get fully charged',\n",
       " 'nice worth money ',\n",
       " 'super',\n",
       " 'there is no super cast feature my old mob lenovo k note is itself as this feature without casting i dont like this unable to connect to smart tv',\n",
       " 'no it is getting draining battery very fastly and some apps are crashed i does not like this product try to improve battery performance am requesting lenovo',\n",
       " 'worst phone everor the worst android version everbattery drains in hrs from never buy this phone or any phone having android ',\n",
       " 'i am a movie lover wanted to watch them on my big tv screen by casting them from my new k note i have an android tv box not chrome castthere is a option in phone to cast under display but disappointingly the phone could not find the tv to me this a major draw back it may not be a serious issue for those who do not use mirroring worst thing was when i wanted a solution from lenovo team through live chat the person who was chatting one mr saleem says k can cast only through chrome cast further when i was typing my next question he abruptly disconnected there are also lot many posts by several users complaining about the casting issue on k note ',\n",
       " 'nice phone best specifications ',\n",
       " 'it s very nice product and i use the phone and i very happy',\n",
       " 'satisfied with the product',\n",
       " 'very good phone in this range ',\n",
       " 'not good as samsung quality products earphone should be given with the phone ',\n",
       " 'phone is good doesn t lag but battery backup is not up to a expectation level overall a nice phone got off during diwali plus additional cash back by paying through debit card',\n",
       " 'nice phone for the price casting not working even after sw update camera is avg and slow no headphones in the box ',\n",
       " 'awesome mobail but battery is too poor',\n",
       " 'good',\n",
       " 'the phone s wonderful but the box which reached me did not contain any earphone worst delivery',\n",
       " 'the delivery was fast but they didn t given invoice this is bad the mobile is good battery backup is moderate and volume in headphones is a bit low',\n",
       " 'flash light not working default write disk not available good build',\n",
       " 'good phone but rear camera is not so good and dolby atmos is not working actually bug in lenovo os',\n",
       " 'best phone of ',\n",
       " 'mobile is good but the charger is not the turbo charger',\n",
       " 'very nice phone no problem yet ',\n",
       " 'nice phone looking smart ',\n",
       " 'excellent',\n",
       " 'affordable',\n",
       " 'very good',\n",
       " 'looking stylist but sometimes network problem found ',\n",
       " 'a good product by lenovo and delivery was great by amazon dual camera may be much better but its depth enabled mode needs more improvement overall the performance of phone is good ',\n",
       " 'pros are more here than cons ',\n",
       " 'very bad network connection every day network problem ',\n",
       " 'draining battery fast heating when the phone is plugged into charge in off mode network issues in calling using jio processor performance is also not good ',\n",
       " 'i bought this phone for my friendhe is pretty happy with the phoneall the specs meet his daily basic requirementsbuta highly skinned os makes it little fullotherwise a great tech',\n",
       " 'battery is poor again disappointed with lenevo can t work whole day with so called mah lenevo should work on this and camera part also which is poor',\n",
       " 'empty box product missing',\n",
       " 'excellent ',\n",
       " 'nice phone',\n",
       " 'it doesn t connect to my samsung level u bluetooth headset even it just don t finds while searching ',\n",
       " 'great product no defects worth the price the delivery guy even opened the void seal in front of me ',\n",
       " 'i always trusted amazon but this time they gave me defected piece my phone gets heated everytime and the battery goes down very quickly m so pissed of by this it has been only two days and i am experiencing this',\n",
       " 'nice phone fast good battery backup and good camera clearity',\n",
       " 'nice phone very nice features i love to use this phone',\n",
       " 'very nice',\n",
       " 'not upto mark especially camera',\n",
       " 'sound quality is not good and also no gallery to store images need to download for play store rest everything is perfect ',\n",
       " 'good phone',\n",
       " 'over all good phone a little bit of heating while charging which i think is normal as turbo charge else no heating problem a nice looking device camera quality is not as expected battery backup is good after playing games and spend good online on airtel g network i charge the battery to in morning time and at the end of the day i am ending up with battery remaining a better product in this price range ',\n",
       " 'nice',\n",
       " 'i found everything what expected except headphone ',\n",
       " 'the fone is overall good but there are issues with network connections especially while using volte on jio ',\n",
       " 'totally waste',\n",
       " 'it was good but in this heating is main disadvantage but everything is good',\n",
       " 'amazing',\n",
       " 'no contacts in phone everything to be stored to google in bigger font size the display ia going out of screen the signal indicator ia never full not a great phone compared to its predecessors',\n",
       " 'i had purchased on after using more than days found that device fault of software mobile getting hang and restart automatically same issue consulting with lenovo customer care as per there technical solutions till problem not solved after that i was visited lenovo care mapusa goa as per there technical expertise need of software upgrade after software updated till issue not resolved after this there technical expertise person said need of change of mother board i have questions about lenovo product that mobile not having any physical and water dimage then how could possible mother board probleam and in goa there is no any lenovo care centre in margao and panjim it s near about km from margao so weast of my valuable time which is more cost than my money and also weast of my money please do not go for this product bad service faulty products ',\n",
       " 'this phone is very good i like this phone',\n",
       " 'got the phone delivered on time that is the only good thing in this entire experience of mine updated now a new update the first update didn t provide any noticeable difference but this one s log looks promising let s see i have been using various models of mobiles have never seen such a terrible device bought this after much thoughts by trusting the name lenevo i have been using redmi note it never had any issues with battery or even camera listening to music through youtube browsing facebook insta still solid backup for more than a dayi have other phones also moto g samsung s htc g samsung j prime this phone lenevo k seems to be worst among all battery has left me shattered with its worst battery life have just used to take some pictures youtube songs it goes down very fast yet to enter two sim card use whatsapp gmail so if it continues to become more worst i d surely update escalate this camera quality for a dual camera it is nowhere near honor x which is k lesser if you are tricked by the dual camera it still has not got update of slowmo time lapse but it is really good when taken in professional mode with manual iso focussing a disaster in auto mode that too for a rear camera with dual lens i wish the company wakes up and starts rolling out ota update for camera battery life improvement other than that the phone is super smooth display touch finger print sensor stock android is a bit of self satisfaction that i can say to myself for wasting k i thought of gifting it to my father but this would make it surely an incomplete gift wish the company looks into these issues provides updates for the camera battery life because that is what it was paid for marketed by the company claiming those are the highlight factors lost interest to even post pictures of it with much regret ',\n",
       " 'it was launched as the next big thing in budget smartphones and claimed to have the best camera in that range phone is ok decent battery life not the best but still a decent camera after months of use i found it starts to hang a bit but i guess that s normal with low budget android devices ',\n",
       " 'not very great phone it says it has turbo charge but it takes four hour to reach not worth buying',\n",
       " 'very bad mobile don t buy it ',\n",
       " ' mah battery but doesn t work as low battery backupoverall but for battery ',\n",
       " 'ok',\n",
       " 'lenovo k note heating over some times yes or no ',\n",
       " 'don t buy this product from amazon when i bought the product it was scratched keep these thing it is a radiation phone i can use this phone of min and feels headache i contacted the amazon many times they will not help you don t buy this phone spending this much money service from amazon is also very poor ',\n",
       " 'very good battery backup nice camera doulby system sound very nice budget phone very good ',\n",
       " 'nice experience battery backup both camera are very good speed is also nice and its charging is very fast ',\n",
       " 'awesome battery backup awesome camera great audio and video experiencetotally a killer note till date',\n",
       " 'great phone buy only if you can compromise with the cameras cos they are not good at all',\n",
       " 'good',\n",
       " 'camera not good and dual sim has issues randomly if jio used calls not receiving at times even though full signal',\n",
       " 'bettry is very very poor and phone is getting hot',\n",
       " 'sir iam akash adagond all is well but it has curved on screen display so when i attach a tampered glass the air gap present surround the screen plz tell where i purchased a tampered glass sufficient to this mobile or send me that i will pay the bill pls pls pls pls pls',\n",
       " 'one month back i am purcsaesd lenovo k mobile now i am facing charging problem now it takes almost hour to full charge ',\n",
       " 'i am not satisfied with this phone though it has lots of good features i have faced several times hanging issue i have lodged complain to amazon but nothing happened ',\n",
       " 'it worked fine for first days afterwords touch is not working properly some times touch doesn t respond after few mins screen keep flickering multiple times without even touching it had horrible experience with this phone i want to return this product ',\n",
       " 'very nice product',\n",
       " 'very good',\n",
       " 'lots of issues os is truble do not buy this item returning policy is not working do t buy on amazon',\n",
       " 'bad decision of buying this phone firstly it was not up to the mark as it s specifications are mentioned the st mobile was replaced within working days after that they replaced it with a new one the new phone worked properly though not for the next months then suddenly got dead and now i can t even switch it on poor quality phone from lenovo no other option but to wait at the service center to get it repaired ',\n",
       " 'camera and it s performance is nice but battery backup is very poor',\n",
       " 'not fast chargingcharging time hrs',\n",
       " 'i request you all please don t buy this product phone is heated up always turbo charger performance is poor phone performance also bad ',\n",
       " 'awesome phone with cool performance money s worth mobile phone prospicture qualitydolby atmosbatteryprocessormusic keystock androidfast chargecons dual camerano custom uiheating issue while in charge',\n",
       " 'my goodness nvr thought abt it mobile auto restart issue from the very next week battery draining fast application crash charging issue voice issue from the th day of purchase i m facing all these issues ',\n",
       " 'very nice look mobile',\n",
       " 'kuch khas nahi',\n",
       " 'very bad interface screen does not turnoff when receiving a call app start and stop working at their own will very poor network reception volte feature turns off automatically need to restart or go offline online for the feature to come back camera is only think that is okay about the phone',\n",
       " 'good i using it till months its superb ',\n",
       " 'i want invoice',\n",
       " 'lenovo could not assure you of separating themselves from their relationship with heating issues a phone though is spectaluar at the price but lags in bokeh effect ',\n",
       " 'nice one bt battery is not so good ',\n",
       " 'it s a awesome phone in lowest price ',\n",
       " 'body is very heatingbattery usage is suddenly decrease',\n",
       " 'after using few weeks i can say this phone has met all my expectations and i am completely satisfied with it specially with camera and it s effects battery is up to the mark dolby speakers works really good no issues with memory supports g on both sim cards wifi connectivity is also good however there is some issue related to cell phone networks specially during roaming areas i could say there is small lack in the network chipset due to which sometimes it puts you in a situation where it s doesnt shows you any kind of signal whereas other phones could get the network very easily overall performance is really good and satisfactory apart from this i haven t received my jet previledge bonus points which i supposed to get for this order thanks',\n",
       " 'from the begining it s google not responding sometime it gives the feelings that i bought a second hand mobile ',\n",
       " 'gud buy for people looking for budget oriented smartphone happy tht lenovo has improved its camera ',\n",
       " 'i am very irritating with this phon i bought this phone in amazon on th sep my phone having software issue when i am install new app in my phone it was installed but i can not see on my phone if am rebooting phone then app will be show on screen and then i can use it this i am facing issue try to solve this problem or suggest me what can i do now am also contacted with customer service center also they can reinstall os but problem not solved ',\n",
       " 'worst phone i have ever taken lenovo is fck product killer note total killer ',\n",
       " 'value for money got before time delivery excelent performance ',\n",
       " 'bestest smartphone',\n",
       " 'not up to mark processor is very slow and the operating system is also not user friendly',\n",
       " 'don t buy lenovo phones it s the worst bet for your money have had enough bad experiences with the k note',\n",
       " 'dabba mobile pls dnt take dis i thought mp cam is vry god wit d picture selfie bt it s nt expected it s vry poor lenovo k power is better dan dis ',\n",
       " 'no head phone in the package',\n",
       " 'nice pricing and nice features value for money',\n",
       " 'awesome mobile battery and camera are best in class ',\n",
       " 'over heating when we use volte and battery draining very fast otherwise phone is ok',\n",
       " 'too good',\n",
       " 'good product satisfied price',\n",
       " 'very poor in quality after using days the phone is dead now',\n",
       " 'chargre not working',\n",
       " 'performance of camera front rear is worst it doesn t illuminate properly adequately picture quality images are very poor worst low illuminating irritating strains the eyes even the full brightness is dull worst ',\n",
       " 'good but slitly need to improve the depth mode in camera ',\n",
       " 'camera is not good',\n",
       " 'super phone',\n",
       " 'very good product amazon good service',\n",
       " 'just buy it',\n",
       " 'i owned lenovo k note before this there is no problem for even years but this k note is a worst phone that i ever used i faced many problems in my first day of using this phone dolby sucks screen flickering low sound via earphones please ignore models which came after k note i am going to return this crap ',\n",
       " 'very good product fast delivery by amazon ',\n",
       " 'this phone was all awesome for me at the given price except for one big flaw it boasts to have a battery of mah but i have to charge it twice a day the phone loses of charge within hours of normal use by normal use i mean keeping the g data on mins of call no gaming ',\n",
       " 'some time hanging problem and battery problem please call me',\n",
       " 'amazing speed fluid touch experience app installation time is great charging speed is really good full charge in just hour battery backup is good with full day uses camera quality is really good love this phone',\n",
       " 'phone was very good in case of performance but depth effect was not proper simply waste the case cover they gave was damaged apart from this everything was fine very good product',\n",
       " 'lenovo k not near me thank you',\n",
       " 'heating up while using',\n",
       " 'mobile is fast camera is good but only one speaker is working did not expect this from a company like lenovo want to return exchange ',\n",
       " 'a must buy smartphone in the middle range really loving it ',\n",
       " 'good work',\n",
       " 'fine',\n",
       " 'outstanding better than mi and redmi all features is outstanding camera is awesome',\n",
       " 'mobile heated',\n",
       " 'very bad product mobile heating problem charging very slow ',\n",
       " 'every thing is fine apart from battery backup ',\n",
       " 'just loved it it s around weeks that i am using this phone and there is no issue let see how it works in the long run ',\n",
       " 'good performance',\n",
       " 'the mobile is good starting i faced some heating and charging problems but after the update it s working well and all camera heating etc all problems was solved and i m typing review from this phone',\n",
       " 'very good and worth it ',\n",
       " 'nice',\n",
       " 'so nice on average mobile',\n",
       " 'not good',\n",
       " 'not satisfied with the phone since volte not working misguided by amazon as well as lenovo saying that it is a volte phone whenever wifi starts call disconnect even lenovo not responding',\n",
       " 'needs frequent charging and call drop problem ',\n",
       " 'very bad product only hardware is good but software has many defects user interface system is not good conference call call waiting not working auto brightness is malfunctioning auto focus not good there is no option for multiple delete contact contact management functions lack there is less option of modification gesture lack of customer support of lenovo ',\n",
       " 'at the time of charging it becoming hot ',\n",
       " 'great combination but dual camera is not that much effective ',\n",
       " 'awesome phone',\n",
       " 'really good ',\n",
       " 'get hot after minute of gameplay or internet usage unacceptably hot worst phone lost my money on this phone do not waste your hard earned money they would t even return this item amazon should at least give replacement but no options i feel cheated ',\n",
       " 'i doesn t got any cash back of on using sbi debit card',\n",
       " 'my brother liked it very much he is happy with the mobile and its features thanks lenovo and thanks amazon ',\n",
       " 'best smartphone in this price segment such a great feature ',\n",
       " 'awesome phone in such a price',\n",
       " 'good one',\n",
       " 'pathetic phone here is why this one is a flop show dont even think of buying this so called phone even a brick is better takes hours to fully charge sometimes charges in half an hour once i was stuck at percent for nearly mins phone doesnt allow you to answer a call sometimes the screen just freezes doesnt latch on to network properly you get lots of missed calls alerts some apps such as trucaller dont work wellthis is the last lennovo device i ever buy ',\n",
       " 'battery drains very fast when im using continuously the battery drains from to within hrs being the battery mah',\n",
       " 'swipe to unlock unlocks the phone with out even asking password ',\n",
       " 'mobile is not working',\n",
       " 'its the best phone i ve ever used since i am born',\n",
       " 'nice phone at this price range deca core processor was awesome it loads games quickly i received an update for slow motion recording hope receive an update for k tecording only drawback is the camera quality is lower than redmi note and moto g s plus this phone doesn t sense the natura color of images properly than it s competitors battery life is average don t expect too much life as mah i hope lenovo might solve this probs through update my rating was ',\n",
       " 'not satisfied over heating',\n",
       " 'this is really an awesome mobile phone ',\n",
       " 'mobile is good but not received proper bill and there is no emi no mentioned on bill',\n",
       " 'phone is good but features is not well old features and functions in this phone',\n",
       " 'everything is excellent and excellent features but lens used in camera are poor qualitywhen image is zooming it will show lot of noise better if they will update camera feature ',\n",
       " 'too much heating problem almost feels like burning my ear while talking no turbo charging lenovo and amazon are just fooling and looting our money please don t buy this product ',\n",
       " 'i want invoice for mobile variant ',\n",
       " 'awesome just updated to oreo ',\n",
       " 'i want my mobile invoice by mail',\n",
       " 'very worst back camera front was perfect and battery was not to be expected level flas light is also not good',\n",
       " 'bhul se mat lena koi bhi ye mobile battery backup bilkul kharab hai agar kahi bahar nikle to se ghanta me battery low ho jayega',\n",
       " 'great mobile with deca core and good ram',\n",
       " 'good price good phone',\n",
       " 'if you have this than you become photographer',\n",
       " 'few cons to consider this product heats a lot during gaming gps navigation camera and charging switch off switch on time reboot time s bit more ',\n",
       " 'nice but if you can afford extra than you should go for moto g s plus',\n",
       " 'bad experience ever not expect from lenovothis phone has hardware issue and heating problem as well as batterylow backup turbocharger takes and half hour to chargewrost experience ever',\n",
       " 'good mobil',\n",
       " 'this phone has whatever i need plus it s in budget ',\n",
       " 'usb data cable is not working',\n",
       " 'device is getting heated with any application usage for more than mins',\n",
       " 'this device running smoothly for monthsafter that hanging problem eg then data is book can t open very slowly change and many more problems in this device ',\n",
       " 'i m loving it so far great specs awesome performance the best in its price range for surethe only complaint if any is that it uses only one of it s dual cameras for normal photos and so takes like seconds to focus on a page',\n",
       " 'very amazing phone in this price',\n",
       " 'bad phone',\n",
       " 'awsome',\n",
       " 'all of sudden phone s sim slot isn t working i think it s a hardware problem kindly fix it as soon as possible ',\n",
       " 'excellent mobilecamera clarity superb front back display clarity fine battery ok signal issue is very high os speed ok better than mi note overall parformence is good',\n",
       " 'budget phone average battery fast charger saved the show front camera is good rear camera in normal mode is good but struggles in depth enabled mode dual sim plus dedicated memory slot is added advantage a bit of android glitches were observed but nothing to worry looks are good venom black colour is quite impressive ',\n",
       " 'this phone is amazing it s camera is too good perfect for selfi ',\n",
       " 'got scratch in gorilla glass after days use can i get replacement ',\n",
       " 'it is really a nice phone ',\n",
       " 'nyc product',\n",
       " 'phone is nice but i think mi y is best price difference also big between them ',\n",
       " 'camera decent perfomance good heating issue battery backup not good',\n",
       " 'worst phone i have ever seen battery not comes even half a day i have called several times to amazon to return the phone but their response also worst than this phone',\n",
       " 'after around months i finally came to a conclusion that this phone is average in all fields battery last for around day of moderate usage after an overnight charge heating issues facing since the day i bought it gaming performance is good i have tried all types of games including gta san andreas and nova there are no lags in the performance the mediatek processor produce enough juice to pump the phone i liked the selfie camera more than the primary one as the bokeh effect is crap and the single camera is also not good enough and here comes the major problem i m having whenever any song is played on bluetooth connected speaker and the data is on the musoc starts distorting overall an average phone i think there s more out there in this price range but it s not a complete failure regretting after buying ',\n",
       " 'camera performance are not good',\n",
       " 'i been using it for last days and the phone is actually a killer that being said by lenovo killer i hope that the phone doesn t really kills me cause the only thing that is bothering me is this heating issue while charging ',\n",
       " 'awesome performance good clarity awesome features',\n",
       " 'awesome phone in this price',\n",
       " 'it s been almost more than weeks that i am using this phone and have not faced a single issue it s worth every penny sturdy built good hold awesome touch loud speaker super battery backup good rear and front cameras and top it all stock android go for it ',\n",
       " 'my phone is good condition',\n",
       " 'very nice good phone',\n",
       " 'over heating while using net ',\n",
       " 'not bad',\n",
       " 'this is good phone with awesome battery backup and camera clarity ',\n",
       " 'worst product at this price lack of features as compared to other lenovo product better go for redmi don t buy this',\n",
       " 'good phone i m happy with this',\n",
       " 'this lenovo k note issues are given below g volte g lte network not supporting if u want to set phone ring tone music then u have to down load es file explore ',\n",
       " 'good but slow after using month',\n",
       " 'nice product',\n",
       " 'not bad',\n",
       " 'nice phone',\n",
       " 'i don t like this phone dual camera is totally garbage and battery also not working well deca core processor ke baad me bhi real maja nahi aa raha battery without use hi discharge ho rahi hai contacts sim or phone me save nhi horhe dollby atmos kuch kaam ka nahi hai isse achha toh kisi normal phone me jet audio plus download krdlo headphone jack ki sound bahut kam hai sometimes new installed app was don t show phone ko restart krna padta hai so i don t like this lenovo k note ',\n",
       " 'great specifications and big screen in this price is value for money i think the camera quality could have been better having dual camera almost moto like interface does not make it something different works fine ',\n",
       " 'product damaged display not working properly blinking issue camera quality is worst',\n",
       " 'phone stopped working after weeks of purchase and very bad service centre lenovo k note the worst phone of ',\n",
       " 'good performancebutlow quality of gorilla glassbut glass camed cracked',\n",
       " 'awesome phone no lag camera is average but with lil effort you can pull fine quality images ',\n",
       " 'nice',\n",
       " 'that s for very heating i note setsfid',\n",
       " 'very best phone this range',\n",
       " 'just need more battery backup its very poor battery back up need to improve with software updates',\n",
       " 'wrost mobile i ever seen jio number is not support for call only for internet my request is don t buy it ',\n",
       " 'phone getting heated up need to return',\n",
       " 'best mobile for all needs',\n",
       " 'it s camera clarity is badit s camera features are not available as shown in magzineee',\n",
       " 'don t buy this product very worst',\n",
       " 'very good mobile with great features',\n",
       " 'ever worst mobile dont buy even from amazome they did not take it back',\n",
       " 'it doesn t have any tracking facility to track own mobile location if mobile lost you can t find like samsung and apple does ',\n",
       " 'very good phone and value for money',\n",
       " 'that glass is not aa scratch proof by putting a small stone it has aa line on glassbut it was nice',\n",
       " 'phone all goods i like it but tag line lenovo k note venom black gb with new system update doesn t match since i had purchase my phone my os didnt update to oero so i m little bit dis appointing as i had mail to lenovo customer care also but didnt got any feed back or reply from them ',\n",
       " 'lanovo k note is all good but network problem',\n",
       " 'overall good but fast camera depth mode pe bhi on nehi hota i hate it want to return ',\n",
       " 'v nice',\n",
       " 'good but little heating effect',\n",
       " 'amazing phone tnx amazon',\n",
       " 'depth mode is not so good and battery stand by time is too low even after mah battery',\n",
       " 'nice phone working perfectly better than mi note ',\n",
       " 'first week it s horrible then it s best',\n",
       " 'hotspot not working seeking support',\n",
       " 'awesome mobile just go for it',\n",
       " 'mobile camera is good battery is not as redmi mobile',\n",
       " 'flash light not open in night video calling',\n",
       " 'battery utni mast nahi he ',\n",
       " 'lenovo service center is not working my data cable problem not solve month',\n",
       " 'camera function not too good',\n",
       " 'instead of turbo charging it took hr for raised request for replacement return and found pathetic response of amazon feeling cheated by amazon lenovo ',\n",
       " 'nice',\n",
       " 'worst phone',\n",
       " 'very bad and when lenovo and moto merged the standard of lenovo went to a worst condition the gb decacore do nothing dont buy it very bad ',\n",
       " 'good deal through amazon ',\n",
       " 'nice phone',\n",
       " 'almost same as k note but memory n software updated some times reset automatically thus four star and dual cam portrait mode not that good thus star as this was the main update compare to old model of lenovo but nice to go it if u dont care about dual camera it is paisa wasul product ',\n",
       " 'not as expected average battery you have to charge two times daily dolby not working most of the time bluetooth issue when you connect the phone with a bluetooth device and play a song or vedio audio breaking occurs most of the time it s quite irritating contacted lenovo help many times but could not find any solution please stay away from the phone you can buy good alternates with this price',\n",
       " 'bakwas phone',\n",
       " 'front camera quality is poor auto focus doesn t work compared to lenovo mp front camera camera of this phone is worst ',\n",
       " 'product is good but i didn t like amazon app ',\n",
       " 'heating problem during charging and working on net battery poor performance and not supported voltee please suggest for better performance ',\n",
       " 'only problem i see is its taking too much time in restart',\n",
       " 'awesome mobile k note',\n",
       " 'turbo charging not fast fast charging not good camera not good',\n",
       " 'yeah product is excellent i loved it superb super battery backup and camera is very clear and beautifulbranded is branded low price more features it s really amazing thank you thank you amazon',\n",
       " 'no charger and box lenovo seal opened',\n",
       " 'good one',\n",
       " 'product is in average quality but gb version is little good performance overall good camera also amazing ',\n",
       " 'it s awsome ',\n",
       " 'awesome',\n",
       " 'wast of money third class amazon customer support',\n",
       " 'good mobile good service amazon',\n",
       " 'i accept my phone but the ear fon lead is not available in the box',\n",
       " 'low light cameras are low quality the headphone does not exist too i think it s good for me',\n",
       " 'first phone i got was a one with manufacturing defect with camera bt this phone is a beast and i got it replaced and now it s just perfect',\n",
       " 'its not even months since i bought this product i m facing issues with battery even after charging for in the morning it reduces to without using extensively phone heats up and get hang',\n",
       " 'cast screen solution please tell me it s not working',\n",
       " 'well as expected ',\n",
       " 'on this price rang it s a fantastic handset specially camera with flash',\n",
       " 'mobile is good turbo charger actually is not fastly charge it rear camera depth mode not properly focus to object front camera is awesome performance of mobile outstanding battery backup very good ',\n",
       " 'where i get orignal data cableservice center give me local cabledont give me orignal lenovo k note w charger supported heavy cable',\n",
       " 'seal was open ',\n",
       " 'battery life is very upsetting doesn t even last half a day took the phone to lenovo service center ',\n",
       " 'very nice looking phone nice build quality awesome product in this price range it is a best phone nice bettory life and fast charging it has all specifications dual camera nice fingerprint scanner awesome work with gb gb combination realy value for money ',\n",
       " 'battery backup is not good as compare mi note ',\n",
       " 'a very worst product phone system has be updated number of times but it still demanding for systems update also not a single app is running properly and automatically closed i want to return this product please help me amazon ',\n",
       " 'looks wise goodfor battery for camera cheap camera quality i recommend to buy redmi phonewaste of money to buy lenovo phone ',\n",
       " 'heating issue and battery drains very fast night mode camera is poor',\n",
       " 'good worth for the money good battery backup both rear and front camera are good ',\n",
       " 'phone is very amazing for usage but battery is not enough battery details given are fake one fully charged battery will last for only hours',\n",
       " 'i got disgusting mobile phone out of speakers only one is working pls help ',\n",
       " 'i love it ',\n",
       " 'supar mobile lenovo k note i like you',\n",
       " 'it s ok product',\n",
       " 'nice',\n",
       " 'its a good phone best for game lovers',\n",
       " 'awesome phone working very smoothly go for the venom black color as it looks more stylish than the gold one the battery back up of the phone is great camera is far too awesome the screen itself is a masterpiece very sleek no heating problem so far best phone in the range you won t regret buying it ',\n",
       " 'phone is good but there are no headset provided with it and also there is no screen guard comes with it this phone s battery capacity is mah but it doesn t look like this because it hardly run for a whole day ',\n",
       " 'really satisfied with days of use battery life is good stock android is just flawless simple n smooththanks lenovo ',\n",
       " 'never by this phone',\n",
       " 'battery performance medium camera medium ',\n",
       " 'good phone but not excellent ',\n",
       " 'its a really nice phone and camera is very nice',\n",
       " 'awesome phone and service',\n",
       " 'i have purchased lenovo mobile in past year but lenovo quality going to decreasing day by day recently i have purchased new lenovo k note on feb and its start over heating after days and now its battery start drains quicker now my mobile is switch off and i relay don t want to use it again even i will never use lenovo mobile again my rating is for this product ',\n",
       " 'for someone',\n",
       " 'almost a average phone the dual rear camera is not so good suggested not to buy this in end and in go for better redmi or another brands ',\n",
       " 'super mobile good product n sounds also so good charge stand by for days camera is super more than mths i m using tis mobile lovely mobile from lenovo n best price from amazon so thankful for such good product for amazon planning to shop more n more from amazon oly ',\n",
       " 'good phone using it from past weeks no issues worth the money go for it blindfolded dont worry about the helios processor it is good and no heating issues noticed while gaming ',\n",
       " 'excellent ',\n",
       " 'nice phone',\n",
       " 'value for money ',\n",
       " 'battery drain issue after oreo update charging time to hours drain time to hours worst customer support',\n",
       " 'gorilla just a name only brought this phone on march and screen didn t last months also got cracked after falling from few meters can anyone please give me the link for original genuine screen replacement lcd folder with the same curve and display brightness ',\n",
       " 'supar phone',\n",
       " 'to begin with considering the price range i never had lot of expectations from this phone now that i have received it and used it for over hours i would rate my experience as good the touch of the phone is very good soft and feels premium battery life is good however it does not show battery percentage on the main screen camera comes under average performance the depth mode doesn t really serves the purpose here honor x has better camera than k performance of the phone is good so overall this is a good phone and when it comes to camera it s closest rival honor x takes the lead ',\n",
       " 'its been only month and it started giving trouble its overheating and taking more hours for charging and giving less battery backup',\n",
       " 'mobile is very good but it has heating issue ',\n",
       " 'screen is not antiscratchscratch occurs in my mobile when it fall downbad gorilla glassscreen quality is not good',\n",
       " 'worst battery backup comes for only hrs depth focussing camera is not effective as expected other features are good ',\n",
       " 'nice mobile cpu is very best i love it ',\n",
       " 'lenovo hyped this phone for it s dual rear camera and a deca core mediatek processor and believe me these are the most worst things in this phone camera the dual rear camera is of no use it gives a fake bokeh effect in depth enabled mode the camera struggles to focus you will find the edges of the object are blurred along with the background without depth enabled mode both front and back cameras are just average processor battery the mediatek helio x processor is good in performance but since it is clocked at ghz the gets heated even on normal uses or while while charging it aslo consumes the battery very fast the mah battery will hardly last for day on normal uses sound clarity nice sound clarity on speaker as well as earphone thanks to dolby atmos display screen clarity is good ui its a user choice i am not a stock android fan as it lacks many features comes with custom roms like miui otherwise there is no problems with ui it runs pretty smooth final verdict its just a average phone there are many other good options available in market at same price point if you are camera lover and want a good camera phone then go for honor x if you want good performance then go for redmi note and if you want good performance with stock android then buy a moto g ',\n",
       " 'very poor graphics',\n",
       " 'user friendly',\n",
       " 'bekar ha mat lo',\n",
       " 'good product',\n",
       " 'received phone but no headphone inside the pack although in limited warranty booklet there is a warranty of months for earphone',\n",
       " 'phone is not good bettery and charging problem occurred after to month no response from service center ',\n",
       " 'i m security fingerprint and pattern no working charging very slow',\n",
       " 'great phone with nice specs till now had no problems ',\n",
       " 'good product',\n",
       " 'charging problem camera mistake',\n",
       " 'worst product poor quality camera battery draining fast and over heating on simple use',\n",
       " 'charger not working mobile is fine amazon service very bad ',\n",
       " 'perfect selfie phone',\n",
       " 'it gets very hot while using i was using lenovo k for last one year and was more satisfied with that rather this one main drawback of this phone arebeautiful cast screen mirror doesn t work bluetooth is also disturbing touch screen is not as sensitive as it should be with gb ram and gb internal memory with core processer display got broken very early with in two months of use it s very normal and not as strong as k hand grip is not good voice clarity not good and dolby sound is just normal and speakers are very normal and sound is low k was much better in this regard call logs and call recording another big drawback of this phone i will not recommend this phone for purchase even the cost of k ',\n",
       " 'not too good',\n",
       " 'all good but fingerprint sensor not working sometime ',\n",
       " 'getting heat up very soon not satisfactory while you will try to return it will tell somany steps but you can t return and from last months order till now no return of money back of sbi card ',\n",
       " 'good but not best',\n",
       " 'battery drains and earphone connector issue',\n",
       " 'nice mobile',\n",
       " 'phone is very heavy and camera is not good not even equal to mp better go for honor x instead of this ',\n",
       " 'excellent and superb phone ',\n",
       " 'superb product few of the feature are awesome duel camera front mp camera back and front flash dedicated music button dedicated memory card slot free transparent case and split window for multitasking these are some feature i like the product in my budget ',\n",
       " 'this is a awesome phone really love it ',\n",
       " 'battery get draining very fast please do the needfull',\n",
       " 'phone is nice working best phone by amazon in this range in the box piece turbo charger and usb cable but i receive only turbo charger in the box i got phone usb cable and turbo charger but not receive turbo charger ',\n",
       " 'i got a repacked product i took it to service centre to check the warranty the warranty is valid till dec where as i bought the product only on april also its heating and battery doesn t last a day the dolby atmos and music key notification led is good which i will miss but the seller should be good i spoke to amazon and returned the product for refund consider nokia which has dolby atmos ',\n",
       " 'its good but not that much good after months its getting problem in phone stopped getting charged ',\n",
       " 'i like but heating problem',\n",
       " 'hard ware button stopped suddenly using soft button as of now',\n",
       " ' touch is tacky and have very slow response no head set earphone supplied with this phone one may ten to overlook this point in excitement of other specification being offered there are better alternatives available in same price a phone works in synergy with box packed items and if i have to buy a headphone separately its a big no for this product ',\n",
       " 'good',\n",
       " 'pathetic product from amazon too much heating with phone and low grade performance don t buy it ',\n",
       " 'not working properly navigation button problemkeyboard opening problem',\n",
       " 'low price best mobile i like it',\n",
       " 'worst product i have received ever from amazon it is a completely defective accessing data internet is a nightmare don t buy this product it is pathetic that amazon did not allow me to return this product giving some absurd excuses never buy this product',\n",
       " 'very bad experience',\n",
       " 'its an amazing experience with lenevo k note no camera problemno heating problemno charging problemgood sound good call quality good picture quality',\n",
       " 'after oreo update this mobile perfomance is really bad means no one can even imagine how bad it is workinv and lenovo is still not taking action i am repenting after update',\n",
       " 'the battery issue is the biggest corn and its lags most of the time i am not happy with this product ',\n",
       " 'nice phonegreat speed',\n",
       " 'fantastic mobile pros fantastic display front and rear mp camera excellent stock android provide no extra bugging processor speed good scratch proof screen cons lenovo update does not works properly recently updated with android now onwards mobile heated up and battery drains in just hours of use without using call and g data really sucks mobile slightly heated up while gaming and long usage of data rear camera mp is the worst battery back about hours no k display so sometimes video quality poor ',\n",
       " 'very nice phone picture quality is awesome sound is very clear and best for music once charged battery remains charged for days ilove this phone ',\n",
       " 'in description it mention for two turbo charger but i got only one charger ',\n",
       " 'no call recorder in this phone nor any other app of call recorder is performing in this phone lenovo k note was having inbuild call recorder please upgrade software with call recorder else this phone is good ',\n",
       " 'probably the best at it s price ',\n",
       " 'camera is not working properly phone is losing battery very fast and heating when playing games',\n",
       " 'total waste of money wrost product wrost camera quality fake mah battery device is too heat during charging net using total battery drain within to hours ',\n",
       " 'worst phone getting heat like anything and battery performance is worst ',\n",
       " 'not worth many better options available in same price band model not supported by airtel for g apn ',\n",
       " 'i am not able to download invoice copy',\n",
       " 'phone is very good but camera is average not as i expected',\n",
       " 'very fast heating phone just installed app using wifi for hrs get heat we can prepare omlet in that heat heat o heat otherwise well and good compare to other phones please ask to give another software update for this heating issue fear if it ll burst in this heat ',\n",
       " 'nice with mh but camera quality of dslr mode is not so good but all configuration is well good',\n",
       " 'quite disappointed with the product hence returned as there were many flaws in the handset hope lenovo rectifies them ',\n",
       " 'amazing camera excellent pixel',\n",
       " 'this phone is not good condition its take a very long time to full it s battery like to hours turbo charger is not working battery backup is not good it s heating a lot over heat ',\n",
       " 'good battery life nic look',\n",
       " 'very nice phone',\n",
       " 'worst waste of money totaly',\n",
       " 'worst product got a defective piece even the replacement piece was defective ',\n",
       " 'good product camera quality and sound quality is quite good overall the product is value for money in this range i have purchased nos ',\n",
       " 'battery back up is very very poor ',\n",
       " 'very nice',\n",
       " 'no satisfactory',\n",
       " 'though overall phone is good but there some serious issue with my phone it takes hrs to charge ',\n",
       " 'good',\n",
       " 'nice phone in this range camera quality is very good battery backup is excellent ',\n",
       " 'the mobile was awesome and the pics which are captured are superb but one drawback is it gets slightly heated while charging',\n",
       " 'bad camera quality back is mp bt not clear and in my phone very nero dot in screen i think it s manufacturing mistake',\n",
       " 'suoerrr',\n",
       " 'bill',\n",
       " 'very nice',\n",
       " 'i upgraded from k note to k note but nothing seems best apart from memory as compared to k note camera very poor quality not advised to waste money in the phone ',\n",
       " 'great phone',\n",
       " 'it s lagging and doesn t work like a decacore processor snapdragon might be good',\n",
       " 'good',\n",
       " 'very nice i am complete satisfied ',\n",
       " 'good mobile',\n",
       " 'very good product performance is best for gamingbarry backup also superboverall performance is goodthanks amazon and lenovo',\n",
       " 'here are the cons of this phone too heavy gms heats up while playing games lags while gaming rear camera isn t that good whitish images volume buttons are made up of plastic big bezels covers lot of space battery drains faster',\n",
       " 'phone is very heating otherwise ok delivery very fast ',\n",
       " 'nice',\n",
       " 'not satisfied as the phone is getting heated very quickly not to mention just for few minutes of browsing also the battery is not like a mah which was also such a disappointment other than that the phone packs quite a good specs storage and speed is very good ',\n",
       " 'very poor ram dual camera feature is like fake feature i like speed and other features except ram and secondary mp camera ',\n",
       " 'one speaker not working',\n",
       " 'good product osm looking',\n",
       " 'best deals',\n",
       " 'amazing phone and true killer of redmi note ',\n",
       " 'nice sound effectsnice camera at this costnew lookbut the only problem i facing is battery overall good phone at this cost my rating ',\n",
       " 'mobile performance very good',\n",
       " 'in low light the camera performance is very poor battery draining very fast it takes much time to focus and depth capture not working properly ',\n",
       " 'one of the best phone in the market with an excellent affordable price the features are excellent and you get everything you want under a cheap price ',\n",
       " 'lenovo mobile ones network problem comes total motherboard change ',\n",
       " 'the battery drain is absolutely horrible even while not using the phone the battery drains like crazy i tried to return the phone only to have the amazon customer service run some kind of diagnostic on it and declare that the battery is fine essentially turning me into a liar ',\n",
       " 'not at all good antenna is very poor not receiving the signal properly missed many calls besides cameras are not of good quality so returned the item ',\n",
       " 'very good and powerful phone ',\n",
       " 'everything is fine except notification light didn t blink when msg and miss call arrived only blink when text msg arrived heating issue turbo charger is not like turbo its look like normal amp charger battery draning fastly camera lence coverd with dust after few days use ',\n",
       " 'got updates from lenovo within month so all problems will solve i will give full detail after few days later till now mobile is ok camera superb ',\n",
       " 'it s a great phone so far jack of all trades ',\n",
       " 'i would like to replace this as it is not meeting my expectations',\n",
       " 'wifi connection problems and battery backup problem',\n",
       " 'loved it',\n",
       " 'not satisfied',\n",
       " 'hoid for the amount has latest features but not working properly battery is getting heat while using download apps as well charging chrger is not turbo charger it takes around hrs to full charge display speaker are good ',\n",
       " 'amazing phone',\n",
       " 'good product',\n",
       " 'not good battery drains very fast',\n",
       " 'best mobile camera good',\n",
       " 'it is a worst phone explanation there is signal issue with this phone ever time it is searching and showing low signal due to signal searching battery consumption very high no other problem i suggest do go for k note ',\n",
       " 'not good',\n",
       " 'this is my rd lenovo phone not worth the money though poor camera quality though its a dual camera little lagging in the games even though its deca core with gb ramthe only plus is that it is not a hybrid sim',\n",
       " 'inspite of visit times to service center still the problem is not resolved don t buy this phone waste of money the phone couldn t run properly just year service center phone service employees will gave u lame excuses and tell u to wait worstphone shamelenovo',\n",
       " 'configruation is gr but ui is very poor at least somethings could have been added to make it user friendly ultimate power saver and many other basic options are missing it heats up while charging and customization options are totally zero i hope maybe if they give oreo update they add some features hardware is ultimate but what its worth without a proper software utilizing it please add some features or make it open for us to use cyanogenmod and there will not be any warrenty void issue ',\n",
       " 'good phone',\n",
       " 'best phone i ever used',\n",
       " 'excellent',\n",
       " 'in it is a great phone some heat up issues and ram management is poor it s gpu performance is slightly lower than adreno gpu in gb storage i get almost gb camera performance and ram management may be improve in software updates battery lasts about day for heavy users some bugs in ui in nov i simply using it and for to minutes it completely stop and after hour it recovered so these are my opinion regarding this phone i bought it on sell for gb ram gb internal storage so it is a decent phone for my point of view thank you',\n",
       " 'pls dont buy batteryis heating a lot wrost phone from lenovo ',\n",
       " 'worst product ever brought has too many cons it claims rapid charging but is the slowest i have ever experienced claims dolby atmos sound but is not loud enough the sound of other mobiles are better than this heating issues so the features were not as expectedp s my neighbour bought the same phone and is not satisfied with his purchase so i recommend vivo redmi for people looking out for phones in budget and definitely one plus for those looking out for performance really disappointed by lenovo ',\n",
       " 'not attacheing headphone and their is issu about sound system ring tone not to be ring properly',\n",
       " 'its good but looking too big',\n",
       " 'never buy this phone you will feel bad by seeing the phone s camera quality turbo discharging battery earphone jack not even fitting and one side is not working with my brand new earphone ',\n",
       " 'discharged with in hours with out playings games browsing internet',\n",
       " 'mob is so good for handling and every think but i received foulty piece mob getting heat n battery rapidly down but as discussed with technical person agreed for this issue and assure for replace the mob i hope i will receive my replaced new phone as soon as possible after receiving new mob i will check ',\n",
       " 'audio output from headphones is very low and bad quality please don t buy if you listen to a lot of music on headphones',\n",
       " 'everything is fine but it is getting heated after some time of baking this is the main con ',\n",
       " 'average phone it has dual cam with deep mode but not working properly it is same as normal cam ',\n",
       " 'faltu baker phonekoi bhi mat lo aur service to kuch aur hi level ka hai pura akdom ghatiya',\n",
       " 'just good handset bulky and stupid design ',\n",
       " 'it s amazing mbl camera was so nice it s really good phone ',\n",
       " 'display quality is not good ',\n",
       " 'the battery charging is taking a lot of time not up to expected',\n",
       " 'charger stopped working in just month but it before months ',\n",
       " 'it s good phone ',\n",
       " 'facing network issue with this phone i got the instumet which had an issue but amazon is not ready to help i lost my money',\n",
       " 'mobile is very nice but he is charging is very deley hr ',\n",
       " 'best features camera best but flash poor battery backup good fast charging display quality too good sound quality good ',\n",
       " 'till now i used this last two days but not upto mark getting heated charging does not look like turbo and also few application are getting hang on few occasions i wish to return the product after extensive use of application and games please return this and refund the money',\n",
       " 'excellent',\n",
       " 'required head phone and screen card',\n",
       " 'hotport not properly',\n",
       " 'slow charging both camera not support ata a time ',\n",
       " 'very good set',\n",
       " 'worst product which is poor at signal strength of any network if user uses jio g can t get calls if phone in idle for mins internal memory to external memory file transfers and vice versa taking too much time fully disappointed by buying it lenovo should take corrective action and should withdraw all sold phones ',\n",
       " 'working is super',\n",
       " 'excellent mobile device works superbly',\n",
       " 'i using this phone camera is very poor and no updation this lenovo k note camera features very very bad i am pricing this phone is because this phone wrost phone fetures is wrost no upadatons overall no good very bad but this mobile is friends don t buy this product that my suggestion but friends battery backup is very good ',\n",
       " 'good phone and good camera too',\n",
       " 'it s a worst experience for me on amazon i had ordered this phone which was creating problem then i got new phone which is creating problem after days the bill i got was so blurred that service centre people refuse to accept it pls share me the bill for the device in proper manner so that i could get services from lennovo centre ',\n",
       " 'having a problem with bluetooth',\n",
       " 'don t buy it wrost phone and there is no service support at all if you accidentally broke you screen it will cost you around rs there is also second sim sms issue there ',\n",
       " 'turbocharger is not working heating problem faulty piece don t buy this product',\n",
       " 'perfect one ',\n",
       " 'grt phone good service from amazon',\n",
       " 'it s heated everytime i use it ',\n",
       " 'not support in call recording app',\n",
       " 'lenovo k note is very goodit is very advanced',\n",
       " 'don t waste your money and feel after buying this phone i suggest you everyone do not buy this low battery backup and phone is hanging while using internet either through data or wi fi connections camera is also not better as lenovo officials said but build quality is good and very attractive ',\n",
       " 'awesome',\n",
       " 'thankx lenovo for this amazing phone ',\n",
       " 'battery not getting good charged properly poor quality suddenly mobile screen will become black without any display',\n",
       " 'good',\n",
       " 'best product handy to use with good performance after updates',\n",
       " 'awesome phone smooth performance camera is also good but battery could be better all over nice phone really a beast ',\n",
       " 'my email voice bill',\n",
       " 'nice phn',\n",
       " 'charger is so slow charging to phone so please can you replace the chargerthe charger take to hours full charging to phone',\n",
       " 'very superb lenovo k but please impore the camera setting and plz gives the updates and battery backup awesome',\n",
       " 'mobile goes to very heat not user friendly like no speed dial no screenshot less dial settings fast discharging can t send via bluetooth etc i want to return or i should sell this mobile i am disappointed just only worth for cost ',\n",
       " 'very good prdt',\n",
       " 'camera quality was not up to given standardsvery impressed with fast charging as well as battery backup wothy mobile at this price',\n",
       " 'not the beast camera s depth sensing is not that good though very good selfie camera chipset is way powerfull battery drains fast but after a software update it s ok now',\n",
       " 'worst product screen cast won t work which is a basic feature',\n",
       " 'yes',\n",
       " 'delicate screen was broken and cost rs waste of money',\n",
       " 'i purchased this phone but i recommend to buy mi a or honor x in this price segment lenovo is lazy in terms of providing updates phone have serious bugs in camera depth mode slow motion video is pathetic you will never gona use it front camera gives soft pictures background app crashes flicking screen is there not much these bugs could be cured by throwing an update but lenovo will not do it because if they made this phone perfect who will gona buy there moto phones phone is good in terms of design and screen it feels good in hand stock android is a bonus ',\n",
       " 'worth to use online usage',\n",
       " 'as soon as i bought the mobile from the courier person i eagerly transferred songs from my older mobile and started the google music player in lenovo k note to experience it s fantastic dolby atmos surround sound which i had experienced in lenovo k note but i was very much disappointed that lenovo k note doesn t provide dolby atmos surround sound at all dear manufacturers kindly take your previous edition lenovo k note and check it s sound and compare it with k it is worst as your competitor s dolby atmos don t replicate those duplicate dolby atmos come back again with dual front facing speakers as lenovo k which has excellent dolby atmos experience and even using top branded headphone did not give much difference between with dolby atmos and without dolby atmos option the main reason why i bought lenovo k note is the lenovo s real dolby atmos sound as i thought before buying otherwise your competiror has all other specifications as k but even lenovo started making false promise like your competitor that the mobile has dolby atmos by just enabling some equilizer options like just we had in s mobiles but the output is null ',\n",
       " 'good mobile for the price',\n",
       " 'till date excellent product',\n",
       " 'waste mobile no signal in mobile',\n",
       " 'worst product supplied by amazon trader received my new phone today dated after installing google services and my account it immediately showing blur screen and not a single button works i have made videos in my mobile which i definitely going to post on social media sites to aware people for not to buy lenove k note ',\n",
       " 'worst phone batry bckup is worst suddenly while playing games it stops working from the first day i have gone to its service center they told that we have to update its software they called me at pm but i have gone to pm to them but then were tlng it will take more hour and after hour they told that you will get your handset tommorow after soft update also this problem continued and now i m returning it call quality is worst my opposite side person unables to hear my voice clearly and headphone jack also not working when it just gets touched by my finger sound stops ar video get paused ',\n",
       " 'battery back problem',\n",
       " 'nothing extraordinary to call it a killer note camera which lenovo has boasted of is poor like all previous lenovo phones the dual camera setup is just a gimmick and takes ordinary quality photos dolby atmos sound output is of average quality it was better on earlier lenovo s the headset volume while on call is very low compared to previous lenovo s redmi mi samsung s making k note pure android experience lenovo has robbed users of some good features available on the previous lenovo s hence the software is a big let down lenovo should have stripped down the vibe ui to near stock experience instead of dumping it also a phone cant be called a killer if it doesnt have the basic function of backlit keys at the bottom software experience is not smooth as it should be considering the ram and motherboard and coupled with stock android in my opinion k note is nothing of what it was projected to be and the previous lenovo s were slightly better minus the full hd displays on them ',\n",
       " 'i have faced phone ringing issue i need to repair it ',\n",
       " 'good',\n",
       " 'received handset on nd still havn t start using it due to some personal problemslet me start using it then only i will b able to provide my reviewthnks',\n",
       " 'super',\n",
       " 'worst phone battery heating issues slowed down drastically better not to go with this company for purchase of the mobile ',\n",
       " 'waste of money',\n",
       " 'not a good mobile',\n",
       " 'very nice phone camera is very good no heating issue very satisfied ',\n",
       " 'hi all i have bought new lenovo k note frankly speaking lenovo making fool to customer through this product just for marketing they have given higher features in this price like gb ram gb rom dual camera but all are of no use if you buy some other company with lesser feature compared to this you will get much better experience the most stupid thing lenovo done is very basic features they have removed like led notification is there but it never works except during charging no call recording no shortcuts for screen shot i got alert saying low battery and was there then automatically switched off immediately these feedback by just exploring little let me explore more than i ll share with more feedback',\n",
       " 'features at this price are not regrettable but the price slashed by in just one month made me think about the brand as a wholeso all said it is a decent deal at this price if you are not concerned about the camera quality ',\n",
       " 'good phone in this price ',\n",
       " 'product is good nice packing without earphones',\n",
       " 'battary drained fastits look like ordinary charger it i s taking and half hour full chargeweight is more compare todays phone',\n",
       " 'very worst product don t buy k while charging it getting highly heat pls pls don t buy',\n",
       " 'good product',\n",
       " 'superb configuration in k',\n",
       " 'sir kindly provide my lenovo k note handfree there is no handfree in box',\n",
       " 'excellent fabulous smart phone no lag no heating no battery problems ',\n",
       " 'it was osm ',\n",
       " 'awesome',\n",
       " 'worst experience after days of use battrey backup was low like mah and charging speed getting slow i want my money back ',\n",
       " 'very bad i just wasted my money',\n",
       " 'i m so sad because i m not satisfy about this phone st from day first network problem not sporting g sim g network i m using airtel sim i never got full network in this phone i changed slot slot but always week network same sim when i m using in my other phone oppo a it s working good getting heat while charging you can see in pictures below attached in second slot also i m using airtel but when i start switch on internet my network lost automatically i seen youtube lenovo customer reviews vedio with same problem now i m so sad because i waisted my money with this phone redmi is much better then lenovo in this price in future i never will try to buy lenovo moto im very disappointed ',\n",
       " 'so far no issues with performance best phone in this budget ',\n",
       " 'super camera and best performance',\n",
       " 'the phone has some problem with outgoing calls as the recipient is not able to hear clearly memory and speed is good big phone to keep in pocket ',\n",
       " 'mera bill kho gya hai please mere email par bill bhej dijiye',\n",
       " 'good mobile but some options are missing like infrad ray i love this mobile',\n",
       " 'battery backup is not better',\n",
       " 'worst product don t go for it most of the functions are not working even the earphone jack port is not functioning ',\n",
       " 'i m using this set for last month till date is working properly but regarding the speed it s not the app too fast as compare to first week of the purchase only the bad thing in this set is camera auto focusing stablity is not good ',\n",
       " 'this product is awesome',\n",
       " 'very bad phone it s take long time to charge and no battery backup as it have mah very bad no usable of power charger take to hour for full charge the battery when i charge phone is hitting ',\n",
       " 'good',\n",
       " 'pls don t buy',\n",
       " 'great no problem satisfied',\n",
       " 'wow so amazing phone',\n",
       " 'the lenovo k note is really a killer phone if you are searching for a smart phone that is totally balanced from all prospects then this is your phone but why lenovo why you used mediatek ',\n",
       " 'very bad experience with the product and also with the amazon policy the mobile is getting very hot while charging talking on phone listening of music don t trust on lenovo k note while purchasing online ',\n",
       " 'don t buy this phone at all its batteries draining very fast and camera s qualities very poor on return request phone has been tested through their software showing everything ok just check the credentials that software poor rank given by all see the photos and qualities of mega pixels are no worth of mega pixels lenovo killer note poor than lenovo vibe ',\n",
       " 'super mobile',\n",
       " 'don t take this phone camera is not good as of mp specially front one is worst heating problem is occurred during little bit heavy use like on playing game and video s it is heated up drastically on calling i want to return it but amazon refused to take it back over all not good it is ',\n",
       " 'as per commitment not received idea data gb',\n",
       " 'so so',\n",
       " 'good phone in this price',\n",
       " 'in this price segment the most desirable phone for photoholics awesome camera configurations but heating problem is an issue that is to be considered otherwise marvellous one ',\n",
       " 'screen was broken asked to replace the set but didn t get any positive resonde',\n",
       " 'received with no issues and on time ',\n",
       " 'phone charger not working properly please exchange my phone',\n",
       " 'lots of issues with lenovo k vibe as there is network issue with this mobile if you put same sim card in other mobile it works fine but call doesn t get connected in lenovo mobile',\n",
       " 'it gets over heated during short usage plz don t go for it go for samsung or other product and it s performance is very good no lag in between usage works perfectly thanks',\n",
       " 'great product ',\n",
       " 'do not buy this phone many features missing not at al worth to buy for that price',\n",
       " 'exlent',\n",
       " 'its very bad as said by some reviewers sound exp was very poor camera qualiy is awful hoping to get my return ',\n",
       " 'battery backup low nd heating to much during net and charge',\n",
       " 'it s awesome',\n",
       " 'it hangs and camera effect less',\n",
       " 'awesome phone very good experience',\n",
       " 'phone start up mins only use but phone over heat',\n",
       " 'phone is to good but heting',\n",
       " 'good mobile i need invoice for that phone kindly send my registered mail id need urgent',\n",
       " 'lenovo k note venom black gb with new system update where is the system update we have to check the update only os is updated naught not oreo then why you are mentioning it as with system update the purchase date of the mobile was and the warranty expires in days on june when checked online on the lenovo product check official lenovo warrenty check ',\n",
       " 'over all performance is good but phone is getting heated up when plugged into charging will suggest to go for redmi note instead of lenovo k ',\n",
       " ' primary camera not worthy cast screen not able to detect any smart tv s screen sharing option not available no parallel apps options unable wifi connections though strong wifi mobile data connection breaks for every minute screenshot option is pathetic many smart options which are available in budget phones are not available in this phone heating and hanging is another problem could not able to find call recording options looks to me most of problems can be resolved with appropriate updates and software enhancements so i will amend rating once lenovo address above issues if lenovo not keen to address basic issues then you will get better options even in budget phones also ',\n",
       " 'i thought i ll b getting earphones with the box but it s just a phone',\n",
       " 'superbbb ',\n",
       " 'excellent in all respect ',\n",
       " 'finger print scanner has stopped working',\n",
       " 'ok',\n",
       " 'from the very next day the finger print lock sensor of the handset stopped working ',\n",
       " 'network and battery heating prob',\n",
       " 'data cable of this product is not working',\n",
       " 'the product is not worth the money at all the battery backup is very bad and phone keeps on restarting frequently would like to get another product or refund ',\n",
       " 'this lenovo divice is overheated while charging and while mobile data turned on ',\n",
       " 'lenovo not give the task manager and camera is best but one speaker is not work and cellular network is very good ',\n",
       " 'i use this phone i feel good',\n",
       " 'its deliver day prior to scheduled time which was nice specification says its a volte supported phone but in reality its not need to install a jio gvoice if want to use jio sim in it for making and receiving calls cant make or receive calls on jio network if connected to wifi which is pathetic overall i am not happy due to all of these issues ',\n",
       " 'great phone with the stock android it s the smoothest phone that i have used till date the built quality is also descent and the front and rear cameras perform good this phone is for heavy users like me and the mah battery is good enough for a full day s work if you are looking for a phone that is all rounder in this range the k note is always a great option one thing that i left out is the sound quality which is good being backed by dolby atmos this gb ram varient is very good although the gb ram varient has some issues but this one is completely fine ',\n",
       " 'very bad product from lenovo battery is overheating so much',\n",
       " 'i bought this phone in first sale i inserted one of my two mobile sims then started updating downloading the application and then thought to insert the second sim when i tried to do so the sim slot was not opening at all i have raised the return request but unable to do so as no one is able to remove the sim card even mobile repairing shops charging is not fast dual camera is better than regular mp mobile is just ok amazon team helped in refund process happy with amazon but i may not buy this phone again ',\n",
       " 'lot s of issues bo not buy this phone',\n",
       " 'super',\n",
       " 'not so good expected better product the phone is little bit slow battery is not that good brought at high price later price dropped ',\n",
       " 'overall satisfied value for money no doubt in that but battery performance is not up to mark earlier was using panasonic eluga a with mah battery which will last whole day and will be about balance charge but this one draining battery faster overall it s good choice turbo charger also not giving any speed to change fast actually it s taking hour to hours to charge full',\n",
       " 'lt s very awesome handset and features are excellent and specially it s easy to operate',\n",
       " 'camera not capturing pictures and the battery is like mah the mobile sucks waste of money expected alot from the lenovo but it failed',\n",
       " 'i am received the lenovo k note i am using this mobile eighteen days the main problem is battery draining is very fast battery is taking hours to charge and getting drain in hours incoming calls not receiving at times even though full signal it s consume very much memory heating issue comes after some hour use dual rear camera is not working always hanging this phone it s quality is too bad not something good for buying also amazon has a cheating policy now a days for return and refund they are asking for some local app to check the phone which doesn t have battery checking option ',\n",
       " 'the games start to lag a little bit after playing for a hour and gets heated up not expecting from new phone don t know what happens when it gets old but phone have rigid body phone ram fills up to sometimes not so handy while gaming and finally stop decreasing it s cost it hurts us a lot ',\n",
       " 'phone is good best in class but battery is not much like ',\n",
       " 'with respect to price and features this is a perfect smart phone that anyone can have it ',\n",
       " 'there is a heating issue in this device and finger print sensor does not work in st time ',\n",
       " 'i d say it s a ok phone heating up like a hell otherwise it s a ok phone if you re a gamer i d recommend not to buy this phone ',\n",
       " 'jhakass',\n",
       " 'fully satisfied with the product happy ',\n",
       " 'turbo charger is not working well or camera picture quality is worse very disappointing ',\n",
       " 'after using days writingit s awesome phone with powerfull battery ram dual camera everything k i m happy with it',\n",
       " 'i purchased lenovo k note on th september it s working good for two months suddenly problem arises didn t understand what happened suddenly phone getting discharged fastly and when i charge the phone it will take more time almost hrs to complete full charge and moreover phone is getting too heat while charging it s not happened for first two months but it s totally disappointed is there any chances in getting exchange to the product',\n",
       " 'waste of money',\n",
       " 'if you are looking for simple and sweet phone then go with this handset if you are a basic user like using normal whatsapp instagram nad few other apps in daily usage then it is good battery life is average camera is also average you can say it is giving the performance for the price which you are paying ',\n",
       " 'nice phn',\n",
       " 'writing this review after eight months of using this phone this phone is very good in it s build qualitysupereb front megapixel camera with quit powerful front flash performance is very good i play a lot of games does not lag in gameing cons when talking about the cons of this product is that the bokeh mode and the blur effect is not very good just average same goes to battey backup just a bit less not as good as mi phones on heavy usage you have to charge it again in the evening ',\n",
       " 'bluetooth is not working properly with my speaker getting breaking sound most of the time',\n",
       " 'nice mobile but some network issues detected',\n",
       " 'volume keys not working volume auto matically going to zeo and going to silent mode ',\n",
       " 'dual camera didn t work charging takes hoursturbo charge doesn t workwent to lenovo service centre they didn t solve my query i want solution for this problem ',\n",
       " 'very good phone ',\n",
       " 'super',\n",
       " 'battery backup is not good full charge lasts upto hours medium utilization camera quality is also not good sometimes hangs and heating issue don t buy at this price go for mi a similar configuration at ',\n",
       " 'phone are regularly heat and his temperature is continue to over heat video song is not clearly play battery back up is very poor because phone are continue to heat in time of open mobile data and charging',\n",
       " 'good',\n",
       " 'dislikeenhanced g volte lte mode are not showing ',\n",
       " 'the best product released by lenovowhich gives a excellent performance in gaming and multi tasking and the best feature in this phone is the split screen',\n",
       " 'excellent phone better than redmi note it does heat up occasionally not every time and that too not that much battery performance is i would say above average as it lasts almost day with mah battery performance is great no complaints with the phone loved it ',\n",
       " 'best phone in this price range k updated software removed all previous issue',\n",
       " 'good product ',\n",
       " 'camera is awesome with in builth editing give somewhat professional looking photos battery is average drain at faster speed same as turbo charging had high exception from battery using p iphone style sim ejector is annoyingoverall performance is smooth like makan s smooth as f kcharger provided is not turbo it s regular',\n",
       " 'not a good product heating problem n some softwear problem',\n",
       " 'battery still hitting when charging and fingerprint sensor hanging problem ',\n",
       " ' best phone camera quality is very good',\n",
       " 'the charger of this product is not working called amazon customer care but they are refusing to change it what the hell is this ',\n",
       " 'nice fone',\n",
       " 'i have not received the ear phones from the sealed box of lenovo',\n",
       " 'i am using it from past months worst phonecast like basic function is not working ',\n",
       " 'worst ever phone of my life dont purchase its horrible',\n",
       " 'this can be a good product if lenovo improves its depth camera battery life and not so good network connectivity otherwise cool product turbo charging takes hrs to fully charge depth camera looks like some sort of software tweak ',\n",
       " 'very poor battery phone heats slot and take hours to charge there is no turbo charging ',\n",
       " 'ummaah to bolby atmos i love this device also due to stock android os bass is very detailed use ohms earphones sennheiser cx ii or cx only as they ll give enough loudness i love its sound output audio output is times better than my iphone motorola and lenovo are my permanent brands from now i regret for returning my moto g people are fools who buy any other brand when it comes to android os google should consider motorola phones as their flagship device ',\n",
       " 'after days of usage i find some issues in my lenovo k note whenever i install a new app i can t find the app in my app list when this happens i should restart my phone then only i can see the app in my app list not only that whenever i use my share it and minimises it then i found some glitches on my lock screen and home screen also and this happen with asphalt too please tell me someone that why this happens to my lenovo k note and what should i do this is there anyone to know about this please tell me ',\n",
       " 'wast of giving for mobile and also for amazon also not at all good battery performance hear the problem was battery and they are telling in ok good in the smart check there is no option about battery plz plz plz don t buy the mobile wast of money rs',\n",
       " 'battery back up is not good you have to charge minimum twice thrice a day yesterday i changed the battery from authorized service center but the problem is still same worst phone i have ever seen ',\n",
       " 'very good product',\n",
       " 'signal reception is bad mobile data does not work well as it s dual standby only one sim can be used for data at once if you have jio either you can use it for data and other sim for calls or you have to switch to the other sim turbo charging is fine ',\n",
       " 'v v good',\n",
       " 'worst product don t bye it not worth for rupees don t waste money',\n",
       " 'awesome phone really fast loaded many apps still works smoothly battery life is great but decreases rapidly if under not updated out of the box has to be updated to times ',\n",
       " 'dislike',\n",
       " 'awesome phone very smooth functioning handset ',\n",
       " 'really waste the screen is not including the gorilla glass it s lenovo waste item don t waste money it s better to prefer other phones in same budget ',\n",
       " 'nice phone ',\n",
       " 'i have ordered k note it has come with transparent back cover how come it has fitted with mobile too is this complementary ',\n",
       " 'nice mobile',\n",
       " 'nice product but late delivery by courier boy ',\n",
       " 'it doesn t get charge while it is on or some time get charge but very slowly around per hour soyou have to charge it hours to get full charged it get charge while it is switched off it seems there is sone software problem in the mobile but lenovo is not resolving it very much disappointed this problem began when i updated the software i am a regular user of lenovo but this time i am very much disappointed ',\n",
       " 'absolutely nonsense it is supposed to be splash proof but within days rendered useless after i wet in rain ',\n",
       " 'good phone very good delivery from amazon',\n",
       " 'very bad mobile from lenovo pls don t buy battery backup is worst turbocharger won t work at all hangs sometimes camera is very slow overall bad phone',\n",
       " 'the battery backup sucksand the camera stops many times after continuous usage and if you want to use your camera again than you need to restart the phonethe flashlight is not good because it gives a yellow type color on picturesi have returned this itemnow i m gonna buy tenor glet s give a try to that new companyanyways i was a very old user of lenovoi don t why but their battery backup sucksthe display is not good when comes to watching videoand bluetooth is not at all good after updating the second third updatetheir is a huge of cons which cannot be tolerated ',\n",
       " 'great mobile',\n",
       " 'thanks for your phone',\n",
       " 'evrything okk but camera quality and music quality not good like we expected',\n",
       " 'not like at all battery backup is poor and dual camera setup is worst navigation keys on bottom without back light is made it worst ',\n",
       " 'worst battery i want to return the phone ',\n",
       " 'it s budget mobile k but average oly',\n",
       " 'awesome phone by looks and all d features are working good camera is fabulous happy to choose this phone ',\n",
       " 'nice',\n",
       " 'camera quality not good ',\n",
       " 'headphone is missing pleas cheak',\n",
       " 'issues screen cast or mirroring is not at all working battery is getting heated up very fast camera is not up to mark phone is getting heated up even for less load finally i returned this phone ',\n",
       " 'best mobile ',\n",
       " 'this mobile is too bad once you update i update my mobile then i face too much heating issue and mobile apps are not working and also there is battery drainage issue after oreo updation pathetic product by lenovo',\n",
       " 'ear phones not given',\n",
       " 'absolutely useless phone in this range pls don t go for it battery worst ',\n",
       " 'nothing great in this phone except good battery life phone heats a lot function buttons at the bottom do not have backlight this is a big issue if you know sound is ok size is too big ',\n",
       " 'it s really really good phone with small price sound quality is very good i had tried many brands in past but none has worked out well for me thanks to amazon ',\n",
       " 'product not soo good its ok and in this product gives dual camera but use only one camera main mobile over heat issue',\n",
       " 'heating issue ',\n",
       " 'it s heats up in short time for charging it s takes around to hour and worst part takes same time to drain without using it for whatsup you tube or gaming feels hot in hand holding phone more than to min feels scary too as if it will gets burst long charging time huge issue ',\n",
       " 'i bought this phone on flash sell for rs now it is in the price range below rs the reason is obvious very poor battery back up camera is below average finger sensor is staggering to recognise sometimes hanged to execute simple applications which ran smoothly in my earlier smart phone whose configurations are far below than this i assure what they promised actually is a total failure don t waste your valuable money into it i doubt whether the company can rectify or upgrade the performance by software upgradation the only positive think is it s look and screen size feeling sorry how amazon can promote this product with such vigorous advertisement ',\n",
       " 'mobile is too bad and lot of network issue',\n",
       " 'good product with good packaging ',\n",
       " 'fake dual camera depth mode is of no use its just edits the pic and the produced pic feeld like badly edited battery sucks heating problem no volte jio sim won t work unless you use jio app dual camera is fake even when you place you finger in front of the mp camera your phone will still take a blurred background pic which clearly says that the pics are edited and the nd mp camera is of no use ',\n",
       " 'on offer this product is great but redmi note is a good competitor of k note ',\n",
       " 'battery is okay picture and sound qualities are awesome worth every penny ',\n",
       " 'excelant',\n",
       " 'awesome phone at this price range stock android is a bit annoying after using so many oem veraions but as time elapses you get used to it ',\n",
       " 'nice productsome issue',\n",
       " 'though battery life rating is high the cheap and slow mediatek processor lowers the battery capacity ',\n",
       " 'best in his category ',\n",
       " 'battery is very bad turbo charger is very very slow battery draining in just hours plz don t go for it camera are poor',\n",
       " 'plz do not purchase as lenovo s stock android is having lot of issues and still lenovo has not taken any action to correct them hardware wise it is nice but lacks updates',\n",
       " 'phone getting overheating since the day ',\n",
       " 'the mobile absolutely good for some of its unique features at this price it had a dedicated sd card slot front flash extra music button and so on iam using this for a month and i m fully satisfied one point i like to add here is other than fingerprint the face recognition works soo good and unlocks in less than seconds this phone had a very great user experience thanks to lenovo but one disadvantage is that it doesn t support screen cast to smart televisions and other devices ',\n",
       " 'awesome and nice phone',\n",
       " 'really a killer note really a killer camera really a killer performances hence a killer note',\n",
       " 'mobile is awesome no any ssue found in mobile',\n",
       " 'quick timely delivery by amazon but battery back of phone not good take lot of time to charge completely also on off takes too much time ',\n",
       " 'nice phone and hardware',\n",
       " 'worst phone ever within month overheating slow charging and software damn slow i think there should be a check on what they write online to allure customers never buy this',\n",
       " 'nice phone rear camera is average but taking good shots performance awesome no heating issue getting warm on normal use all over it s balanced smartphone ',\n",
       " 'nice and super',\n",
       " 'very bed phone',\n",
       " 'value for money this was good deal i have baught this when this was released even after the several month of use there is no issue ',\n",
       " 'awesome phone in every manner super fast processing brilliant camera go for it ',\n",
       " 'worst phone ever ever ever trust me dont buy this product ',\n",
       " 'good phone',\n",
       " 'i ordered this phone and it showed that they would deliver me the latest version of android oreo they delivered me a old version and as well as the device was faulty i showed this phone to the lenovo service center they said that this device is faulty and suggested that we should return this back to amazon i then contacted the amazon customer care service but they refused to take the device back as the device return period was over which is completely accepted by me but these guys cheated on me as they delivered me a faulty piece and refused to take the phone back the phone does not catch the signal of the wifi even if the router is next to it i also have two tablets of lenovo they connect to wifi instantly from anywhere in the house this was happening because of the old noughat version so i went to the lenovo service center and upgraded it to a android oreo but then the condition became even worse and it also stopped getting signal i am not satisfied with my device and i want this faulty device to be taken back by amazon and return me my rs the amazon has cheated on me as the return back policy does not allow me to make a replacement of this device i want amazon to tale back my device as soon as possible ',\n",
       " 'lot of mobiles and other items purchase this is first time i will write bad review for product improve i am not tell totaly waste this mobile some disappoint points i observe last three days frequently restart mobile during large file or multi file selection copy or deleting over heat issues observe on trasparent cover because mobile produce tomuch heat cast screen not working',\n",
       " 'battery backup not so good',\n",
       " 'quality issue',\n",
       " 'wonderful phone at this cost not much satisfied with camera quality otherwise too fix ',\n",
       " 'excellent product and excellent service by amazon',\n",
       " 'music button is not working',\n",
       " 'i have bought this phone from offline store next month in may it would be year that i am using this phone the phone is good camera good in lighted areas speed is good battery is good but what has annoyed me the most is the temperature you charge the phone surf use social media play games do whatever it heats up so much that you won t be able to hold it i play games i use two usb fans connected to my laptop pointed at the back of the phone and a damp cloth to keep playing it heats up with in minutes of playing any game when i charge i keep the fan running for just this one issue all the plus points of this phone goes down the drain in would not buy another lenovo and would not recommend buying k note ',\n",
       " 'extremely disappointedcharging time mire than hours and battery drain with in hours without heavy use ',\n",
       " 'good one but galary app is not inbuilt n earplug must be given with mobile phone ',\n",
       " 'greetings on th january there was a software update prompt which came on my mobile i had downloaded and kept the installation for next day on th january late evening while the software update was getting installed the mobile conked off and ever since i have been unable to reboot the mobile looks like this has been the same issue faced by other users for this model let us know if you need the imei number for the handset currently i am travelling and in dhaka will be returning to chennai during the first week of february i would like a refund or an alternate mobile for the same price thankssriram',\n",
       " 'battary problem over heating earlier down problem wht can i do ',\n",
       " 'very worst experience got empty box',\n",
       " 'bedluk my life this product',\n",
       " 'nice phone quick and fast n light to operate doesn t drag it s way from one app to another quite satisfied very well fit n finish too battery decent life cons it s a tad big for my taste but decent it does not get a proper screen guard as it s little curved from sides screen guards don t stick from corners or sides ram although gb on paper actually it s only n out of it too pre occupied mostly decent enough worth your money only competition i can think of is redmi note ',\n",
       " 'call recoder application is not working properly',\n",
       " 'excellent phone love it ',\n",
       " 'dont buy this product very worst camera',\n",
       " 'this mobile phone is good in this range from other mobile phones camera is really awesome and performance is much better than other phone ',\n",
       " 'poor',\n",
       " 'mobile is hiting to calling and charging',\n",
       " 'phone is very goodbut week after the phone charged slowly and fastly discharged',\n",
       " 'how can i return the product not happy with product',\n",
       " 'im using this phone from last days based on my experience i can say that this phone is not worth of k phone is too bulky no premium look both front and back camera is ok but much of waist of space in home keys i have observed heating also while playing youtube videos in this price range there r good phones available in market like lg q and nokia feeling my hard earned money waisted i got exicited by looking into configuration but after receiving phone im too disappointed dont feel like using hand can give star only for new processor n battrey ',\n",
       " 'way too big and too heavy more useful as a weapon or a hammer',\n",
       " 'good quality and good looking',\n",
       " 'no voice recorder',\n",
       " 'i expected backlight on touch buttons which is absent rest is gud',\n",
       " 'why the hell there is no gallery before i was using k note it was much handy and has super function in it ',\n",
       " 'very bad hand internet not working in this set pathetic service ',\n",
       " 'camera is too damn poor no volte no earphones didn t worth the money paid for ',\n",
       " 'good worth the money',\n",
       " 'my data cable is not working i bought this phone in the month of september from where i can get replacement ',\n",
       " 'good phone worthfull',\n",
       " 'there is mentioned as turbo charger but there is not turbo charger in it ',\n",
       " 'so nice handset for lenovo k note',\n",
       " 'vary bad',\n",
       " 'mobile is heating and quickly dischargingno tv screen share was allowing',\n",
       " 'excellent',\n",
       " 'one of the best ',\n",
       " 'mobile getting heated battery not stable phone hanging much ',\n",
       " 'one of the best smart phone in cheap price ',\n",
       " 'not gorla glass',\n",
       " 'lenovo k note mobile is very poor mobile that mobile very problem bettry backup very poor back camera mp not working it is not volte only lte that mobile verry hot funtation velly slow operating verry bad ',\n",
       " 'i bought this phone even though i am already having lenov vibe k note assuming this phone is the game changer but to my disappointment not much changes compared to lenovo vibe k note even though there a slight increase of mah bettery life but you wont experience that increase while taking photo shot on the screen appear smaller than vibe k note but low light photos are slighly better in lenovo k note even some of the features are missing in lenovo k note like super battery save mode etc not that great buy ',\n",
       " 'so far so good best in the price range ',\n",
       " 'looking nice cemara superb perparmence good but cell heating ',\n",
       " 'nice',\n",
       " 'camera is poor ',\n",
       " 'lenovo k note is very good product at this time of android generation it has great speed look ',\n",
       " 'best ever phone good camera quality good ram best feachers lenovo is best',\n",
       " 'looking good phone not hanging battery very good',\n",
       " 'phone is good but is too large difficult to hold in hand also the ui is not very user friendly ',\n",
       " ...]"
      ]
     },
     "execution_count": 12,
     "metadata": {},
     "output_type": "execute_result"
    }
   ],
   "source": [
    "clean_text"
   ]
  },
  {
   "cell_type": "code",
   "execution_count": 13,
   "id": "8f174f68",
   "metadata": {},
   "outputs": [],
   "source": [
    "from gingerit.gingerit import GingerIt\n",
    "\n",
    "parser = GingerIt()"
   ]
  },
  {
   "cell_type": "code",
   "execution_count": 27,
   "id": "b75744b5",
   "metadata": {},
   "outputs": [],
   "source": [
    "# Redovi koji nisu pogodni za gingerit algoritam izbacujemo, pa cemo ih vratiti nakon izvrsenja algoritma kao originalne\n",
    "# i dalje cemo raditi sredjivanje podataka sa potpunim dataset-om"
   ]
  },
  {
   "cell_type": "code",
   "execution_count": 14,
   "id": "90e30887",
   "metadata": {},
   "outputs": [],
   "source": [
    "data = data.drop(76)"
   ]
  },
  {
   "cell_type": "code",
   "execution_count": 15,
   "id": "b6d8c935",
   "metadata": {},
   "outputs": [],
   "source": [
    "data = data.drop(158)"
   ]
  },
  {
   "cell_type": "code",
   "execution_count": 16,
   "id": "647f8f40",
   "metadata": {},
   "outputs": [],
   "source": [
    "data = data.drop(298)"
   ]
  },
  {
   "cell_type": "code",
   "execution_count": 17,
   "id": "29d19eb7",
   "metadata": {},
   "outputs": [],
   "source": [
    "data = data.drop(250)"
   ]
  },
  {
   "cell_type": "code",
   "execution_count": 18,
   "id": "07257d80",
   "metadata": {},
   "outputs": [],
   "source": [
    "data = data.drop(300)"
   ]
  },
  {
   "cell_type": "code",
   "execution_count": 19,
   "id": "f53123b1",
   "metadata": {},
   "outputs": [],
   "source": [
    "data = data.drop(337)"
   ]
  },
  {
   "cell_type": "code",
   "execution_count": 20,
   "id": "e49f5f38",
   "metadata": {},
   "outputs": [],
   "source": [
    "data = data.drop(439)"
   ]
  },
  {
   "cell_type": "code",
   "execution_count": 21,
   "id": "34b8d080",
   "metadata": {},
   "outputs": [],
   "source": [
    "data = data.drop(565)"
   ]
  },
  {
   "cell_type": "code",
   "execution_count": 22,
   "id": "1dbdad04",
   "metadata": {},
   "outputs": [],
   "source": [
    "data = data.drop(579)"
   ]
  },
  {
   "cell_type": "code",
   "execution_count": 23,
   "id": "2a7c2880",
   "metadata": {},
   "outputs": [],
   "source": [
    "data = data.drop(744)"
   ]
  },
  {
   "cell_type": "code",
   "execution_count": 24,
   "id": "b45510a2",
   "metadata": {},
   "outputs": [],
   "source": [
    "data = data.drop(751)"
   ]
  },
  {
   "cell_type": "code",
   "execution_count": 25,
   "id": "57d70777",
   "metadata": {},
   "outputs": [],
   "source": [
    "data = data.drop(760)"
   ]
  },
  {
   "cell_type": "code",
   "execution_count": 26,
   "id": "a7a06ecd",
   "metadata": {},
   "outputs": [],
   "source": [
    "data = data.drop(774)"
   ]
  },
  {
   "cell_type": "code",
   "execution_count": 27,
   "id": "3524ee40",
   "metadata": {},
   "outputs": [],
   "source": [
    "data = data.drop(816)"
   ]
  },
  {
   "cell_type": "code",
   "execution_count": 28,
   "id": "e9b72880",
   "metadata": {},
   "outputs": [],
   "source": [
    "data = data.drop(884)"
   ]
  },
  {
   "cell_type": "code",
   "execution_count": 29,
   "id": "0b8bec7e",
   "metadata": {},
   "outputs": [],
   "source": [
    "data = data.drop(920)"
   ]
  },
  {
   "cell_type": "code",
   "execution_count": 30,
   "id": "31a2bae8",
   "metadata": {},
   "outputs": [],
   "source": [
    "data = data.drop(948)"
   ]
  },
  {
   "cell_type": "code",
   "execution_count": 31,
   "id": "b0cf6533",
   "metadata": {},
   "outputs": [],
   "source": [
    "data = data.drop(955)"
   ]
  },
  {
   "cell_type": "code",
   "execution_count": 32,
   "id": "6287d1df",
   "metadata": {},
   "outputs": [],
   "source": [
    "data = data.drop(958)"
   ]
  },
  {
   "cell_type": "code",
   "execution_count": 33,
   "id": "1553eeb9",
   "metadata": {},
   "outputs": [],
   "source": [
    "data = data.drop(1050)"
   ]
  },
  {
   "cell_type": "code",
   "execution_count": 34,
   "id": "0c1c7d76",
   "metadata": {},
   "outputs": [],
   "source": [
    "data = data.drop(1062)"
   ]
  },
  {
   "cell_type": "code",
   "execution_count": 35,
   "id": "21667bd6",
   "metadata": {},
   "outputs": [],
   "source": [
    "data = data.drop(1075)"
   ]
  },
  {
   "cell_type": "code",
   "execution_count": 36,
   "id": "bf917d43",
   "metadata": {},
   "outputs": [],
   "source": [
    "data = data.drop(1096)"
   ]
  },
  {
   "cell_type": "code",
   "execution_count": 37,
   "id": "81f05a17",
   "metadata": {},
   "outputs": [],
   "source": [
    "data = data.drop(1104)"
   ]
  },
  {
   "cell_type": "code",
   "execution_count": 38,
   "id": "fa6f5ad0",
   "metadata": {},
   "outputs": [],
   "source": [
    "data = data.drop(1141)"
   ]
  },
  {
   "cell_type": "code",
   "execution_count": 39,
   "id": "21320cf8",
   "metadata": {},
   "outputs": [],
   "source": [
    "data = data.drop(1208)"
   ]
  },
  {
   "cell_type": "code",
   "execution_count": 40,
   "id": "af091478",
   "metadata": {},
   "outputs": [],
   "source": [
    "data = data.drop(1256)"
   ]
  },
  {
   "cell_type": "code",
   "execution_count": 41,
   "id": "f4078d47",
   "metadata": {},
   "outputs": [],
   "source": [
    "data = data.drop(1262)"
   ]
  },
  {
   "cell_type": "code",
   "execution_count": 42,
   "id": "0937d09f",
   "metadata": {},
   "outputs": [],
   "source": [
    "data = data.drop(1349)"
   ]
  },
  {
   "cell_type": "code",
   "execution_count": 43,
   "id": "eeedd2aa",
   "metadata": {},
   "outputs": [],
   "source": [
    "data = data.drop(1418)"
   ]
  },
  {
   "cell_type": "code",
   "execution_count": 44,
   "id": "a7d57b7f",
   "metadata": {},
   "outputs": [],
   "source": [
    "data = data.drop(1503)"
   ]
  },
  {
   "cell_type": "code",
   "execution_count": 45,
   "id": "b9edc696",
   "metadata": {},
   "outputs": [],
   "source": [
    "data = data.drop(1506)"
   ]
  },
  {
   "cell_type": "code",
   "execution_count": 46,
   "id": "2ef0f87c",
   "metadata": {},
   "outputs": [],
   "source": [
    "data = data.drop(1523)"
   ]
  },
  {
   "cell_type": "code",
   "execution_count": 47,
   "id": "138e8532",
   "metadata": {},
   "outputs": [],
   "source": [
    "data = data.drop(1546)"
   ]
  },
  {
   "cell_type": "code",
   "execution_count": 48,
   "id": "83a78b48",
   "metadata": {},
   "outputs": [],
   "source": [
    "data = data.drop(1616)"
   ]
  },
  {
   "cell_type": "code",
   "execution_count": 49,
   "id": "afcdafe5",
   "metadata": {},
   "outputs": [],
   "source": [
    "data = data.drop(1631)"
   ]
  },
  {
   "cell_type": "code",
   "execution_count": 50,
   "id": "8a4516e3",
   "metadata": {},
   "outputs": [],
   "source": [
    "data = data.drop(1683)"
   ]
  },
  {
   "cell_type": "code",
   "execution_count": 51,
   "id": "013ec42d",
   "metadata": {},
   "outputs": [],
   "source": [
    "data = data.drop(1684)"
   ]
  },
  {
   "cell_type": "code",
   "execution_count": 52,
   "id": "0caf5577",
   "metadata": {},
   "outputs": [],
   "source": [
    "data = data.drop(1818)"
   ]
  },
  {
   "cell_type": "code",
   "execution_count": 53,
   "id": "cf4963de",
   "metadata": {},
   "outputs": [],
   "source": [
    "data = data.drop(1835)"
   ]
  },
  {
   "cell_type": "code",
   "execution_count": 54,
   "id": "171eab6a",
   "metadata": {},
   "outputs": [],
   "source": [
    "data = data.drop(1895)"
   ]
  },
  {
   "cell_type": "code",
   "execution_count": 55,
   "id": "8d0c8be3",
   "metadata": {},
   "outputs": [],
   "source": [
    "data = data.drop(1968)"
   ]
  },
  {
   "cell_type": "code",
   "execution_count": 56,
   "id": "6c731832",
   "metadata": {},
   "outputs": [],
   "source": [
    "data = data.drop(1973)"
   ]
  },
  {
   "cell_type": "code",
   "execution_count": 57,
   "id": "dc0a8f92",
   "metadata": {},
   "outputs": [],
   "source": [
    "data = data.drop(1996)"
   ]
  },
  {
   "cell_type": "code",
   "execution_count": 58,
   "id": "f4abd66e",
   "metadata": {},
   "outputs": [],
   "source": [
    "data = data.drop(2003)"
   ]
  },
  {
   "cell_type": "code",
   "execution_count": 59,
   "id": "4aa16eb6",
   "metadata": {},
   "outputs": [],
   "source": [
    "data = data.drop(2311)"
   ]
  },
  {
   "cell_type": "code",
   "execution_count": 60,
   "id": "b8d4de56",
   "metadata": {},
   "outputs": [],
   "source": [
    "data = data.drop(2375)"
   ]
  },
  {
   "cell_type": "code",
   "execution_count": 61,
   "id": "996c1d6c",
   "metadata": {},
   "outputs": [],
   "source": [
    "data = data.drop(2562)"
   ]
  },
  {
   "cell_type": "code",
   "execution_count": 62,
   "id": "5d42e1d1",
   "metadata": {},
   "outputs": [],
   "source": [
    "data = data.drop(2576)"
   ]
  },
  {
   "cell_type": "code",
   "execution_count": 63,
   "id": "c66764f8",
   "metadata": {},
   "outputs": [],
   "source": [
    "data = data.drop(2581)"
   ]
  },
  {
   "cell_type": "code",
   "execution_count": 64,
   "id": "e171cdc1",
   "metadata": {},
   "outputs": [],
   "source": [
    "data = data.drop(2626)"
   ]
  },
  {
   "cell_type": "code",
   "execution_count": 65,
   "id": "30563d18",
   "metadata": {},
   "outputs": [],
   "source": [
    "data = data.drop(2630)"
   ]
  },
  {
   "cell_type": "code",
   "execution_count": 66,
   "id": "dfd2c821",
   "metadata": {},
   "outputs": [],
   "source": [
    "data = data.drop(2708)"
   ]
  },
  {
   "cell_type": "code",
   "execution_count": 67,
   "id": "730a972c",
   "metadata": {},
   "outputs": [],
   "source": [
    "data = data.drop(2727)"
   ]
  },
  {
   "cell_type": "code",
   "execution_count": 68,
   "id": "521ac69d",
   "metadata": {},
   "outputs": [],
   "source": [
    "data = data.drop(2818)"
   ]
  },
  {
   "cell_type": "code",
   "execution_count": 69,
   "id": "6d8f834a",
   "metadata": {},
   "outputs": [],
   "source": [
    "data = data.drop(2948)"
   ]
  },
  {
   "cell_type": "code",
   "execution_count": 70,
   "id": "df63af5a",
   "metadata": {},
   "outputs": [],
   "source": [
    "data = data.drop(2968)"
   ]
  },
  {
   "cell_type": "code",
   "execution_count": 71,
   "id": "ee863b67",
   "metadata": {},
   "outputs": [],
   "source": [
    "data = data.drop(3099)"
   ]
  },
  {
   "cell_type": "code",
   "execution_count": 72,
   "id": "81837810",
   "metadata": {},
   "outputs": [],
   "source": [
    "data = data.drop(3204)"
   ]
  },
  {
   "cell_type": "code",
   "execution_count": 73,
   "id": "1ab8d78f",
   "metadata": {},
   "outputs": [],
   "source": [
    "data = data.drop(3316)"
   ]
  },
  {
   "cell_type": "code",
   "execution_count": 74,
   "id": "e094e77e",
   "metadata": {},
   "outputs": [],
   "source": [
    "data = data.drop(3361)"
   ]
  },
  {
   "cell_type": "code",
   "execution_count": 75,
   "id": "2ae5ab08",
   "metadata": {},
   "outputs": [],
   "source": [
    "data = data.drop(3450)"
   ]
  },
  {
   "cell_type": "code",
   "execution_count": 76,
   "id": "a3fc9ec8",
   "metadata": {},
   "outputs": [],
   "source": [
    "data = data.drop(3554)"
   ]
  },
  {
   "cell_type": "code",
   "execution_count": 77,
   "id": "83264155",
   "metadata": {},
   "outputs": [],
   "source": [
    "data = data.drop(3563)"
   ]
  },
  {
   "cell_type": "code",
   "execution_count": 78,
   "id": "0df806cf",
   "metadata": {},
   "outputs": [],
   "source": [
    "data = data.drop(3633)"
   ]
  },
  {
   "cell_type": "code",
   "execution_count": 79,
   "id": "cece776f",
   "metadata": {},
   "outputs": [],
   "source": [
    "data = data.drop(3642)"
   ]
  },
  {
   "cell_type": "code",
   "execution_count": 80,
   "id": "4ab35226",
   "metadata": {},
   "outputs": [],
   "source": [
    "data = data.drop(3660)"
   ]
  },
  {
   "cell_type": "code",
   "execution_count": 81,
   "id": "9f842e7c",
   "metadata": {},
   "outputs": [],
   "source": [
    "data = data.drop(3700)"
   ]
  },
  {
   "cell_type": "code",
   "execution_count": 82,
   "id": "5161cb7d",
   "metadata": {},
   "outputs": [],
   "source": [
    "data = data.drop(3743)"
   ]
  },
  {
   "cell_type": "code",
   "execution_count": 83,
   "id": "d4142b99",
   "metadata": {},
   "outputs": [],
   "source": [
    "data = data.drop(3767)"
   ]
  },
  {
   "cell_type": "code",
   "execution_count": 84,
   "id": "69601451",
   "metadata": {},
   "outputs": [],
   "source": [
    "data = data.drop(3803)"
   ]
  },
  {
   "cell_type": "code",
   "execution_count": 85,
   "id": "b440db01",
   "metadata": {},
   "outputs": [],
   "source": [
    "data = data.drop(3848)"
   ]
  },
  {
   "cell_type": "code",
   "execution_count": 86,
   "id": "142a6a4e",
   "metadata": {},
   "outputs": [],
   "source": [
    "data = data.drop(3891)"
   ]
  },
  {
   "cell_type": "code",
   "execution_count": 87,
   "id": "e2186f23",
   "metadata": {},
   "outputs": [],
   "source": [
    "data = data.drop(3894)"
   ]
  },
  {
   "cell_type": "code",
   "execution_count": 88,
   "id": "53e7c328",
   "metadata": {},
   "outputs": [],
   "source": [
    "data = data.drop(3978)"
   ]
  },
  {
   "cell_type": "code",
   "execution_count": 89,
   "id": "ef148c80",
   "metadata": {},
   "outputs": [],
   "source": [
    "data = data.drop(3998)"
   ]
  },
  {
   "cell_type": "code",
   "execution_count": 90,
   "id": "6d13dbe4",
   "metadata": {},
   "outputs": [],
   "source": [
    "data = data.drop(4236)"
   ]
  },
  {
   "cell_type": "code",
   "execution_count": 91,
   "id": "c261d205",
   "metadata": {},
   "outputs": [],
   "source": [
    "data = data.drop(4268)"
   ]
  },
  {
   "cell_type": "code",
   "execution_count": 92,
   "id": "73029c04",
   "metadata": {},
   "outputs": [],
   "source": [
    "data = data.drop(4436)"
   ]
  },
  {
   "cell_type": "code",
   "execution_count": 93,
   "id": "a7a071fb",
   "metadata": {},
   "outputs": [],
   "source": [
    "data = data.drop(4516)"
   ]
  },
  {
   "cell_type": "code",
   "execution_count": 94,
   "id": "6a6c33a2",
   "metadata": {},
   "outputs": [],
   "source": [
    "data = data.drop(4525)"
   ]
  },
  {
   "cell_type": "code",
   "execution_count": 95,
   "id": "31165386",
   "metadata": {},
   "outputs": [],
   "source": [
    "data = data.drop(4544)"
   ]
  },
  {
   "cell_type": "code",
   "execution_count": 96,
   "id": "e8215c7e",
   "metadata": {},
   "outputs": [],
   "source": [
    "data = data.drop(4579)"
   ]
  },
  {
   "cell_type": "code",
   "execution_count": 97,
   "id": "e8ea52a0",
   "metadata": {},
   "outputs": [],
   "source": [
    "data = data.drop(4600)"
   ]
  },
  {
   "cell_type": "code",
   "execution_count": 98,
   "id": "bedc35a2",
   "metadata": {},
   "outputs": [],
   "source": [
    "data = data.drop(4612)"
   ]
  },
  {
   "cell_type": "code",
   "execution_count": 99,
   "id": "07abd42a",
   "metadata": {},
   "outputs": [],
   "source": [
    "data = data.drop(4688)"
   ]
  },
  {
   "cell_type": "code",
   "execution_count": 100,
   "id": "a0c86a08",
   "metadata": {},
   "outputs": [],
   "source": [
    "data = data.drop(4706)"
   ]
  },
  {
   "cell_type": "code",
   "execution_count": 101,
   "id": "6eac6944",
   "metadata": {},
   "outputs": [],
   "source": [
    "data = data.drop(4718)"
   ]
  },
  {
   "cell_type": "code",
   "execution_count": 102,
   "id": "2bd4185a",
   "metadata": {},
   "outputs": [],
   "source": [
    "data = data.drop(4875)"
   ]
  },
  {
   "cell_type": "code",
   "execution_count": 103,
   "id": "e468b948",
   "metadata": {},
   "outputs": [],
   "source": [
    "data = data.drop(4907)"
   ]
  },
  {
   "cell_type": "code",
   "execution_count": 104,
   "id": "f32e8b49",
   "metadata": {},
   "outputs": [],
   "source": [
    "data = data.drop(4982)"
   ]
  },
  {
   "cell_type": "code",
   "execution_count": 105,
   "id": "dfafcf91",
   "metadata": {},
   "outputs": [],
   "source": [
    "data = data.drop(4991)"
   ]
  },
  {
   "cell_type": "code",
   "execution_count": 106,
   "id": "33f95b4d",
   "metadata": {},
   "outputs": [],
   "source": [
    "data = data.drop(5004)"
   ]
  },
  {
   "cell_type": "code",
   "execution_count": 107,
   "id": "e33446f5",
   "metadata": {},
   "outputs": [],
   "source": [
    "data = data.drop(5052)"
   ]
  },
  {
   "cell_type": "code",
   "execution_count": 108,
   "id": "aed107cc",
   "metadata": {},
   "outputs": [],
   "source": [
    "data = data.drop(5062)"
   ]
  },
  {
   "cell_type": "code",
   "execution_count": 109,
   "id": "793693c2",
   "metadata": {},
   "outputs": [],
   "source": [
    "data = data.drop(5236)"
   ]
  },
  {
   "cell_type": "code",
   "execution_count": 110,
   "id": "52d910d7",
   "metadata": {},
   "outputs": [],
   "source": [
    "data = data.drop(5321)"
   ]
  },
  {
   "cell_type": "code",
   "execution_count": 111,
   "id": "a3dd0a01",
   "metadata": {},
   "outputs": [],
   "source": [
    "data = data.drop(5412)"
   ]
  },
  {
   "cell_type": "code",
   "execution_count": 112,
   "id": "a0f06429",
   "metadata": {},
   "outputs": [],
   "source": [
    "data = data.drop(5441)"
   ]
  },
  {
   "cell_type": "code",
   "execution_count": 113,
   "id": "ef056a82",
   "metadata": {},
   "outputs": [],
   "source": [
    "data = data.drop(5449)"
   ]
  },
  {
   "cell_type": "code",
   "execution_count": 114,
   "id": "ad7b81b1",
   "metadata": {},
   "outputs": [],
   "source": [
    "data = data.drop(5503)"
   ]
  },
  {
   "cell_type": "code",
   "execution_count": 115,
   "id": "ca73698b",
   "metadata": {},
   "outputs": [],
   "source": [
    "data = data.drop(5562)"
   ]
  },
  {
   "cell_type": "code",
   "execution_count": 116,
   "id": "426b20ab",
   "metadata": {},
   "outputs": [],
   "source": [
    "data = data.drop(5681)"
   ]
  },
  {
   "cell_type": "code",
   "execution_count": 117,
   "id": "b083857e",
   "metadata": {},
   "outputs": [],
   "source": [
    "data = data.drop(5706)"
   ]
  },
  {
   "cell_type": "code",
   "execution_count": 118,
   "id": "cc48b2c7",
   "metadata": {},
   "outputs": [],
   "source": [
    "data = data.drop(5736)"
   ]
  },
  {
   "cell_type": "code",
   "execution_count": 119,
   "id": "94fe1ae9",
   "metadata": {},
   "outputs": [],
   "source": [
    "data = data.drop(5766)"
   ]
  },
  {
   "cell_type": "code",
   "execution_count": 120,
   "id": "40a1f979",
   "metadata": {},
   "outputs": [],
   "source": [
    "data = data.drop(5852)"
   ]
  },
  {
   "cell_type": "code",
   "execution_count": 121,
   "id": "5c5321c9",
   "metadata": {},
   "outputs": [],
   "source": [
    "data = data.drop(5870)"
   ]
  },
  {
   "cell_type": "code",
   "execution_count": 122,
   "id": "398f8912",
   "metadata": {},
   "outputs": [],
   "source": [
    "data = data.drop(5890)"
   ]
  },
  {
   "cell_type": "code",
   "execution_count": 123,
   "id": "2d419e28",
   "metadata": {},
   "outputs": [],
   "source": [
    "data = data.drop(5897)"
   ]
  },
  {
   "cell_type": "code",
   "execution_count": 124,
   "id": "145ee10d",
   "metadata": {},
   "outputs": [],
   "source": [
    "data = data.drop(5927)"
   ]
  },
  {
   "cell_type": "code",
   "execution_count": 125,
   "id": "772d6557",
   "metadata": {},
   "outputs": [],
   "source": [
    "data = data.drop(5946)"
   ]
  },
  {
   "cell_type": "code",
   "execution_count": 126,
   "id": "e81e142d",
   "metadata": {},
   "outputs": [],
   "source": [
    "data = data.drop(5948)"
   ]
  },
  {
   "cell_type": "code",
   "execution_count": 127,
   "id": "59df889e",
   "metadata": {},
   "outputs": [],
   "source": [
    "data = data.drop(5956)"
   ]
  },
  {
   "cell_type": "code",
   "execution_count": 128,
   "id": "e7425692",
   "metadata": {},
   "outputs": [],
   "source": [
    "data = data.drop(5965)"
   ]
  },
  {
   "cell_type": "code",
   "execution_count": 129,
   "id": "911fe930",
   "metadata": {},
   "outputs": [],
   "source": [
    "data = data.drop(6073)"
   ]
  },
  {
   "cell_type": "code",
   "execution_count": 130,
   "id": "fbb7ede4",
   "metadata": {},
   "outputs": [],
   "source": [
    "data = data.drop(6134)"
   ]
  },
  {
   "cell_type": "code",
   "execution_count": 131,
   "id": "70a3292c",
   "metadata": {},
   "outputs": [],
   "source": [
    "data = data.drop(6150)"
   ]
  },
  {
   "cell_type": "code",
   "execution_count": 132,
   "id": "ac414604",
   "metadata": {},
   "outputs": [],
   "source": [
    "data = data.drop(6251)"
   ]
  },
  {
   "cell_type": "code",
   "execution_count": 133,
   "id": "4c2cbf11",
   "metadata": {},
   "outputs": [],
   "source": [
    "data = data.drop(6287)"
   ]
  },
  {
   "cell_type": "code",
   "execution_count": 134,
   "id": "642b8046",
   "metadata": {},
   "outputs": [],
   "source": [
    "data = data.drop(6426)"
   ]
  },
  {
   "cell_type": "code",
   "execution_count": 135,
   "id": "472cffb9",
   "metadata": {},
   "outputs": [],
   "source": [
    "data = data.drop(6506)"
   ]
  },
  {
   "cell_type": "code",
   "execution_count": 136,
   "id": "69859dd8",
   "metadata": {},
   "outputs": [],
   "source": [
    "data = data.drop(6587)"
   ]
  },
  {
   "cell_type": "code",
   "execution_count": 137,
   "id": "8795bd99",
   "metadata": {},
   "outputs": [],
   "source": [
    "data = data.drop(6660)"
   ]
  },
  {
   "cell_type": "code",
   "execution_count": 138,
   "id": "c12ed3ad",
   "metadata": {},
   "outputs": [],
   "source": [
    "data = data.drop(6662)"
   ]
  },
  {
   "cell_type": "code",
   "execution_count": 139,
   "id": "1fd35ebf",
   "metadata": {},
   "outputs": [],
   "source": [
    "data = data.drop(6703)"
   ]
  },
  {
   "cell_type": "code",
   "execution_count": 140,
   "id": "4b75d96e",
   "metadata": {},
   "outputs": [],
   "source": [
    "data = data.drop(6717)"
   ]
  },
  {
   "cell_type": "code",
   "execution_count": 141,
   "id": "43342b0b",
   "metadata": {},
   "outputs": [],
   "source": [
    "data = data.drop(6747)"
   ]
  },
  {
   "cell_type": "code",
   "execution_count": 142,
   "id": "1e711a3c",
   "metadata": {},
   "outputs": [],
   "source": [
    "data = data.drop(6809)"
   ]
  },
  {
   "cell_type": "code",
   "execution_count": 143,
   "id": "f7beb29b",
   "metadata": {},
   "outputs": [],
   "source": [
    "data = data.drop(6813)"
   ]
  },
  {
   "cell_type": "code",
   "execution_count": 144,
   "id": "caffb7b1",
   "metadata": {},
   "outputs": [],
   "source": [
    "data = data.drop(6882)"
   ]
  },
  {
   "cell_type": "code",
   "execution_count": 145,
   "id": "05f5fe6d",
   "metadata": {},
   "outputs": [],
   "source": [
    "data = data.drop(6979)"
   ]
  },
  {
   "cell_type": "code",
   "execution_count": 146,
   "id": "a6d34504",
   "metadata": {},
   "outputs": [],
   "source": [
    "data = data.drop(6985)"
   ]
  },
  {
   "cell_type": "code",
   "execution_count": 147,
   "id": "90f9316e",
   "metadata": {},
   "outputs": [],
   "source": [
    "data = data.drop(6986)"
   ]
  },
  {
   "cell_type": "code",
   "execution_count": 148,
   "id": "a0c7125d",
   "metadata": {},
   "outputs": [],
   "source": [
    "data = data.drop(7161)"
   ]
  },
  {
   "cell_type": "code",
   "execution_count": 149,
   "id": "c2ea2994",
   "metadata": {},
   "outputs": [],
   "source": [
    "data = data.drop(7187)"
   ]
  },
  {
   "cell_type": "code",
   "execution_count": 150,
   "id": "e347af34",
   "metadata": {},
   "outputs": [],
   "source": [
    "data = data.drop(7236)"
   ]
  },
  {
   "cell_type": "code",
   "execution_count": 151,
   "id": "ba348f75",
   "metadata": {},
   "outputs": [],
   "source": [
    "data = data.drop(7292)"
   ]
  },
  {
   "cell_type": "code",
   "execution_count": 152,
   "id": "36c03250",
   "metadata": {},
   "outputs": [],
   "source": [
    "data = data.drop(7294)"
   ]
  },
  {
   "cell_type": "code",
   "execution_count": 153,
   "id": "0a02d92d",
   "metadata": {},
   "outputs": [],
   "source": [
    "data = data.drop(7361)"
   ]
  },
  {
   "cell_type": "code",
   "execution_count": 154,
   "id": "fabb2134",
   "metadata": {},
   "outputs": [],
   "source": [
    "data = data.drop(7393)"
   ]
  },
  {
   "cell_type": "code",
   "execution_count": 155,
   "id": "e1009152",
   "metadata": {},
   "outputs": [],
   "source": [
    "data = data.drop(7546)"
   ]
  },
  {
   "cell_type": "code",
   "execution_count": 156,
   "id": "964cf818",
   "metadata": {},
   "outputs": [],
   "source": [
    "data = data.drop(7560)"
   ]
  },
  {
   "cell_type": "code",
   "execution_count": 157,
   "id": "76ad5c7e",
   "metadata": {},
   "outputs": [],
   "source": [
    "data = data.drop(7626)"
   ]
  },
  {
   "cell_type": "code",
   "execution_count": 158,
   "id": "b1b05cc8",
   "metadata": {},
   "outputs": [],
   "source": [
    "data = data.drop(7627)"
   ]
  },
  {
   "cell_type": "code",
   "execution_count": 159,
   "id": "859c3895",
   "metadata": {},
   "outputs": [],
   "source": [
    "data = data.drop(7709)"
   ]
  },
  {
   "cell_type": "code",
   "execution_count": 160,
   "id": "601a1d0a",
   "metadata": {},
   "outputs": [],
   "source": [
    "data = data.drop(7711)"
   ]
  },
  {
   "cell_type": "code",
   "execution_count": 161,
   "id": "bbacce29",
   "metadata": {},
   "outputs": [],
   "source": [
    "data = data.drop(7774)"
   ]
  },
  {
   "cell_type": "code",
   "execution_count": 162,
   "id": "26dba4ee",
   "metadata": {},
   "outputs": [],
   "source": [
    "data = data.drop(7794)"
   ]
  },
  {
   "cell_type": "code",
   "execution_count": 163,
   "id": "72c9ba6b",
   "metadata": {},
   "outputs": [],
   "source": [
    "data = data.drop(7805)"
   ]
  },
  {
   "cell_type": "code",
   "execution_count": 164,
   "id": "79d8d913",
   "metadata": {},
   "outputs": [],
   "source": [
    "data = data.drop(7829)"
   ]
  },
  {
   "cell_type": "code",
   "execution_count": 165,
   "id": "49fc7fe6",
   "metadata": {},
   "outputs": [],
   "source": [
    "data = data.drop(7850)"
   ]
  },
  {
   "cell_type": "code",
   "execution_count": 166,
   "id": "704b0dff",
   "metadata": {},
   "outputs": [],
   "source": [
    "data = data.drop(7992)"
   ]
  },
  {
   "cell_type": "code",
   "execution_count": 167,
   "id": "56a7ec64",
   "metadata": {},
   "outputs": [],
   "source": [
    "data = data.drop(8086)"
   ]
  },
  {
   "cell_type": "code",
   "execution_count": 168,
   "id": "21c0507e",
   "metadata": {},
   "outputs": [],
   "source": [
    "data = data.drop(8254)"
   ]
  },
  {
   "cell_type": "code",
   "execution_count": 169,
   "id": "137a7f5b",
   "metadata": {},
   "outputs": [],
   "source": [
    "data = data.drop(8359)"
   ]
  },
  {
   "cell_type": "code",
   "execution_count": 170,
   "id": "b0756907",
   "metadata": {},
   "outputs": [],
   "source": [
    "data = data.drop(8450)"
   ]
  },
  {
   "cell_type": "code",
   "execution_count": 171,
   "id": "2f723bcd",
   "metadata": {},
   "outputs": [],
   "source": [
    "data = data.drop(8458)"
   ]
  },
  {
   "cell_type": "code",
   "execution_count": 172,
   "id": "dda2c5b2",
   "metadata": {},
   "outputs": [],
   "source": [
    "data = data.drop(8547)"
   ]
  },
  {
   "cell_type": "code",
   "execution_count": 173,
   "id": "69d9b837",
   "metadata": {},
   "outputs": [],
   "source": [
    "data = data.drop(8666)"
   ]
  },
  {
   "cell_type": "code",
   "execution_count": 174,
   "id": "5da6a7d2",
   "metadata": {},
   "outputs": [],
   "source": [
    "data = data.drop(8680)"
   ]
  },
  {
   "cell_type": "code",
   "execution_count": 175,
   "id": "aa860090",
   "metadata": {},
   "outputs": [],
   "source": [
    "data = data.drop(8773)"
   ]
  },
  {
   "cell_type": "code",
   "execution_count": 176,
   "id": "fb01b11a",
   "metadata": {},
   "outputs": [],
   "source": [
    "data = data.drop(8829)"
   ]
  },
  {
   "cell_type": "code",
   "execution_count": 177,
   "id": "6d4d5f98",
   "metadata": {},
   "outputs": [],
   "source": [
    "data = data.drop(8861)"
   ]
  },
  {
   "cell_type": "code",
   "execution_count": 178,
   "id": "6cf95cca",
   "metadata": {},
   "outputs": [],
   "source": [
    "data = data.drop(8946)"
   ]
  },
  {
   "cell_type": "code",
   "execution_count": 179,
   "id": "e3f89e1a",
   "metadata": {},
   "outputs": [],
   "source": [
    "data = data.drop(8982)"
   ]
  },
  {
   "cell_type": "code",
   "execution_count": 180,
   "id": "90b5f16b",
   "metadata": {},
   "outputs": [],
   "source": [
    "data = data.drop(9073)"
   ]
  },
  {
   "cell_type": "code",
   "execution_count": 181,
   "id": "82f9c977",
   "metadata": {},
   "outputs": [],
   "source": [
    "data = data.drop(9096)"
   ]
  },
  {
   "cell_type": "code",
   "execution_count": 182,
   "id": "a7b5e026",
   "metadata": {},
   "outputs": [],
   "source": [
    "data = data.drop(9202)"
   ]
  },
  {
   "cell_type": "code",
   "execution_count": 183,
   "id": "db86fa37",
   "metadata": {},
   "outputs": [],
   "source": [
    "data = data.drop(9228)"
   ]
  },
  {
   "cell_type": "code",
   "execution_count": 184,
   "id": "9a25951f",
   "metadata": {},
   "outputs": [],
   "source": [
    "data = data.drop(9278)"
   ]
  },
  {
   "cell_type": "code",
   "execution_count": 185,
   "id": "2507818b",
   "metadata": {},
   "outputs": [],
   "source": [
    "data = data.drop(9282)"
   ]
  },
  {
   "cell_type": "code",
   "execution_count": 186,
   "id": "f59ff886",
   "metadata": {},
   "outputs": [],
   "source": [
    "data = data.drop(9336)"
   ]
  },
  {
   "cell_type": "code",
   "execution_count": 187,
   "id": "94b38b66",
   "metadata": {},
   "outputs": [],
   "source": [
    "data = data.drop(9349)"
   ]
  },
  {
   "cell_type": "code",
   "execution_count": 188,
   "id": "dbf1b8c5",
   "metadata": {},
   "outputs": [],
   "source": [
    "data = data.drop(9408)"
   ]
  },
  {
   "cell_type": "code",
   "execution_count": 189,
   "id": "84d45373",
   "metadata": {},
   "outputs": [],
   "source": [
    "data = data.drop(9420)"
   ]
  },
  {
   "cell_type": "code",
   "execution_count": 190,
   "id": "297d8af4",
   "metadata": {},
   "outputs": [],
   "source": [
    "data = data.drop(9428)"
   ]
  },
  {
   "cell_type": "code",
   "execution_count": 191,
   "id": "9e6c7e9f",
   "metadata": {},
   "outputs": [],
   "source": [
    "data = data.drop(9499)"
   ]
  },
  {
   "cell_type": "code",
   "execution_count": 192,
   "id": "cc0d8f0a",
   "metadata": {},
   "outputs": [],
   "source": [
    "data = data.drop(9513)"
   ]
  },
  {
   "cell_type": "code",
   "execution_count": 193,
   "id": "e436ceab",
   "metadata": {},
   "outputs": [],
   "source": [
    "data = data.drop(9732)"
   ]
  },
  {
   "cell_type": "code",
   "execution_count": 194,
   "id": "27e3b605",
   "metadata": {},
   "outputs": [],
   "source": [
    "data = data.drop(9781)"
   ]
  },
  {
   "cell_type": "code",
   "execution_count": 195,
   "id": "c0edbd26",
   "metadata": {},
   "outputs": [],
   "source": [
    "data = data.drop(9812)"
   ]
  },
  {
   "cell_type": "code",
   "execution_count": 196,
   "id": "2c69c3b6",
   "metadata": {},
   "outputs": [],
   "source": [
    "data = data.drop(9872)"
   ]
  },
  {
   "cell_type": "code",
   "execution_count": 197,
   "id": "bdc435b2",
   "metadata": {},
   "outputs": [],
   "source": [
    "data = data.drop(9951)"
   ]
  },
  {
   "cell_type": "code",
   "execution_count": 198,
   "id": "7ba65d4e",
   "metadata": {},
   "outputs": [],
   "source": [
    "data = data.drop(10020)"
   ]
  },
  {
   "cell_type": "code",
   "execution_count": 199,
   "id": "0eaf8c76",
   "metadata": {},
   "outputs": [],
   "source": [
    "data = data.drop(10135)"
   ]
  },
  {
   "cell_type": "code",
   "execution_count": 200,
   "id": "165c28d5",
   "metadata": {},
   "outputs": [],
   "source": [
    "data = data.drop(10224)"
   ]
  },
  {
   "cell_type": "code",
   "execution_count": 201,
   "id": "b48a38e6",
   "metadata": {},
   "outputs": [],
   "source": [
    "data = data.drop(10379)"
   ]
  },
  {
   "cell_type": "code",
   "execution_count": 202,
   "id": "45204330",
   "metadata": {},
   "outputs": [],
   "source": [
    "data = data.drop(10391)"
   ]
  },
  {
   "cell_type": "code",
   "execution_count": 203,
   "id": "7a074167",
   "metadata": {},
   "outputs": [],
   "source": [
    "data = data.drop(10461)"
   ]
  },
  {
   "cell_type": "code",
   "execution_count": 204,
   "id": "246f9ddb",
   "metadata": {},
   "outputs": [],
   "source": [
    "data = data.drop(10580)"
   ]
  },
  {
   "cell_type": "code",
   "execution_count": 205,
   "id": "7e075572",
   "metadata": {},
   "outputs": [],
   "source": [
    "data = data.drop(10657)"
   ]
  },
  {
   "cell_type": "code",
   "execution_count": 206,
   "id": "4a72d920",
   "metadata": {},
   "outputs": [],
   "source": [
    "data = data.drop(10695)"
   ]
  },
  {
   "cell_type": "code",
   "execution_count": 207,
   "id": "dccc7a53",
   "metadata": {},
   "outputs": [],
   "source": [
    "data = data.drop(10702)"
   ]
  },
  {
   "cell_type": "code",
   "execution_count": 208,
   "id": "49373abd",
   "metadata": {},
   "outputs": [],
   "source": [
    "data = data.drop(10764)"
   ]
  },
  {
   "cell_type": "code",
   "execution_count": 209,
   "id": "5d1be33b",
   "metadata": {},
   "outputs": [],
   "source": [
    "data = data.drop(10791)"
   ]
  },
  {
   "cell_type": "code",
   "execution_count": 210,
   "id": "78c32432",
   "metadata": {},
   "outputs": [],
   "source": [
    "data = data.drop(10940)"
   ]
  },
  {
   "cell_type": "code",
   "execution_count": 211,
   "id": "e4a9b489",
   "metadata": {},
   "outputs": [],
   "source": [
    "data = data.drop(10974)"
   ]
  },
  {
   "cell_type": "code",
   "execution_count": 212,
   "id": "0bd77b21",
   "metadata": {},
   "outputs": [],
   "source": [
    "data = data.drop(11017)"
   ]
  },
  {
   "cell_type": "code",
   "execution_count": 213,
   "id": "684b9ed0",
   "metadata": {},
   "outputs": [],
   "source": [
    "data = data.drop(11036)"
   ]
  },
  {
   "cell_type": "code",
   "execution_count": 214,
   "id": "31fbf0ae",
   "metadata": {},
   "outputs": [],
   "source": [
    "data = data.drop(11051)"
   ]
  },
  {
   "cell_type": "code",
   "execution_count": 215,
   "id": "e7e7c424",
   "metadata": {},
   "outputs": [],
   "source": [
    "data = data.drop(11063)"
   ]
  },
  {
   "cell_type": "code",
   "execution_count": 216,
   "id": "d6f79371",
   "metadata": {},
   "outputs": [],
   "source": [
    "data = data.drop(11084)"
   ]
  },
  {
   "cell_type": "code",
   "execution_count": 217,
   "id": "161bd599",
   "metadata": {},
   "outputs": [],
   "source": [
    "data = data.drop(11105)"
   ]
  },
  {
   "cell_type": "code",
   "execution_count": 218,
   "id": "d2d515d0",
   "metadata": {},
   "outputs": [],
   "source": [
    "data = data.drop(11117)"
   ]
  },
  {
   "cell_type": "code",
   "execution_count": 219,
   "id": "c908bdf8",
   "metadata": {},
   "outputs": [],
   "source": [
    "data = data.drop(11162)"
   ]
  },
  {
   "cell_type": "code",
   "execution_count": 220,
   "id": "3a346c14",
   "metadata": {},
   "outputs": [],
   "source": [
    "data = data.drop(11234)"
   ]
  },
  {
   "cell_type": "code",
   "execution_count": 221,
   "id": "ca7047ba",
   "metadata": {},
   "outputs": [],
   "source": [
    "data = data.drop(11252)"
   ]
  },
  {
   "cell_type": "code",
   "execution_count": 222,
   "id": "6739f823",
   "metadata": {},
   "outputs": [],
   "source": [
    "data = data.drop(11277)"
   ]
  },
  {
   "cell_type": "code",
   "execution_count": 223,
   "id": "a05d9299",
   "metadata": {},
   "outputs": [],
   "source": [
    "data = data.drop(11315)"
   ]
  },
  {
   "cell_type": "code",
   "execution_count": 224,
   "id": "d5818063",
   "metadata": {},
   "outputs": [],
   "source": [
    "data = data.drop(11330)"
   ]
  },
  {
   "cell_type": "code",
   "execution_count": 225,
   "id": "e5a775e9",
   "metadata": {},
   "outputs": [],
   "source": [
    "data = data.drop(11383)"
   ]
  },
  {
   "cell_type": "code",
   "execution_count": 226,
   "id": "e4d8fa81",
   "metadata": {},
   "outputs": [],
   "source": [
    "data = data.drop(11404)"
   ]
  },
  {
   "cell_type": "code",
   "execution_count": 227,
   "id": "5f8d3693",
   "metadata": {},
   "outputs": [],
   "source": [
    "data = data.drop(11433)"
   ]
  },
  {
   "cell_type": "code",
   "execution_count": 228,
   "id": "9513f9a6",
   "metadata": {},
   "outputs": [],
   "source": [
    "data = data.drop(11436)"
   ]
  },
  {
   "cell_type": "code",
   "execution_count": 229,
   "id": "b7189f74",
   "metadata": {},
   "outputs": [],
   "source": [
    "data = data.drop(11525)"
   ]
  },
  {
   "cell_type": "code",
   "execution_count": 230,
   "id": "938c7404",
   "metadata": {},
   "outputs": [],
   "source": [
    "data = data.drop(11598)"
   ]
  },
  {
   "cell_type": "code",
   "execution_count": 231,
   "id": "6b44cb58",
   "metadata": {},
   "outputs": [],
   "source": [
    "data = data.drop(11608)"
   ]
  },
  {
   "cell_type": "code",
   "execution_count": 232,
   "id": "0bda693b",
   "metadata": {},
   "outputs": [],
   "source": [
    "data = data.drop(11620)"
   ]
  },
  {
   "cell_type": "code",
   "execution_count": 233,
   "id": "4552f13b",
   "metadata": {},
   "outputs": [],
   "source": [
    "data = data.drop(11638)"
   ]
  },
  {
   "cell_type": "code",
   "execution_count": 234,
   "id": "4f769600",
   "metadata": {},
   "outputs": [],
   "source": [
    "data = data.drop(11671)"
   ]
  },
  {
   "cell_type": "code",
   "execution_count": 235,
   "id": "2fd5fef6",
   "metadata": {},
   "outputs": [],
   "source": [
    "data = data.drop(11684)"
   ]
  },
  {
   "cell_type": "code",
   "execution_count": 236,
   "id": "5a1d2582",
   "metadata": {},
   "outputs": [],
   "source": [
    "data = data.drop(11732)"
   ]
  },
  {
   "cell_type": "code",
   "execution_count": 237,
   "id": "0d7df69e",
   "metadata": {},
   "outputs": [],
   "source": [
    "data = data.drop(11745)"
   ]
  },
  {
   "cell_type": "code",
   "execution_count": 238,
   "id": "c0e905df",
   "metadata": {},
   "outputs": [],
   "source": [
    "data = data.drop(11826)"
   ]
  },
  {
   "cell_type": "code",
   "execution_count": 239,
   "id": "7cf6d23a",
   "metadata": {},
   "outputs": [],
   "source": [
    "data = data.drop(11850)"
   ]
  },
  {
   "cell_type": "code",
   "execution_count": 240,
   "id": "89fda1df",
   "metadata": {},
   "outputs": [],
   "source": [
    "data = data.drop(11901)"
   ]
  },
  {
   "cell_type": "code",
   "execution_count": 241,
   "id": "0fe4074e",
   "metadata": {},
   "outputs": [],
   "source": [
    "data = data.drop(11996)"
   ]
  },
  {
   "cell_type": "code",
   "execution_count": 242,
   "id": "871b3303",
   "metadata": {},
   "outputs": [],
   "source": [
    "data = data.drop(12125)"
   ]
  },
  {
   "cell_type": "code",
   "execution_count": 243,
   "id": "d675a157",
   "metadata": {},
   "outputs": [],
   "source": [
    "data = data.drop(12179)"
   ]
  },
  {
   "cell_type": "code",
   "execution_count": 244,
   "id": "f8338e5a",
   "metadata": {},
   "outputs": [],
   "source": [
    "data = data.drop(12202)"
   ]
  },
  {
   "cell_type": "code",
   "execution_count": 245,
   "id": "04897c56",
   "metadata": {},
   "outputs": [],
   "source": [
    "data = data.drop(12226)"
   ]
  },
  {
   "cell_type": "code",
   "execution_count": 246,
   "id": "75d721ac",
   "metadata": {},
   "outputs": [],
   "source": [
    "data = data.drop(12252)"
   ]
  },
  {
   "cell_type": "code",
   "execution_count": 247,
   "id": "3c0d265a",
   "metadata": {},
   "outputs": [],
   "source": [
    "data = data.drop(12254)"
   ]
  },
  {
   "cell_type": "code",
   "execution_count": 248,
   "id": "36ee25d2",
   "metadata": {},
   "outputs": [],
   "source": [
    "data = data.drop(12265)"
   ]
  },
  {
   "cell_type": "code",
   "execution_count": 249,
   "id": "1990ce54",
   "metadata": {},
   "outputs": [],
   "source": [
    "data = data.drop(12294)"
   ]
  },
  {
   "cell_type": "code",
   "execution_count": 250,
   "id": "461e2709",
   "metadata": {},
   "outputs": [],
   "source": [
    "data = data.drop(12306)"
   ]
  },
  {
   "cell_type": "code",
   "execution_count": 251,
   "id": "fa78bcbe",
   "metadata": {},
   "outputs": [],
   "source": [
    "data = data.drop(12422)"
   ]
  },
  {
   "cell_type": "code",
   "execution_count": 252,
   "id": "2b206daf",
   "metadata": {},
   "outputs": [],
   "source": [
    "data = data.drop(12480)"
   ]
  },
  {
   "cell_type": "code",
   "execution_count": 253,
   "id": "891b8af2",
   "metadata": {},
   "outputs": [],
   "source": [
    "data = data.drop(12508)"
   ]
  },
  {
   "cell_type": "code",
   "execution_count": 254,
   "id": "b0875f20",
   "metadata": {},
   "outputs": [],
   "source": [
    "data = data.drop(12602)"
   ]
  },
  {
   "cell_type": "code",
   "execution_count": 255,
   "id": "a2a43f6e",
   "metadata": {},
   "outputs": [],
   "source": [
    "data = data.drop(12751)"
   ]
  },
  {
   "cell_type": "code",
   "execution_count": 256,
   "id": "ab7f7dba",
   "metadata": {},
   "outputs": [],
   "source": [
    "data = data.drop(12819)"
   ]
  },
  {
   "cell_type": "code",
   "execution_count": 257,
   "id": "bee9877c",
   "metadata": {},
   "outputs": [],
   "source": [
    "data = data.drop(12841)"
   ]
  },
  {
   "cell_type": "code",
   "execution_count": 258,
   "id": "68d5764e",
   "metadata": {},
   "outputs": [],
   "source": [
    "data = data.drop(12847)"
   ]
  },
  {
   "cell_type": "code",
   "execution_count": 259,
   "id": "0f39ac10",
   "metadata": {},
   "outputs": [],
   "source": [
    "data = data.drop(12883)"
   ]
  },
  {
   "cell_type": "code",
   "execution_count": 260,
   "id": "1e4cbca9",
   "metadata": {},
   "outputs": [],
   "source": [
    "data = data.drop(12930)"
   ]
  },
  {
   "cell_type": "code",
   "execution_count": 261,
   "id": "c005f643",
   "metadata": {},
   "outputs": [],
   "source": [
    "data = data.drop(12943)"
   ]
  },
  {
   "cell_type": "code",
   "execution_count": 262,
   "id": "fff47592",
   "metadata": {},
   "outputs": [],
   "source": [
    "data = data.drop(12963)"
   ]
  },
  {
   "cell_type": "code",
   "execution_count": 263,
   "id": "789f3826",
   "metadata": {},
   "outputs": [],
   "source": [
    "data = data.drop(12999)"
   ]
  },
  {
   "cell_type": "code",
   "execution_count": 264,
   "id": "410711c8",
   "metadata": {},
   "outputs": [],
   "source": [
    "data = data.drop(13074)"
   ]
  },
  {
   "cell_type": "code",
   "execution_count": 265,
   "id": "220a4eea",
   "metadata": {},
   "outputs": [],
   "source": [
    "data = data.drop(13125)"
   ]
  },
  {
   "cell_type": "code",
   "execution_count": 266,
   "id": "62587182",
   "metadata": {},
   "outputs": [],
   "source": [
    "data = data.drop(13140)"
   ]
  },
  {
   "cell_type": "code",
   "execution_count": 267,
   "id": "d2965b6c",
   "metadata": {},
   "outputs": [],
   "source": [
    "data = data.drop(13184)"
   ]
  },
  {
   "cell_type": "code",
   "execution_count": 268,
   "id": "34b49b12",
   "metadata": {},
   "outputs": [],
   "source": [
    "data = data.drop(13202)"
   ]
  },
  {
   "cell_type": "code",
   "execution_count": 269,
   "id": "4f87f17f",
   "metadata": {},
   "outputs": [],
   "source": [
    "data = data.drop(13227)"
   ]
  },
  {
   "cell_type": "code",
   "execution_count": 270,
   "id": "0be35748",
   "metadata": {},
   "outputs": [],
   "source": [
    "data = data.drop(13275)"
   ]
  },
  {
   "cell_type": "code",
   "execution_count": 271,
   "id": "e21f0a0b",
   "metadata": {},
   "outputs": [],
   "source": [
    "data = data.drop(13364)"
   ]
  },
  {
   "cell_type": "code",
   "execution_count": 272,
   "id": "4d24025e",
   "metadata": {},
   "outputs": [],
   "source": [
    "data = data.drop(13373)"
   ]
  },
  {
   "cell_type": "code",
   "execution_count": 273,
   "id": "d0296834",
   "metadata": {},
   "outputs": [],
   "source": [
    "data = data.drop(13402)"
   ]
  },
  {
   "cell_type": "code",
   "execution_count": 274,
   "id": "e6be1749",
   "metadata": {},
   "outputs": [],
   "source": [
    "data = data.drop(13436)"
   ]
  },
  {
   "cell_type": "code",
   "execution_count": 275,
   "id": "4dfca8c9",
   "metadata": {},
   "outputs": [],
   "source": [
    "data = data.drop(13575)"
   ]
  },
  {
   "cell_type": "code",
   "execution_count": 276,
   "id": "8ccfb473",
   "metadata": {},
   "outputs": [],
   "source": [
    "data = data.drop(13600)"
   ]
  },
  {
   "cell_type": "code",
   "execution_count": 277,
   "id": "e803220a",
   "metadata": {},
   "outputs": [],
   "source": [
    "data = data.drop(13697)"
   ]
  },
  {
   "cell_type": "code",
   "execution_count": 278,
   "id": "4dabec37",
   "metadata": {},
   "outputs": [],
   "source": [
    "data = data.drop(13726)"
   ]
  },
  {
   "cell_type": "code",
   "execution_count": 279,
   "id": "aad06c16",
   "metadata": {},
   "outputs": [],
   "source": [
    "data = data.drop(13903)"
   ]
  },
  {
   "cell_type": "code",
   "execution_count": 280,
   "id": "7bc6be97",
   "metadata": {},
   "outputs": [],
   "source": [
    "data = data.drop(13904)"
   ]
  },
  {
   "cell_type": "code",
   "execution_count": 281,
   "id": "3bc031ec",
   "metadata": {},
   "outputs": [],
   "source": [
    "data = data.drop(13978)"
   ]
  },
  {
   "cell_type": "code",
   "execution_count": 282,
   "id": "7502d55d",
   "metadata": {},
   "outputs": [],
   "source": [
    "data = data.drop(14068)"
   ]
  },
  {
   "cell_type": "code",
   "execution_count": 283,
   "id": "44053a17",
   "metadata": {},
   "outputs": [],
   "source": [
    "data = data.drop(14087)"
   ]
  },
  {
   "cell_type": "code",
   "execution_count": 284,
   "id": "fe34086a",
   "metadata": {},
   "outputs": [],
   "source": [
    "data = data.drop(14176)"
   ]
  },
  {
   "cell_type": "code",
   "execution_count": 285,
   "id": "3fd6ebd3",
   "metadata": {},
   "outputs": [],
   "source": [
    "data = data.drop(14200)"
   ]
  },
  {
   "cell_type": "code",
   "execution_count": 286,
   "id": "7cf54ec5",
   "metadata": {},
   "outputs": [],
   "source": [
    "data = data.drop(14216)"
   ]
  },
  {
   "cell_type": "code",
   "execution_count": 287,
   "id": "050cefed",
   "metadata": {},
   "outputs": [],
   "source": [
    "data = data.drop(14344)"
   ]
  },
  {
   "cell_type": "code",
   "execution_count": 288,
   "id": "ccc76b0a",
   "metadata": {},
   "outputs": [],
   "source": [
    "data = data.drop(14454)"
   ]
  },
  {
   "cell_type": "code",
   "execution_count": 289,
   "id": "869b6ab3",
   "metadata": {},
   "outputs": [],
   "source": [
    "data = data.drop(14585)"
   ]
  },
  {
   "cell_type": "code",
   "execution_count": null,
   "id": "e5f3ea72",
   "metadata": {},
   "outputs": [],
   "source": []
  },
  {
   "cell_type": "code",
   "execution_count": null,
   "id": "e5740c9b",
   "metadata": {},
   "outputs": [],
   "source": []
  },
  {
   "cell_type": "code",
   "execution_count": null,
   "id": "73ddaf05",
   "metadata": {},
   "outputs": [],
   "source": []
  },
  {
   "cell_type": "code",
   "execution_count": null,
   "id": "efc75fac",
   "metadata": {},
   "outputs": [],
   "source": []
  },
  {
   "cell_type": "code",
   "execution_count": null,
   "id": "d81e07b9",
   "metadata": {},
   "outputs": [],
   "source": []
  },
  {
   "cell_type": "code",
   "execution_count": 487,
   "id": "db4139a7",
   "metadata": {},
   "outputs": [
    {
     "data": {
      "text/html": [
       "<div>\n",
       "<style scoped>\n",
       "    .dataframe tbody tr th:only-of-type {\n",
       "        vertical-align: middle;\n",
       "    }\n",
       "\n",
       "    .dataframe tbody tr th {\n",
       "        vertical-align: top;\n",
       "    }\n",
       "\n",
       "    .dataframe thead th {\n",
       "        text-align: right;\n",
       "    }\n",
       "</style>\n",
       "<table border=\"1\" class=\"dataframe\">\n",
       "  <thead>\n",
       "    <tr style=\"text-align: right;\">\n",
       "      <th></th>\n",
       "      <th>review</th>\n",
       "      <th>clean_text</th>\n",
       "    </tr>\n",
       "    <tr>\n",
       "      <th>index</th>\n",
       "      <th></th>\n",
       "      <th></th>\n",
       "    </tr>\n",
       "  </thead>\n",
       "  <tbody>\n",
       "    <tr>\n",
       "      <th>14622</th>\n",
       "      <td>Battery draining fast rest of them is good</td>\n",
       "      <td>battery draining fast rest of them is good</td>\n",
       "    </tr>\n",
       "    <tr>\n",
       "      <th>14623</th>\n",
       "      <td>Phone signal sim not working properly.battery ...</td>\n",
       "      <td>phone signal sim not working properly battery ...</td>\n",
       "    </tr>\n",
       "    <tr>\n",
       "      <th>14624</th>\n",
       "      <td>Very nice phone.</td>\n",
       "      <td>very nice phone</td>\n",
       "    </tr>\n",
       "    <tr>\n",
       "      <th>14625</th>\n",
       "      <td>Awesome phone surprised package</td>\n",
       "      <td>awesome phone surprised package</td>\n",
       "    </tr>\n",
       "    <tr>\n",
       "      <th>14626</th>\n",
       "      <td>Phone is Good but battery%ate low</td>\n",
       "      <td>phone is good but battery ate low</td>\n",
       "    </tr>\n",
       "    <tr>\n",
       "      <th>14627</th>\n",
       "      <td>Excellent product but bit big</td>\n",
       "      <td>excellent product but bit big</td>\n",
       "    </tr>\n",
       "    <tr>\n",
       "      <th>14628</th>\n",
       "      <td>Phone is nice but the battery is very weak not...</td>\n",
       "      <td>phone is nice but the battery is very weak not...</td>\n",
       "    </tr>\n",
       "    <tr>\n",
       "      <th>14629</th>\n",
       "      <td>Battery drains too fast because of software up...</td>\n",
       "      <td>battery drains too fast because of software up...</td>\n",
       "    </tr>\n",
       "    <tr>\n",
       "      <th>14630</th>\n",
       "      <td>Good mobile with awesome camera and easy to ac...</td>\n",
       "      <td>good mobile with awesome camera and easy to ac...</td>\n",
       "    </tr>\n",
       "    <tr>\n",
       "      <th>14631</th>\n",
       "      <td>Good Phone</td>\n",
       "      <td>good phone</td>\n",
       "    </tr>\n",
       "    <tr>\n",
       "      <th>14632</th>\n",
       "      <td>This phone is performance poor and hungin phone</td>\n",
       "      <td>this phone is performance poor and hungin phone</td>\n",
       "    </tr>\n",
       "    <tr>\n",
       "      <th>14633</th>\n",
       "      <td>Mobile is good but they are claiming for turbo...</td>\n",
       "      <td>mobile is good but they are claiming for turbo...</td>\n",
       "    </tr>\n",
       "    <tr>\n",
       "      <th>14634</th>\n",
       "      <td>Batter</td>\n",
       "      <td>batter</td>\n",
       "    </tr>\n",
       "    <tr>\n",
       "      <th>14635</th>\n",
       "      <td>Good</td>\n",
       "      <td>good</td>\n",
       "    </tr>\n",
       "    <tr>\n",
       "      <th>14636</th>\n",
       "      <td>Nice phone but there r some issues1 Heats very...</td>\n",
       "      <td>nice phone but there r some issues heats very ...</td>\n",
       "    </tr>\n",
       "    <tr>\n",
       "      <th>14637</th>\n",
       "      <td>It will never heat if maintain properly..This ...</td>\n",
       "      <td>it will never heat if maintain properly this p...</td>\n",
       "    </tr>\n",
       "    <tr>\n",
       "      <th>14638</th>\n",
       "      <td>I got today lenova k8 note its over all mind b...</td>\n",
       "      <td>i got today lenova k note its over all mind bl...</td>\n",
       "    </tr>\n",
       "    <tr>\n",
       "      <th>14639</th>\n",
       "      <td>Worst phone.. Don't spend hard earn money on s...</td>\n",
       "      <td>worst phone don t spend hard earn money on suc...</td>\n",
       "    </tr>\n",
       "    <tr>\n",
       "      <th>14640</th>\n",
       "      <td>Chor hai amazon wale maine 19 october ko compl...</td>\n",
       "      <td>chor hai amazon wale maine october ko complain...</td>\n",
       "    </tr>\n",
       "    <tr>\n",
       "      <th>14641</th>\n",
       "      <td>Very bad product after 4 month battery back up...</td>\n",
       "      <td>very bad product after month battery back up i...</td>\n",
       "    </tr>\n",
       "    <tr>\n",
       "      <th>14642</th>\n",
       "      <td>Amazing mobile very good mobile nice product w...</td>\n",
       "      <td>amazing mobile very good mobile nice product w...</td>\n",
       "    </tr>\n",
       "    <tr>\n",
       "      <th>14643</th>\n",
       "      <td>Awesome &amp; mind blowing technology in this mobi...</td>\n",
       "      <td>awesome mind blowing technology in this mobile...</td>\n",
       "    </tr>\n",
       "    <tr>\n",
       "      <th>14644</th>\n",
       "      <td>Group messaging facility not found in this len...</td>\n",
       "      <td>group messaging facility not found in this len...</td>\n",
       "    </tr>\n",
       "    <tr>\n",
       "      <th>14645</th>\n",
       "      <td>Very bad phone want to return never expected t...</td>\n",
       "      <td>very bad phone want to return never expected t...</td>\n",
       "    </tr>\n",
       "    <tr>\n",
       "      <th>14646</th>\n",
       "      <td>Nice product</td>\n",
       "      <td>nice product</td>\n",
       "    </tr>\n",
       "    <tr>\n",
       "      <th>14647</th>\n",
       "      <td>Not good</td>\n",
       "      <td>not good</td>\n",
       "    </tr>\n",
       "    <tr>\n",
       "      <th>14648</th>\n",
       "      <td>K8 note not getting Oreo update I checked in s...</td>\n",
       "      <td>k note not getting oreo update i checked in sy...</td>\n",
       "    </tr>\n",
       "    <tr>\n",
       "      <th>14649</th>\n",
       "      <td>I was bought 4 month before but today the phon...</td>\n",
       "      <td>i was bought month before but today the phone ...</td>\n",
       "    </tr>\n",
       "    <tr>\n",
       "      <th>14650</th>\n",
       "      <td>Oreo update rocks, face unlock and great camer...</td>\n",
       "      <td>oreo update rocks face unlock and great camera...</td>\n",
       "    </tr>\n",
       "    <tr>\n",
       "      <th>14651</th>\n",
       "      <td>Excellent product - very happy with the phone</td>\n",
       "      <td>excellent product very happy with the phone</td>\n",
       "    </tr>\n",
       "    <tr>\n",
       "      <th>14652</th>\n",
       "      <td>NYC products</td>\n",
       "      <td>nyc products</td>\n",
       "    </tr>\n",
       "    <tr>\n",
       "      <th>14653</th>\n",
       "      <td>Processor is slow and it hangs all the time wi...</td>\n",
       "      <td>processor is slow and it hangs all the time wi...</td>\n",
       "    </tr>\n",
       "    <tr>\n",
       "      <th>14654</th>\n",
       "      <td>Very bad mobile....Waste of money.......Bad ca...</td>\n",
       "      <td>very bad mobile waste of money bad camera wast...</td>\n",
       "    </tr>\n",
       "    <tr>\n",
       "      <th>14655</th>\n",
       "      <td>It's a good mobile in all the aspects..You may...</td>\n",
       "      <td>it s a good mobile in all the aspects you may ...</td>\n",
       "    </tr>\n",
       "    <tr>\n",
       "      <th>14656</th>\n",
       "      <td>Everything is ok like battery backup, camera ,...</td>\n",
       "      <td>everything is ok like battery backup camera ra...</td>\n",
       "    </tr>\n",
       "    <tr>\n",
       "      <th>14657</th>\n",
       "      <td>Great phone.But sound quality is way too low a...</td>\n",
       "      <td>great phone but sound quality is way too low a...</td>\n",
       "    </tr>\n",
       "    <tr>\n",
       "      <th>14658</th>\n",
       "      <td>dont buy lenovo k8 note worst mobile i bought ...</td>\n",
       "      <td>dont buy lenovo k note worst mobile i bought t...</td>\n",
       "    </tr>\n",
       "    <tr>\n",
       "      <th>14659</th>\n",
       "      <td>My first expression was oh , it's killer note ...</td>\n",
       "      <td>my first expression was oh it s killer note wh...</td>\n",
       "    </tr>\n",
       "    <tr>\n",
       "      <th>14660</th>\n",
       "      <td>Good but isme kuch featured nhi he</td>\n",
       "      <td>good but isme kuch featured nhi he</td>\n",
       "    </tr>\n",
       "    <tr>\n",
       "      <th>14661</th>\n",
       "      <td>My new K8 note first impression is very bad.al...</td>\n",
       "      <td>my new k note first impression is very bad all...</td>\n",
       "    </tr>\n",
       "    <tr>\n",
       "      <th>14662</th>\n",
       "      <td>Good</td>\n",
       "      <td>good</td>\n",
       "    </tr>\n",
       "    <tr>\n",
       "      <th>14663</th>\n",
       "      <td>I am facing problem when incoming calls no num...</td>\n",
       "      <td>i am facing problem when incoming calls no num...</td>\n",
       "    </tr>\n",
       "    <tr>\n",
       "      <th>14664</th>\n",
       "      <td>Waste of buying this mobileMobile getting over...</td>\n",
       "      <td>waste of buying this mobilemobile getting over...</td>\n",
       "    </tr>\n",
       "    <tr>\n",
       "      <th>14665</th>\n",
       "      <td>Mobile is very worst and customer support very...</td>\n",
       "      <td>mobile is very worst and customer support very...</td>\n",
       "    </tr>\n",
       "    <tr>\n",
       "      <th>14666</th>\n",
       "      <td>Worth your money.</td>\n",
       "      <td>worth your money</td>\n",
       "    </tr>\n",
       "    <tr>\n",
       "      <th>14667</th>\n",
       "      <td>I am facing problem with network connection.Wh...</td>\n",
       "      <td>i am facing problem with network connection wh...</td>\n",
       "    </tr>\n",
       "    <tr>\n",
       "      <th>14668</th>\n",
       "      <td>Nice phone</td>\n",
       "      <td>nice phone</td>\n",
       "    </tr>\n",
       "    <tr>\n",
       "      <th>14669</th>\n",
       "      <td>Not so good.</td>\n",
       "      <td>not so good</td>\n",
       "    </tr>\n",
       "    <tr>\n",
       "      <th>14670</th>\n",
       "      <td>Very poour battery parformance and prosecer</td>\n",
       "      <td>very poour battery parformance and prosecer</td>\n",
       "    </tr>\n",
       "    <tr>\n",
       "      <th>14671</th>\n",
       "      <td>I really like the phone, Everything is working...</td>\n",
       "      <td>i really like the phone everything is working ...</td>\n",
       "    </tr>\n",
       "    <tr>\n",
       "      <th>14672</th>\n",
       "      <td>The Lenovo K8 Note is awesome. It takes best p...</td>\n",
       "      <td>the lenovo k note is awesome it takes best pic...</td>\n",
       "    </tr>\n",
       "    <tr>\n",
       "      <th>14673</th>\n",
       "      <td>Awesome Gaget.. @ this price</td>\n",
       "      <td>awesome gaget this price</td>\n",
       "    </tr>\n",
       "    <tr>\n",
       "      <th>14674</th>\n",
       "      <td>This phone is nice processing will be successf...</td>\n",
       "      <td>this phone is nice processing will be successf...</td>\n",
       "    </tr>\n",
       "    <tr>\n",
       "      <th>14675</th>\n",
       "      <td>Good product but the pakeging was not enough.</td>\n",
       "      <td>good product but the pakeging was not enough</td>\n",
       "    </tr>\n",
       "  </tbody>\n",
       "</table>\n",
       "</div>"
      ],
      "text/plain": [
       "                                                  review  \\\n",
       "index                                                      \n",
       "14622         Battery draining fast rest of them is good   \n",
       "14623  Phone signal sim not working properly.battery ...   \n",
       "14624                                   Very nice phone.   \n",
       "14625                    Awesome phone surprised package   \n",
       "14626                  Phone is Good but battery%ate low   \n",
       "14627                      Excellent product but bit big   \n",
       "14628  Phone is nice but the battery is very weak not...   \n",
       "14629  Battery drains too fast because of software up...   \n",
       "14630  Good mobile with awesome camera and easy to ac...   \n",
       "14631                                         Good Phone   \n",
       "14632    This phone is performance poor and hungin phone   \n",
       "14633  Mobile is good but they are claiming for turbo...   \n",
       "14634                                             Batter   \n",
       "14635                                               Good   \n",
       "14636  Nice phone but there r some issues1 Heats very...   \n",
       "14637  It will never heat if maintain properly..This ...   \n",
       "14638  I got today lenova k8 note its over all mind b...   \n",
       "14639  Worst phone.. Don't spend hard earn money on s...   \n",
       "14640  Chor hai amazon wale maine 19 october ko compl...   \n",
       "14641  Very bad product after 4 month battery back up...   \n",
       "14642  Amazing mobile very good mobile nice product w...   \n",
       "14643  Awesome & mind blowing technology in this mobi...   \n",
       "14644  Group messaging facility not found in this len...   \n",
       "14645  Very bad phone want to return never expected t...   \n",
       "14646                                       Nice product   \n",
       "14647                                           Not good   \n",
       "14648  K8 note not getting Oreo update I checked in s...   \n",
       "14649  I was bought 4 month before but today the phon...   \n",
       "14650  Oreo update rocks, face unlock and great camer...   \n",
       "14651      Excellent product - very happy with the phone   \n",
       "14652                                       NYC products   \n",
       "14653  Processor is slow and it hangs all the time wi...   \n",
       "14654  Very bad mobile....Waste of money.......Bad ca...   \n",
       "14655  It's a good mobile in all the aspects..You may...   \n",
       "14656  Everything is ok like battery backup, camera ,...   \n",
       "14657  Great phone.But sound quality is way too low a...   \n",
       "14658  dont buy lenovo k8 note worst mobile i bought ...   \n",
       "14659  My first expression was oh , it's killer note ...   \n",
       "14660                 Good but isme kuch featured nhi he   \n",
       "14661  My new K8 note first impression is very bad.al...   \n",
       "14662                                               Good   \n",
       "14663  I am facing problem when incoming calls no num...   \n",
       "14664  Waste of buying this mobileMobile getting over...   \n",
       "14665  Mobile is very worst and customer support very...   \n",
       "14666                                  Worth your money.   \n",
       "14667  I am facing problem with network connection.Wh...   \n",
       "14668                                         Nice phone   \n",
       "14669                                       Not so good.   \n",
       "14670        Very poour battery parformance and prosecer   \n",
       "14671  I really like the phone, Everything is working...   \n",
       "14672  The Lenovo K8 Note is awesome. It takes best p...   \n",
       "14673                       Awesome Gaget.. @ this price   \n",
       "14674  This phone is nice processing will be successf...   \n",
       "14675      Good product but the pakeging was not enough.   \n",
       "\n",
       "                                              clean_text  \n",
       "index                                                     \n",
       "14622         battery draining fast rest of them is good  \n",
       "14623  phone signal sim not working properly battery ...  \n",
       "14624                                   very nice phone   \n",
       "14625                    awesome phone surprised package  \n",
       "14626                  phone is good but battery ate low  \n",
       "14627                      excellent product but bit big  \n",
       "14628  phone is nice but the battery is very weak not...  \n",
       "14629  battery drains too fast because of software up...  \n",
       "14630  good mobile with awesome camera and easy to ac...  \n",
       "14631                                         good phone  \n",
       "14632    this phone is performance poor and hungin phone  \n",
       "14633  mobile is good but they are claiming for turbo...  \n",
       "14634                                             batter  \n",
       "14635                                               good  \n",
       "14636  nice phone but there r some issues heats very ...  \n",
       "14637  it will never heat if maintain properly this p...  \n",
       "14638  i got today lenova k note its over all mind bl...  \n",
       "14639  worst phone don t spend hard earn money on suc...  \n",
       "14640  chor hai amazon wale maine october ko complain...  \n",
       "14641  very bad product after month battery back up i...  \n",
       "14642  amazing mobile very good mobile nice product w...  \n",
       "14643  awesome mind blowing technology in this mobile...  \n",
       "14644  group messaging facility not found in this len...  \n",
       "14645  very bad phone want to return never expected t...  \n",
       "14646                                       nice product  \n",
       "14647                                           not good  \n",
       "14648  k note not getting oreo update i checked in sy...  \n",
       "14649  i was bought month before but today the phone ...  \n",
       "14650  oreo update rocks face unlock and great camera...  \n",
       "14651        excellent product very happy with the phone  \n",
       "14652                                       nyc products  \n",
       "14653  processor is slow and it hangs all the time wi...  \n",
       "14654  very bad mobile waste of money bad camera wast...  \n",
       "14655  it s a good mobile in all the aspects you may ...  \n",
       "14656  everything is ok like battery backup camera ra...  \n",
       "14657  great phone but sound quality is way too low a...  \n",
       "14658  dont buy lenovo k note worst mobile i bought t...  \n",
       "14659  my first expression was oh it s killer note wh...  \n",
       "14660                 good but isme kuch featured nhi he  \n",
       "14661  my new k note first impression is very bad all...  \n",
       "14662                                               good  \n",
       "14663  i am facing problem when incoming calls no num...  \n",
       "14664  waste of buying this mobilemobile getting over...  \n",
       "14665  mobile is very worst and customer support very...  \n",
       "14666                                  worth your money   \n",
       "14667  i am facing problem with network connection wh...  \n",
       "14668                                         nice phone  \n",
       "14669                                       not so good   \n",
       "14670        very poour battery parformance and prosecer  \n",
       "14671  i really like the phone everything is working ...  \n",
       "14672  the lenovo k note is awesome it takes best pic...  \n",
       "14673                           awesome gaget this price  \n",
       "14674  this phone is nice processing will be successf...  \n",
       "14675      good product but the pakeging was not enough   "
      ]
     },
     "execution_count": 487,
     "metadata": {},
     "output_type": "execute_result"
    }
   ],
   "source": [
    "data2 = data.loc[14622:14675,:]\n",
    "data2"
   ]
  },
  {
   "cell_type": "code",
   "execution_count": 219,
   "id": "ae6041e8",
   "metadata": {},
   "outputs": [],
   "source": [
    "#pip install cloudscraper"
   ]
  },
  {
   "cell_type": "code",
   "execution_count": 220,
   "id": "01f60e40",
   "metadata": {},
   "outputs": [
    {
     "name": "stdout",
     "output_type": "stream",
     "text": [
      "I can also help take care of younger kids at the playground. At the playground, I can help my friend take care of the ball. I also like to help out and think about the feelings of others.\n"
     ]
    }
   ],
   "source": [
    "text = \"I can also hepl take care of yunger kids at playground. At playground, I can help my friend take care of the ball. I also like to help out and think about the feelings of others.\"\n",
    "\n",
    "print(parser.parse(text)['result'])"
   ]
  },
  {
   "cell_type": "code",
   "execution_count": 489,
   "id": "73314e13",
   "metadata": {},
   "outputs": [
    {
     "name": "stdout",
     "output_type": "stream",
     "text": [
      "14622\n",
      "The battery draining fast rest of them is good\n",
      "14623\n",
      "phone signal SIM isn't working properly battery charging very poor in Laos \n",
      "14624\n",
      "very nice phone \n",
      "14625\n",
      "awesome phone surprised package\n",
      "14626\n",
      "The phone is good but battery at low\n",
      "14627\n",
      "excellent product but bit big\n",
      "14628\n",
      "The phone is nice, but the battery is very weak not working half a day\n",
      "14629\n",
      "battery drains too fast because of software update otherwise a better update in software will make it oh best camera best sound quality superb phone never hangs \n",
      "14630\n",
      "good mobile with awesome camera and easy to access the features \n",
      "14631\n",
      "good phone\n",
      "14632\n",
      "this phone is performance poor and hung in the phone\n",
      "14633\n",
      "mobile is good, but they are claiming for turbo charger I don't think so because it's taking almost hrs for full charge \n",
      "14634\n",
      "batter\n",
      "14635\n",
      "good\n",
      "14636\n",
      "nice phone, but there are some issues heats very fast dual cam just a gimmickotherwise nice\n",
      "14637\n",
      "it will never heat if maintain properly, this phone is superb, you must buy this and it is better than moto g s me and Mia \n",
      "14638\n",
      "I got today lenova k note its overall mind blowing music very goodgood phone this budget and future very well\n",
      "14639\n",
      "worst phone don t spend hard earned money on such phone \n",
      "14640\n",
      "Chor hai amazon wale Maine October KO complain kiya the Lenovo k note k lite or pickup Hua November KO or refund k lite Roz bola jaa rha hai k Aaj refund ho jayega Aaj refund ho jayega or Aaj jab call lagaya to mere no KO block or die Goya ha mine screenshot bhej Diya hai Chor hi Chor ha\n",
      "14641\n",
      "very bad product after month battery back up is down only day\n",
      "14642\n",
      "amazing mobile very best mobile nice product working very good no problem I am rating star\n",
      "14643\n",
      "awesome mind blowing technology in this mobile visibility sound camera all are awesome \n",
      "14644\n",
      "A group messaging facility not found in this lenovok note phone in the contact list \n",
      "14645\n",
      "very bad phone wants to return never expected that phone hangs a lot \n",
      "14646\n",
      "nice product\n",
      "14647\n",
      "not good\n",
      "14648\n",
      "k note not getting oreo update I checked in system updates it shows up to date I ask replacement product it raising the complaint they told me technical mobile team will arrange and check till now not getting technical visit and replacement issues in k noteworst signal in even in full signal strength compared to other Lenovo models cast screen not working ram management is poordrawbacksairtel idea Vodafone that launched but this mobile support only go voltepower saver not available sound low in Dolby atmosamazon response is very waste\n",
      "14649\n",
      "I was bought months before, but today the phone accessories not working as when I am plugged in my phone on wall charging it shows charging over USB and my phone don't charge after a full night plugging for a charge \n",
      "14650\n",
      "oreo update rocks face unlocks and great cameras front and back using it without any hitches\n",
      "14651\n",
      "excellent product, very happy with the phone\n",
      "14652\n",
      "Nice products\n",
      "14653\n",
      "The processor is slow and it hangs all the time with very poor battery backup \n",
      "14654\n",
      "very bad mobile waste of money bad camera waste processor hanging problem signal receiver is very poor dual camera is waste it is only for photos, video is not possible and blur is also poor camera quality is poor my suggestion is don't buy this is a really poor heating problem and the battery backup is poor \n",
      "14655\n",
      "It's a good mobile in all the aspects you may find little difficulty to adapt to stock android turbo charger is good\n",
      "14656\n",
      "everything is ok like battery backup camera, ram Rom but problem with signal intensity it's so weak\n",
      "14657\n",
      "great phone, but sound quality is way too low as compared to k note \n",
      "14658\n",
      "Don't buy Lenovo k note worst mobile I buy this mobile months back now charging cable is not working phone is over heating\n",
      "14659\n",
      "my first expression was oh, it s killer note when I turn on the phone I was just shocked because it also contains Microsoft apps like excel, power point, etc. then I moved to camera phones focus was amazing love the killer note\n",
      "14660\n",
      "Good, but isme kuch featured nhi he\n",
      "14661\n",
      "my new k note first impression is very bad all is good, but the overheating problem starts on the first day its heating when I talk internet browsing or more \n",
      "14662\n",
      "good\n",
      "14663\n",
      "I am facing problem when incoming calls, no numbers and no name show on off the screen only ring come I can't takcall without open phone and screen slide lower side than I can talk\n",
      "14664\n",
      "waste of buying this mobilemobile getting over heating very slow charging \n",
      "14665\n",
      "mobile is very worst and customer support very very worst pls return this product \n",
      "14666\n",
      "worth your money \n",
      "14667\n",
      "I am facing problem with network connection when we call, although the phone is receiving the connection still it replies that the phone is switched off there is always a network problem with the phone network singles are never too full therefore this phone should be replaced \n",
      "14668\n",
      "nice phone\n",
      "14669\n",
      "not so good \n",
      "14670\n",
      "very poor battery performance and processor\n",
      "14671\n",
      "I really like the phone everything is working fine whether I use on the phone \n",
      "14672\n",
      "the Lenovo k note is awesome it takes better pictures with dual camera very slim and metallic body which is a bit difficult to hold on the hand back cover is must features are awesome with android battery is a bit concern if you are regularly used \n",
      "14673\n",
      "awesome gadget this price\n",
      "14674\n",
      "this phone is nice processing will be successful, but dual camera has not been successfully in dual mode\n",
      "14675\n",
      "good product, but the packaging was not enough \n"
     ]
    }
   ],
   "source": [
    "a = 0\n",
    "for x in data2['clean_text']:\n",
    "    print(data2.index[a])\n",
    "    print(parser.parse(x)['result'])\n",
    "    a = a + 1\n",
    "    \n",
    "    "
   ]
  },
  {
   "cell_type": "code",
   "execution_count": null,
   "id": "398578a3",
   "metadata": {},
   "outputs": [],
   "source": [
    "#dobar_dataframe = pd.DataFrame.from_dict(data['clean_text'].apply(lambda x: parser.parse(x)))"
   ]
  },
  {
   "cell_type": "code",
   "execution_count": 290,
   "id": "d10cac55",
   "metadata": {},
   "outputs": [
    {
     "data": {
      "text/html": [
       "<div>\n",
       "<style scoped>\n",
       "    .dataframe tbody tr th:only-of-type {\n",
       "        vertical-align: middle;\n",
       "    }\n",
       "\n",
       "    .dataframe tbody tr th {\n",
       "        vertical-align: top;\n",
       "    }\n",
       "\n",
       "    .dataframe thead th {\n",
       "        text-align: right;\n",
       "    }\n",
       "</style>\n",
       "<table border=\"1\" class=\"dataframe\">\n",
       "  <thead>\n",
       "    <tr style=\"text-align: right;\">\n",
       "      <th></th>\n",
       "      <th>review</th>\n",
       "      <th>clean_text</th>\n",
       "    </tr>\n",
       "    <tr>\n",
       "      <th>index</th>\n",
       "      <th></th>\n",
       "      <th></th>\n",
       "    </tr>\n",
       "  </thead>\n",
       "  <tbody>\n",
       "    <tr>\n",
       "      <th>1</th>\n",
       "      <td>Good but need updates and improvements</td>\n",
       "      <td>good but need updates and improvements</td>\n",
       "    </tr>\n",
       "    <tr>\n",
       "      <th>2</th>\n",
       "      <td>Worst mobile i have bought ever, Battery is dr...</td>\n",
       "      <td>worst mobile i have bought ever battery is dra...</td>\n",
       "    </tr>\n",
       "    <tr>\n",
       "      <th>3</th>\n",
       "      <td>when I will get my 10% cash back.... its alrea...</td>\n",
       "      <td>when i will get my cash back its already january</td>\n",
       "    </tr>\n",
       "    <tr>\n",
       "      <th>4</th>\n",
       "      <td>Good</td>\n",
       "      <td>good</td>\n",
       "    </tr>\n",
       "    <tr>\n",
       "      <th>5</th>\n",
       "      <td>The worst phone everThey have changed the last...</td>\n",
       "      <td>the worst phone everthey have changed the last...</td>\n",
       "    </tr>\n",
       "    <tr>\n",
       "      <th>...</th>\n",
       "      <td>...</td>\n",
       "      <td>...</td>\n",
       "    </tr>\n",
       "    <tr>\n",
       "      <th>14671</th>\n",
       "      <td>I really like the phone, Everything is working...</td>\n",
       "      <td>i really like the phone everything is working ...</td>\n",
       "    </tr>\n",
       "    <tr>\n",
       "      <th>14672</th>\n",
       "      <td>The Lenovo K8 Note is awesome. It takes best p...</td>\n",
       "      <td>the lenovo k note is awesome it takes best pic...</td>\n",
       "    </tr>\n",
       "    <tr>\n",
       "      <th>14673</th>\n",
       "      <td>Awesome Gaget.. @ this price</td>\n",
       "      <td>awesome gaget this price</td>\n",
       "    </tr>\n",
       "    <tr>\n",
       "      <th>14674</th>\n",
       "      <td>This phone is nice processing will be successf...</td>\n",
       "      <td>this phone is nice processing will be successf...</td>\n",
       "    </tr>\n",
       "    <tr>\n",
       "      <th>14675</th>\n",
       "      <td>Good product but the pakeging was not enough.</td>\n",
       "      <td>good product but the pakeging was not enough</td>\n",
       "    </tr>\n",
       "  </tbody>\n",
       "</table>\n",
       "<p>14399 rows × 2 columns</p>\n",
       "</div>"
      ],
      "text/plain": [
       "                                                  review  \\\n",
       "index                                                      \n",
       "1                 Good but need updates and improvements   \n",
       "2      Worst mobile i have bought ever, Battery is dr...   \n",
       "3      when I will get my 10% cash back.... its alrea...   \n",
       "4                                                   Good   \n",
       "5      The worst phone everThey have changed the last...   \n",
       "...                                                  ...   \n",
       "14671  I really like the phone, Everything is working...   \n",
       "14672  The Lenovo K8 Note is awesome. It takes best p...   \n",
       "14673                       Awesome Gaget.. @ this price   \n",
       "14674  This phone is nice processing will be successf...   \n",
       "14675      Good product but the pakeging was not enough.   \n",
       "\n",
       "                                              clean_text  \n",
       "index                                                     \n",
       "1                 good but need updates and improvements  \n",
       "2      worst mobile i have bought ever battery is dra...  \n",
       "3      when i will get my cash back its already january   \n",
       "4                                                   good  \n",
       "5      the worst phone everthey have changed the last...  \n",
       "...                                                  ...  \n",
       "14671  i really like the phone everything is working ...  \n",
       "14672  the lenovo k note is awesome it takes best pic...  \n",
       "14673                           awesome gaget this price  \n",
       "14674  this phone is nice processing will be successf...  \n",
       "14675      good product but the pakeging was not enough   \n",
       "\n",
       "[14399 rows x 2 columns]"
      ]
     },
     "execution_count": 290,
     "metadata": {},
     "output_type": "execute_result"
    }
   ],
   "source": [
    "data"
   ]
  },
  {
   "cell_type": "code",
   "execution_count": 291,
   "id": "af9285b4",
   "metadata": {},
   "outputs": [],
   "source": [
    "data_only_for_gingerit = pd.DataFrame()"
   ]
  },
  {
   "cell_type": "code",
   "execution_count": 292,
   "id": "d7168bbd",
   "metadata": {},
   "outputs": [],
   "source": [
    "data_only_for_gingerit['clean_text'] = data['clean_text']"
   ]
  },
  {
   "cell_type": "code",
   "execution_count": 293,
   "id": "ec451f7c",
   "metadata": {},
   "outputs": [
    {
     "data": {
      "text/html": [
       "<div>\n",
       "<style scoped>\n",
       "    .dataframe tbody tr th:only-of-type {\n",
       "        vertical-align: middle;\n",
       "    }\n",
       "\n",
       "    .dataframe tbody tr th {\n",
       "        vertical-align: top;\n",
       "    }\n",
       "\n",
       "    .dataframe thead th {\n",
       "        text-align: right;\n",
       "    }\n",
       "</style>\n",
       "<table border=\"1\" class=\"dataframe\">\n",
       "  <thead>\n",
       "    <tr style=\"text-align: right;\">\n",
       "      <th></th>\n",
       "      <th>clean_text</th>\n",
       "    </tr>\n",
       "    <tr>\n",
       "      <th>index</th>\n",
       "      <th></th>\n",
       "    </tr>\n",
       "  </thead>\n",
       "  <tbody>\n",
       "    <tr>\n",
       "      <th>1</th>\n",
       "      <td>good but need updates and improvements</td>\n",
       "    </tr>\n",
       "    <tr>\n",
       "      <th>2</th>\n",
       "      <td>worst mobile i have bought ever battery is dra...</td>\n",
       "    </tr>\n",
       "    <tr>\n",
       "      <th>3</th>\n",
       "      <td>when i will get my cash back its already january</td>\n",
       "    </tr>\n",
       "    <tr>\n",
       "      <th>4</th>\n",
       "      <td>good</td>\n",
       "    </tr>\n",
       "    <tr>\n",
       "      <th>5</th>\n",
       "      <td>the worst phone everthey have changed the last...</td>\n",
       "    </tr>\n",
       "    <tr>\n",
       "      <th>...</th>\n",
       "      <td>...</td>\n",
       "    </tr>\n",
       "    <tr>\n",
       "      <th>14671</th>\n",
       "      <td>i really like the phone everything is working ...</td>\n",
       "    </tr>\n",
       "    <tr>\n",
       "      <th>14672</th>\n",
       "      <td>the lenovo k note is awesome it takes best pic...</td>\n",
       "    </tr>\n",
       "    <tr>\n",
       "      <th>14673</th>\n",
       "      <td>awesome gaget this price</td>\n",
       "    </tr>\n",
       "    <tr>\n",
       "      <th>14674</th>\n",
       "      <td>this phone is nice processing will be successf...</td>\n",
       "    </tr>\n",
       "    <tr>\n",
       "      <th>14675</th>\n",
       "      <td>good product but the pakeging was not enough</td>\n",
       "    </tr>\n",
       "  </tbody>\n",
       "</table>\n",
       "<p>14399 rows × 1 columns</p>\n",
       "</div>"
      ],
      "text/plain": [
       "                                              clean_text\n",
       "index                                                   \n",
       "1                 good but need updates and improvements\n",
       "2      worst mobile i have bought ever battery is dra...\n",
       "3      when i will get my cash back its already january \n",
       "4                                                   good\n",
       "5      the worst phone everthey have changed the last...\n",
       "...                                                  ...\n",
       "14671  i really like the phone everything is working ...\n",
       "14672  the lenovo k note is awesome it takes best pic...\n",
       "14673                           awesome gaget this price\n",
       "14674  this phone is nice processing will be successf...\n",
       "14675      good product but the pakeging was not enough \n",
       "\n",
       "[14399 rows x 1 columns]"
      ]
     },
     "execution_count": 293,
     "metadata": {},
     "output_type": "execute_result"
    }
   ],
   "source": [
    "data_only_for_gingerit"
   ]
  },
  {
   "cell_type": "code",
   "execution_count": 297,
   "id": "d993b12f",
   "metadata": {},
   "outputs": [],
   "source": [
    "data_for_index = data_only_for_gingerit.loc[14277:14399,:]"
   ]
  },
  {
   "cell_type": "code",
   "execution_count": 300,
   "id": "86847f75",
   "metadata": {},
   "outputs": [
    {
     "name": "stdout",
     "output_type": "stream",
     "text": [
      "14277\n",
      "very worst this mobilebatry pack up only or hrs connected with hearing speak does not well-to-do charge takes hrs to charge filling\n",
      "14278\n",
      "explore it properly, you will love using it \n",
      "14279\n",
      "Vr Gd\n",
      "14280\n",
      "the phone switches off itself when kept on charging sometimes apps stop working\n",
      "14281\n",
      "battery is not good\n",
      "14282\n",
      "dust entered in mobile camera within a few weeks after I bought it, I contacted the service center they solved the issue, but now I have the same problem once again I definitely won't buy any Lenovo or Motorola phone again \n",
      "14283\n",
      "waste of the money no gallery and don't save a SIM card save only email id battery charging time is  hosting issues\n",
      "14284\n",
      "using it for around two weeks as of now the phone is completely awesome and worth for money battery backup and optimization is a completely cool camera and depth sensing is a cool feature deca core mediatek performance is beyond expectation \n",
      "14285\n",
      "another killer\n",
      "14286\n",
      "gets warm quickly\n",
      "14287\n",
      "good at this price\n",
      "14288\n",
      "What is not working properly not good for g network? \n",
      "14289\n",
      "I am satisfied for this product\n",
      "14290\n",
      "Zabardast phone him it is a fabulous fantasy and a smart, active phone for the young generation\n",
      "14291\n",
      "nice\n",
      "14292\n",
      "handset and performance okay, but there's no headset as part of the accessories\n",
      "14293\n",
      "The battery is me, but it works like me also camera is not good \n",
      "14294\n",
      "Ok, not awesome or good\n",
      "14295\n",
      "Don't buy unnecessary heating at idle position some time phone starts heating this phone does not support that hence you cannot make calls by Jio seem it is only a g lte phone only calls made out of calls trial by Jio SIM while mobile data is on the phone is good but battery back up not as expected and call recording facility not given by default\n",
      "14296\n",
      "good phone in budget\n",
      "14297\n",
      "this phone problem with cast screen not connected in smart tv automatic call recording issues only one side voice record \n",
      "14298\n",
      "mobile is corrupt battery charging problem battery backup problem \n",
      "14299\n",
      "believe in Lenovo they work well\n",
      "14300\n",
      "good battery drains completely within a day after percent charged \n",
      "14301\n",
      "hi the phone is good but issue with cast screen function on the phone\n",
      "14302\n",
      "low quality and build quality is poor \n",
      "14303\n",
      "the phone is quite good and enormous it's worth it, but there's been a problem with a Dolby Atmos sound sometime it's working and sometime it's not \n",
      "14304\n",
      "Awesome mobile I'm using from last months paisa vasool mobile no complaint yet \n",
      "14305\n",
      "one of the best phone I think in its price range good news for the user oreo update available \n",
      "14306\n",
      "superb phone worth for money\n",
      "14307\n",
      "good phone under this price pros good display first fingerprint sensor good processor stock android good front cameracons average dual camera average battery life software performance average, but last many users claim heating issue its true but not an overheat overall good budget phone\n",
      "14308\n",
      "great mobile performance is so good\n",
      "14309\n",
      "good mobile \n",
      "14310\n",
      "A hard copy of the bill is missing\n",
      "14311\n",
      "nice mobile\n",
      "14312\n",
      "mobile is very good for this cost\n",
      "14313\n",
      "this phone has basic issues while calling also and I've been to their service center in marathalli Bangalore they talk good they try hard and the max they can do is just replace the software nothing more I'm fed up going to them again and again waiting for hours with the same issue \n",
      "14314\n",
      "omg battery drainage is very fast without use\n",
      "14315\n",
      "Awesome phone just buys\n",
      "14316\n",
      "good and better phone\n",
      "14317\n",
      "not good\n",
      "14318\n",
      "worst phone ever from Lenovo the latest oreo update has lot of bugs to which Lenovo don't even respond battery always getting heat up after the update unable to turn off the mobile data which drains the data and battery in no time there are many customer struggling because of this don't buy this phone had to give one star as there is no option of zero or minus rating \n",
      "14319\n",
      "The battery got heat and drained fast and turbo charger and charging is fake it take  fully charging about two hrs \n",
      "14320\n",
      "Lenovo k note model not good we unable to work more than an hr mobile any apps because of mobile getting over heat battery back up worst please do not buy this item\n",
      "14321\n",
      "excellent for the price\n",
      "14322\n",
      "very bed phone\n",
      "14323\n",
      "suddenly my Lenovo k note was switched off and I have tried a lot to get on but unfortunately it was not on after I did a reboot to start finally it was started after hours but I don't know when it will be again get off \n",
      "14324\n",
      "it has a heating problem\n",
      "14325\n",
      "nice one powerful and useful\n",
      "14326\n",
      "bad product poor camera quality installed softwares are poor heat too much one speaker of my ordered mobile is not working \n",
      "14327\n",
      "started giving issues within months\n",
      "14328\n",
      "very nice phone\n",
      "14329\n",
      "best for under k\n",
      "14330\n",
      "provide a software update to this phone heating issue are there and for the camera to make the depth mode more effective and enable the LED notification for missed calls and unread message of WhatsApp and other apps\n",
      "14331\n",
      "good in this budget\n",
      "14332\n",
      "this phone fell down not from a height just from the bed and broke the screen within no time, moreover for long day searched for service center, but could not find one  aligarhthis phone stops each application you open and gives a msg that this app has been stopped \n",
      "14333\n",
      "good phone, but charging takes a whole lot of time and battery also drains pretty fast \n",
      "14334\n",
      "very bad performance after weeks of purchase, phone is getting turned off even if there is a battery and restarting after hrs even having speaker issues \n",
      "14335\n",
      "superb product\n",
      "14336\n",
      "it came with old firmware and took hours for update multiple updates thought I am upgrading my phone from Lenovo note to Lenovo note, but lots of good features missing definitely not worth the money post oreo update the phone is heating up a lot service center not having any resolution\n",
      "14337\n",
      "a little bit heating problem\n",
      "14338\n",
      "The Lenovo k note has big battery issues and over heating issue \n",
      "14339\n",
      "worst phone hrs battery life heats up hangs amazon tested and confirmed the battery draining, but not taking back as I don't have its box warning do not buy I had to sell and buy another phone \n",
      "14340\n",
      "very easy to handle even while travelling battery life is excellent gets little warm when used for more than half an hour at a stretch tough yet trendy \n",
      "14341\n",
      "The phone is good but has little problem with network connection also getting heat\n",
      "14342\n",
      "good one\n",
      "14343\n",
      "it is a good phone except slight heating issue and photo quality is not so good phone heated up lightly after two min of use \n",
      "14345\n",
      "problems to attach to a PC\n",
      "14346\n",
      "great phone no lag no other issue great front camera back camera is also good just depth mode need more update edges are not that sharp great phone at these go for it\n",
      "14347\n",
      "the phone has some serious heating issue\n",
      "14348\n",
      "huge network problem n sensor are also not working properly guide battery life and sound\n",
      "14349\n",
      "heating problem\n",
      "14350\n",
      "after months of usage, turbo charging is not working properly and such options are missing in this phone like wireless cast screen mode\n",
      "14351\n",
      "worst camera phone heats up very quickly hang frequently not worth the price to top it all worst customer service from amazon \n",
      "14352\n",
      "everything is best in this price range, so grab it \n",
      "14353\n",
      "Best phone I never had the heating problems, no hang as I playing asphalt and extreme gestures are not new and nothing added camera is excellent in sunlight, but poor in low light and room capture selfie camera is good and superb \n",
      "14354\n",
      "incumbent big dyjddhndjjccbnnxcnnxfj\n",
      "14355\n",
      "It's awesome\n",
      "14356\n",
      "depth mode doesn't work properly battery drains faster front cam design t looks like the MP split screen was amazing gaming was better\n",
      "14357\n",
      "it could be better \n",
      "14358\n",
      "The company claims that rear camera is on the map, but it seems like less than an MP after using days I found it hangs a lot while using now I don't know that should I do I have purchased this phone because of its configuration but it didn't work for me \n",
      "14359\n",
      "Don't buy this product \n",
      "14360\n",
      "Every bed cell phone in Lenovo\n",
      "14361\n",
      "good\n",
      "14362\n",
      "rough and tough mobile\n",
      "14363\n",
      "Yeah its a good product development of Lenovo company camera picture quality is good, it's easy to handle and maintain according to me the speaker are having performance, low the sound is audible as Lenovo k other than that everything performance to its best\n",
      "14364\n"
     ]
    },
    {
     "name": "stdout",
     "output_type": "stream",
     "text": [
      "I got the mobile is good condition and has been using it and found it in good condition until the new Lenovo software update happened the mobile with new system update started restarting itself after every mins and I have to re login each time I think the update should never be done in any phone started restarting itself after every mins and I have to re login each time I think the update should never be done in any phone using b lzksuxf Lenovo k note venom black GB very unhappy with the software hope lenova will get back to me asap \n",
      "14365\n",
      "good\n",
      "14366\n",
      "awesome\n",
      "14367\n",
      "worst product of my life and total waste of money would like to give zero stars, but there's no option for it \n",
      "14368\n",
      "best phone best camera best sounds quality, best performance everything is best of the best I like this gadget so much \n",
      "14369\n",
      "k is great thanks\n",
      "14370\n",
      "good\n",
      "14371\n",
      "good battery backup camera was excellent self is brilliant overall good phone storage capacity excellent ram good \n",
      "14372\n",
      "Worst money\n",
      "14373\n",
      "good\n",
      "14374\n",
      "my phone nice phone heating, but good camera nicely \n",
      "14375\n",
      "good for the price, but still as it is Lenovo no software update provided\n",
      "14376\n",
      "not happy with this product had some cooler dots on screen\n",
      "14377\n",
      "best in class, special cameras and selfie camera is awesome\n",
      "14378\n",
      "excellent mobile I enjoyed very much\n",
      "14379\n",
      "awesome phone in range of awesome camerabrilliant battery backup fast chargingsmooth touch, everything is very good\n",
      "14380\n",
      "great device with awesome performance \n",
      "14381\n",
      "on time delivered a good product\n",
      "14382\n",
      "good product at best price \n",
      "14383\n",
      "camera video mode time picture is automatically friction problem, but overall mobile is good \n",
      "14384\n",
      "very nice phone goes for itekdum jhakas product very smooth functioning smart phone \n",
      "14385\n",
      "I have been using this mobile around months now I am facing few issues like battery \n",
      "14386\n",
      "back camera is not capturing the photos kindly help\n",
      "14387\n",
      "very good and of smart category phone at low price \n",
      "14388\n",
      "best budget mobile high quality camera good performance graphicsstylish design big battery performance\n",
      "14389\n",
      "good\n",
      "14390\n",
      "very good product but did not get an ear phone though the same is covered under warranty \n",
      "14391\n",
      "The K note network failed camera not good Lenovo k note in very good\n",
      "14392\n",
      "worst mobile slows down in months with very few apps installed \n",
      "14393\n",
      "nice product one should buy it\n",
      "14394\n",
      "good\n",
      "14395\n",
      "heating issue\n",
      "14396\n",
      "one of the dual speakers is not working\n",
      "14397\n",
      "bad phone very bad I would not recommend u to buy this sh t battery drains out very quickly turbo charger, do not work sometimes depth sensor is very bad worst ram management major lags sometimes build quality is good, but everything else is bad in this phone bought it for the GB model the day I received this phone the price falls and now it I'm very disappointed and they didn't replaced my phone when I was trying to replace it because the phone is very bad\n",
      "14398\n",
      "poor battery n Jio not working\n",
      "14399\n",
      "sir yeh phone Chori ho Gaya choice track car\n"
     ]
    }
   ],
   "source": [
    "a = 0\n",
    "for x in data_for_index['clean_text']:\n",
    "    print(data_for_index.index[a])\n",
    "    print(parser.parse(x)['result'])\n",
    "    a = a + 1"
   ]
  },
  {
   "cell_type": "code",
   "execution_count": 294,
   "id": "de7f5e4a",
   "metadata": {},
   "outputs": [],
   "source": [
    "data_after_gingerit = pd.DataFrame()"
   ]
  },
  {
   "cell_type": "code",
   "execution_count": 296,
   "id": "5ec63671",
   "metadata": {},
   "outputs": [],
   "source": [
    "data_for_index = data_only_for_gingerit"
   ]
  },
  {
   "cell_type": "code",
   "execution_count": 385,
   "id": "b174524d",
   "metadata": {},
   "outputs": [],
   "source": [
    "#data_for_index = data_only_for_gingerit.loc[1501:3000,:]"
   ]
  },
  {
   "cell_type": "code",
   "execution_count": 322,
   "id": "98e3c3f9",
   "metadata": {},
   "outputs": [],
   "source": [
    "#data_proba['reviews'] = parser.parse(data_for_index.loc[1,:])['result']"
   ]
  },
  {
   "cell_type": "code",
   "execution_count": 323,
   "id": "25701a98",
   "metadata": {},
   "outputs": [
    {
     "data": {
      "text/html": [
       "<div>\n",
       "<style scoped>\n",
       "    .dataframe tbody tr th:only-of-type {\n",
       "        vertical-align: middle;\n",
       "    }\n",
       "\n",
       "    .dataframe tbody tr th {\n",
       "        vertical-align: top;\n",
       "    }\n",
       "\n",
       "    .dataframe thead th {\n",
       "        text-align: right;\n",
       "    }\n",
       "</style>\n",
       "<table border=\"1\" class=\"dataframe\">\n",
       "  <thead>\n",
       "    <tr style=\"text-align: right;\">\n",
       "      <th></th>\n",
       "      <th>reviews</th>\n",
       "    </tr>\n",
       "  </thead>\n",
       "  <tbody>\n",
       "    <tr>\n",
       "      <th>clean_text</th>\n",
       "      <td>good but need updates and improvements</td>\n",
       "    </tr>\n",
       "  </tbody>\n",
       "</table>\n",
       "</div>"
      ],
      "text/plain": [
       "                                           reviews\n",
       "clean_text  good but need updates and improvements"
      ]
     },
     "execution_count": 323,
     "metadata": {},
     "output_type": "execute_result"
    }
   ],
   "source": [
    "#data_proba"
   ]
  },
  {
   "cell_type": "code",
   "execution_count": 374,
   "id": "eb53a306",
   "metadata": {},
   "outputs": [],
   "source": [
    "#data_after_gingerit_do500 = pd.DataFrame.from_dict(data_for_index['clean_text'].apply(lambda x: parser.parse(x)['result']))\n",
    "\n",
    "#a = 0\n",
    "#for x in data_for_index['clean_text']:\n",
    "#    print(data_for_index.index[a])\n",
    "#    data_after_gingerit['reviews'] = parser.parse(x)['result']\n",
    "#    a = a + 1"
   ]
  },
  {
   "cell_type": "code",
   "execution_count": 376,
   "id": "43d34a10",
   "metadata": {},
   "outputs": [
    {
     "data": {
      "text/html": [
       "<div>\n",
       "<style scoped>\n",
       "    .dataframe tbody tr th:only-of-type {\n",
       "        vertical-align: middle;\n",
       "    }\n",
       "\n",
       "    .dataframe tbody tr th {\n",
       "        vertical-align: top;\n",
       "    }\n",
       "\n",
       "    .dataframe thead th {\n",
       "        text-align: right;\n",
       "    }\n",
       "</style>\n",
       "<table border=\"1\" class=\"dataframe\">\n",
       "  <thead>\n",
       "    <tr style=\"text-align: right;\">\n",
       "      <th></th>\n",
       "      <th>clean_text</th>\n",
       "    </tr>\n",
       "    <tr>\n",
       "      <th>index</th>\n",
       "      <th></th>\n",
       "    </tr>\n",
       "  </thead>\n",
       "  <tbody>\n",
       "    <tr>\n",
       "      <th>1</th>\n",
       "      <td>good but need updates and improvements</td>\n",
       "    </tr>\n",
       "    <tr>\n",
       "      <th>2</th>\n",
       "      <td>worst mobile I have bought ever battery is dra...</td>\n",
       "    </tr>\n",
       "    <tr>\n",
       "      <th>3</th>\n",
       "      <td>when I got my cash back its already January</td>\n",
       "    </tr>\n",
       "    <tr>\n",
       "      <th>4</th>\n",
       "      <td>good</td>\n",
       "    </tr>\n",
       "    <tr>\n",
       "      <th>5</th>\n",
       "      <td>the worst phone ever they have changed the las...</td>\n",
       "    </tr>\n",
       "    <tr>\n",
       "      <th>...</th>\n",
       "      <td>...</td>\n",
       "    </tr>\n",
       "    <tr>\n",
       "      <th>496</th>\n",
       "      <td>very bad and when Lenovo and the moto merged t...</td>\n",
       "    </tr>\n",
       "    <tr>\n",
       "      <th>497</th>\n",
       "      <td>good deal through amazon</td>\n",
       "    </tr>\n",
       "    <tr>\n",
       "      <th>498</th>\n",
       "      <td>nice phone</td>\n",
       "    </tr>\n",
       "    <tr>\n",
       "      <th>499</th>\n",
       "      <td>almost same as k note, but memory n software u...</td>\n",
       "    </tr>\n",
       "    <tr>\n",
       "      <th>500</th>\n",
       "      <td>not as expected average battery you have to ch...</td>\n",
       "    </tr>\n",
       "  </tbody>\n",
       "</table>\n",
       "<p>493 rows × 1 columns</p>\n",
       "</div>"
      ],
      "text/plain": [
       "                                              clean_text\n",
       "index                                                   \n",
       "1                 good but need updates and improvements\n",
       "2      worst mobile I have bought ever battery is dra...\n",
       "3           when I got my cash back its already January \n",
       "4                                                   good\n",
       "5      the worst phone ever they have changed the las...\n",
       "...                                                  ...\n",
       "496    very bad and when Lenovo and the moto merged t...\n",
       "497                            good deal through amazon \n",
       "498                                           nice phone\n",
       "499    almost same as k note, but memory n software u...\n",
       "500    not as expected average battery you have to ch...\n",
       "\n",
       "[493 rows x 1 columns]"
      ]
     },
     "execution_count": 376,
     "metadata": {},
     "output_type": "execute_result"
    }
   ],
   "source": [
    "#data_after_gingerit_do500"
   ]
  },
  {
   "cell_type": "code",
   "execution_count": 379,
   "id": "c55eb696",
   "metadata": {},
   "outputs": [],
   "source": [
    "#data_after_gingerit_do1000 = pd.DataFrame.from_dict(data_for_index['clean_text'].apply(lambda x: parser.parse(x)['result']))"
   ]
  },
  {
   "cell_type": "code",
   "execution_count": 380,
   "id": "3339642d",
   "metadata": {},
   "outputs": [
    {
     "data": {
      "text/html": [
       "<div>\n",
       "<style scoped>\n",
       "    .dataframe tbody tr th:only-of-type {\n",
       "        vertical-align: middle;\n",
       "    }\n",
       "\n",
       "    .dataframe tbody tr th {\n",
       "        vertical-align: top;\n",
       "    }\n",
       "\n",
       "    .dataframe thead th {\n",
       "        text-align: right;\n",
       "    }\n",
       "</style>\n",
       "<table border=\"1\" class=\"dataframe\">\n",
       "  <thead>\n",
       "    <tr style=\"text-align: right;\">\n",
       "      <th></th>\n",
       "      <th>clean_text</th>\n",
       "    </tr>\n",
       "    <tr>\n",
       "      <th>index</th>\n",
       "      <th></th>\n",
       "    </tr>\n",
       "  </thead>\n",
       "  <tbody>\n",
       "    <tr>\n",
       "      <th>501</th>\n",
       "      <td>Bakwas phone</td>\n",
       "    </tr>\n",
       "    <tr>\n",
       "      <th>502</th>\n",
       "      <td>front camera quality is poor auto focus doesn'...</td>\n",
       "    </tr>\n",
       "    <tr>\n",
       "      <th>503</th>\n",
       "      <td>The product is good, but I didn't like amazon ...</td>\n",
       "    </tr>\n",
       "    <tr>\n",
       "      <th>504</th>\n",
       "      <td>heating problem during charging and working on...</td>\n",
       "    </tr>\n",
       "    <tr>\n",
       "      <th>505</th>\n",
       "      <td>The only problem I see is it taking too much t...</td>\n",
       "    </tr>\n",
       "    <tr>\n",
       "      <th>...</th>\n",
       "      <td>...</td>\n",
       "    </tr>\n",
       "    <tr>\n",
       "      <th>996</th>\n",
       "      <td>The camera is poor</td>\n",
       "    </tr>\n",
       "    <tr>\n",
       "      <th>997</th>\n",
       "      <td>The Lenovo k note is a very good product at th...</td>\n",
       "    </tr>\n",
       "    <tr>\n",
       "      <th>998</th>\n",
       "      <td>best ever phone good camera quality, good ram ...</td>\n",
       "    </tr>\n",
       "    <tr>\n",
       "      <th>999</th>\n",
       "      <td>looking good phone not hanging battery, very good</td>\n",
       "    </tr>\n",
       "    <tr>\n",
       "      <th>1000</th>\n",
       "      <td>The phone is good but is too large difficult t...</td>\n",
       "    </tr>\n",
       "  </tbody>\n",
       "</table>\n",
       "<p>488 rows × 1 columns</p>\n",
       "</div>"
      ],
      "text/plain": [
       "                                              clean_text\n",
       "index                                                   \n",
       "501                                         Bakwas phone\n",
       "502    front camera quality is poor auto focus doesn'...\n",
       "503    The product is good, but I didn't like amazon ...\n",
       "504    heating problem during charging and working on...\n",
       "505    The only problem I see is it taking too much t...\n",
       "...                                                  ...\n",
       "996                                  The camera is poor \n",
       "997    The Lenovo k note is a very good product at th...\n",
       "998    best ever phone good camera quality, good ram ...\n",
       "999    looking good phone not hanging battery, very good\n",
       "1000   The phone is good but is too large difficult t...\n",
       "\n",
       "[488 rows x 1 columns]"
      ]
     },
     "execution_count": 380,
     "metadata": {},
     "output_type": "execute_result"
    }
   ],
   "source": [
    "#data_after_gingerit_do1000"
   ]
  },
  {
   "cell_type": "code",
   "execution_count": 382,
   "id": "0e42286e",
   "metadata": {},
   "outputs": [],
   "source": [
    "#data_after_gingerit_do1500 = pd.DataFrame.from_dict(data_for_index['clean_text'].apply(lambda x: parser.parse(x)['result']))"
   ]
  },
  {
   "cell_type": "code",
   "execution_count": 384,
   "id": "e6ad1818",
   "metadata": {},
   "outputs": [
    {
     "data": {
      "text/html": [
       "<div>\n",
       "<style scoped>\n",
       "    .dataframe tbody tr th:only-of-type {\n",
       "        vertical-align: middle;\n",
       "    }\n",
       "\n",
       "    .dataframe tbody tr th {\n",
       "        vertical-align: top;\n",
       "    }\n",
       "\n",
       "    .dataframe thead th {\n",
       "        text-align: right;\n",
       "    }\n",
       "</style>\n",
       "<table border=\"1\" class=\"dataframe\">\n",
       "  <thead>\n",
       "    <tr style=\"text-align: right;\">\n",
       "      <th></th>\n",
       "      <th>clean_text</th>\n",
       "    </tr>\n",
       "    <tr>\n",
       "      <th>index</th>\n",
       "      <th></th>\n",
       "    </tr>\n",
       "  </thead>\n",
       "  <tbody>\n",
       "    <tr>\n",
       "      <th>1001</th>\n",
       "      <td>I am facing many problems not able to cast scr...</td>\n",
       "    </tr>\n",
       "    <tr>\n",
       "      <th>1002</th>\n",
       "      <td>good</td>\n",
       "    </tr>\n",
       "    <tr>\n",
       "      <th>1003</th>\n",
       "      <td>no call recorder heats a lot in web browsing l...</td>\n",
       "    </tr>\n",
       "    <tr>\n",
       "      <th>1004</th>\n",
       "      <td>nice phone for everyone in</td>\n",
       "    </tr>\n",
       "    <tr>\n",
       "      <th>1005</th>\n",
       "      <td>very good mobile Lenovo k note</td>\n",
       "    </tr>\n",
       "    <tr>\n",
       "      <th>...</th>\n",
       "      <td>...</td>\n",
       "    </tr>\n",
       "    <tr>\n",
       "      <th>1496</th>\n",
       "      <td>my experience is very bad it is not charging p...</td>\n",
       "    </tr>\n",
       "    <tr>\n",
       "      <th>1497</th>\n",
       "      <td>very worst phone battery life is too poor batt...</td>\n",
       "    </tr>\n",
       "    <tr>\n",
       "      <th>1498</th>\n",
       "      <td>got Lenovo k note intake box today, thank you ...</td>\n",
       "    </tr>\n",
       "    <tr>\n",
       "      <th>1499</th>\n",
       "      <td>Mobil process is really super and camera front...</td>\n",
       "    </tr>\n",
       "    <tr>\n",
       "      <th>1500</th>\n",
       "      <td>great phone at this price range I used both re...</td>\n",
       "    </tr>\n",
       "  </tbody>\n",
       "</table>\n",
       "<p>489 rows × 1 columns</p>\n",
       "</div>"
      ],
      "text/plain": [
       "                                              clean_text\n",
       "index                                                   \n",
       "1001   I am facing many problems not able to cast scr...\n",
       "1002                                                good\n",
       "1003   no call recorder heats a lot in web browsing l...\n",
       "1004                         nice phone for everyone in \n",
       "1005                      very good mobile Lenovo k note\n",
       "...                                                  ...\n",
       "1496   my experience is very bad it is not charging p...\n",
       "1497   very worst phone battery life is too poor batt...\n",
       "1498   got Lenovo k note intake box today, thank you ...\n",
       "1499   Mobil process is really super and camera front...\n",
       "1500   great phone at this price range I used both re...\n",
       "\n",
       "[489 rows x 1 columns]"
      ]
     },
     "execution_count": 384,
     "metadata": {},
     "output_type": "execute_result"
    }
   ],
   "source": [
    "#data_after_gingerit_do1500"
   ]
  },
  {
   "cell_type": "code",
   "execution_count": 386,
   "id": "ed9705cc",
   "metadata": {},
   "outputs": [],
   "source": [
    "#data_after_gingerit_do3000 = pd.DataFrame.from_dict(data_for_index['clean_text'].apply(lambda x: parser.parse(x)['result']))"
   ]
  },
  {
   "cell_type": "code",
   "execution_count": 387,
   "id": "42f705fe",
   "metadata": {},
   "outputs": [
    {
     "data": {
      "text/html": [
       "<div>\n",
       "<style scoped>\n",
       "    .dataframe tbody tr th:only-of-type {\n",
       "        vertical-align: middle;\n",
       "    }\n",
       "\n",
       "    .dataframe tbody tr th {\n",
       "        vertical-align: top;\n",
       "    }\n",
       "\n",
       "    .dataframe thead th {\n",
       "        text-align: right;\n",
       "    }\n",
       "</style>\n",
       "<table border=\"1\" class=\"dataframe\">\n",
       "  <thead>\n",
       "    <tr style=\"text-align: right;\">\n",
       "      <th></th>\n",
       "      <th>clean_text</th>\n",
       "    </tr>\n",
       "    <tr>\n",
       "      <th>index</th>\n",
       "      <th></th>\n",
       "    </tr>\n",
       "  </thead>\n",
       "  <tbody>\n",
       "    <tr>\n",
       "      <th>1501</th>\n",
       "      <td>camera quality is not up to the mark</td>\n",
       "    </tr>\n",
       "    <tr>\n",
       "      <th>1502</th>\n",
       "      <td>very bad product full mobile heat it's like an...</td>\n",
       "    </tr>\n",
       "    <tr>\n",
       "      <th>1504</th>\n",
       "      <td>I received phone quickly short time good work</td>\n",
       "    </tr>\n",
       "    <tr>\n",
       "      <th>1505</th>\n",
       "      <td>A camera awesome touch performance good sound ...</td>\n",
       "    </tr>\n",
       "    <tr>\n",
       "      <th>1507</th>\n",
       "      <td>I received damage phone, please arrange returned</td>\n",
       "    </tr>\n",
       "    <tr>\n",
       "      <th>...</th>\n",
       "      <td>...</td>\n",
       "    </tr>\n",
       "    <tr>\n",
       "      <th>2996</th>\n",
       "      <td>gaming camera display and sound quality phone ...</td>\n",
       "    </tr>\n",
       "    <tr>\n",
       "      <th>2997</th>\n",
       "      <td>this mobile is good in terms of battery life d...</td>\n",
       "    </tr>\n",
       "    <tr>\n",
       "      <th>2998</th>\n",
       "      <td>not friendly</td>\n",
       "    </tr>\n",
       "    <tr>\n",
       "      <th>2999</th>\n",
       "      <td>the phone is doing great in terms of camera qu...</td>\n",
       "    </tr>\n",
       "    <tr>\n",
       "      <th>3000</th>\n",
       "      <td>bhut accha handset hai but mujhe ye ptaa nhi c...</td>\n",
       "    </tr>\n",
       "  </tbody>\n",
       "</table>\n",
       "<p>1473 rows × 1 columns</p>\n",
       "</div>"
      ],
      "text/plain": [
       "                                              clean_text\n",
       "index                                                   \n",
       "1501                camera quality is not up to the mark\n",
       "1502   very bad product full mobile heat it's like an...\n",
       "1504      I received phone quickly short time good work \n",
       "1505   A camera awesome touch performance good sound ...\n",
       "1507    I received damage phone, please arrange returned\n",
       "...                                                  ...\n",
       "2996   gaming camera display and sound quality phone ...\n",
       "2997   this mobile is good in terms of battery life d...\n",
       "2998                                       not friendly \n",
       "2999   the phone is doing great in terms of camera qu...\n",
       "3000   bhut accha handset hai but mujhe ye ptaa nhi c...\n",
       "\n",
       "[1473 rows x 1 columns]"
      ]
     },
     "execution_count": 387,
     "metadata": {},
     "output_type": "execute_result"
    }
   ],
   "source": [
    "#data_after_gingerit_do3000"
   ]
  },
  {
   "cell_type": "code",
   "execution_count": 297,
   "id": "f9949269",
   "metadata": {},
   "outputs": [],
   "source": [
    "data_after_gingerit = pd.DataFrame.from_dict(data_for_index['clean_text'].apply(lambda x: parser.parse(x)['result']))"
   ]
  },
  {
   "cell_type": "code",
   "execution_count": 299,
   "id": "9888f628",
   "metadata": {},
   "outputs": [
    {
     "data": {
      "text/html": [
       "<div>\n",
       "<style scoped>\n",
       "    .dataframe tbody tr th:only-of-type {\n",
       "        vertical-align: middle;\n",
       "    }\n",
       "\n",
       "    .dataframe tbody tr th {\n",
       "        vertical-align: top;\n",
       "    }\n",
       "\n",
       "    .dataframe thead th {\n",
       "        text-align: right;\n",
       "    }\n",
       "</style>\n",
       "<table border=\"1\" class=\"dataframe\">\n",
       "  <thead>\n",
       "    <tr style=\"text-align: right;\">\n",
       "      <th></th>\n",
       "      <th>clean_text</th>\n",
       "    </tr>\n",
       "    <tr>\n",
       "      <th>index</th>\n",
       "      <th></th>\n",
       "    </tr>\n",
       "  </thead>\n",
       "  <tbody>\n",
       "    <tr>\n",
       "      <th>1</th>\n",
       "      <td>good but need updates and improvements</td>\n",
       "    </tr>\n",
       "    <tr>\n",
       "      <th>2</th>\n",
       "      <td>worst mobile I have bought ever battery is dra...</td>\n",
       "    </tr>\n",
       "    <tr>\n",
       "      <th>3</th>\n",
       "      <td>when I got my cash back its already January</td>\n",
       "    </tr>\n",
       "    <tr>\n",
       "      <th>4</th>\n",
       "      <td>good</td>\n",
       "    </tr>\n",
       "    <tr>\n",
       "      <th>5</th>\n",
       "      <td>the worst phone ever they have changed the las...</td>\n",
       "    </tr>\n",
       "    <tr>\n",
       "      <th>...</th>\n",
       "      <td>...</td>\n",
       "    </tr>\n",
       "    <tr>\n",
       "      <th>14671</th>\n",
       "      <td>I really like the phone everything is working ...</td>\n",
       "    </tr>\n",
       "    <tr>\n",
       "      <th>14672</th>\n",
       "      <td>the Lenovo k note is awesome it takes better p...</td>\n",
       "    </tr>\n",
       "    <tr>\n",
       "      <th>14673</th>\n",
       "      <td>awesome gadget this price</td>\n",
       "    </tr>\n",
       "    <tr>\n",
       "      <th>14674</th>\n",
       "      <td>this phone is nice processing will be successf...</td>\n",
       "    </tr>\n",
       "    <tr>\n",
       "      <th>14675</th>\n",
       "      <td>good product, but the packaging was not enough</td>\n",
       "    </tr>\n",
       "  </tbody>\n",
       "</table>\n",
       "<p>14399 rows × 1 columns</p>\n",
       "</div>"
      ],
      "text/plain": [
       "                                              clean_text\n",
       "index                                                   \n",
       "1                 good but need updates and improvements\n",
       "2      worst mobile I have bought ever battery is dra...\n",
       "3           when I got my cash back its already January \n",
       "4                                                   good\n",
       "5      the worst phone ever they have changed the las...\n",
       "...                                                  ...\n",
       "14671  I really like the phone everything is working ...\n",
       "14672  the Lenovo k note is awesome it takes better p...\n",
       "14673                          awesome gadget this price\n",
       "14674  this phone is nice processing will be successf...\n",
       "14675    good product, but the packaging was not enough \n",
       "\n",
       "[14399 rows x 1 columns]"
      ]
     },
     "execution_count": 299,
     "metadata": {},
     "output_type": "execute_result"
    }
   ],
   "source": [
    "data_after_gingerit"
   ]
  },
  {
   "cell_type": "code",
   "execution_count": 300,
   "id": "6584ad2d",
   "metadata": {},
   "outputs": [],
   "source": [
    "data_after_gingerit.to_csv('Reviews_after_gingerIt.csv')"
   ]
  }
 ],
 "metadata": {
  "kernelspec": {
   "display_name": "Python 3 (ipykernel)",
   "language": "python",
   "name": "python3"
  },
  "language_info": {
   "codemirror_mode": {
    "name": "ipython",
    "version": 3
   },
   "file_extension": ".py",
   "mimetype": "text/x-python",
   "name": "python",
   "nbconvert_exporter": "python",
   "pygments_lexer": "ipython3",
   "version": "3.9.12"
  }
 },
 "nbformat": 4,
 "nbformat_minor": 5
}
